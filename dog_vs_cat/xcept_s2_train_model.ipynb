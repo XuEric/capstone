{
 "cells": [
  {
   "cell_type": "markdown",
   "metadata": {},
   "source": [
    "## Step 2 - 训练, 6 conv\n"
   ]
  },
  {
   "cell_type": "code",
   "execution_count": 1,
   "metadata": {
    "collapsed": false
   },
   "outputs": [
    {
     "name": "stdout",
     "output_type": "stream",
     "text": [
      "dogsvscats-0.001-xception.model\n"
     ]
    }
   ],
   "source": [
    "import numpy as np         \n",
    "import os                  \n",
    "\n",
    "from settings import *\n",
    "\n",
    "MODEL_NAME = 'dogsvscats-{}-{}.model'.format(LR, 'xception') \n",
    "\n",
    "print(MODEL_NAME)\n"
   ]
  },
  {
   "cell_type": "markdown",
   "metadata": {},
   "source": [
    "切分训练和测试数据集"
   ]
  },
  {
   "cell_type": "code",
   "execution_count": 5,
   "metadata": {
    "collapsed": false
   },
   "outputs": [
    {
     "name": "stderr",
     "output_type": "stream",
     "text": [
      "Using TensorFlow backend.\n"
     ]
    }
   ],
   "source": [
    "\n",
    "'''Xception V1 model for Keras.\n",
    "\n",
    "On ImageNet, this model gets to a top-1 validation accuracy of 0.790.\n",
    "and a top-5 validation accuracy of 0.945.\n",
    "\n",
    "Do note that the input image format for this model is different than for\n",
    "the VGG16 and ResNet models (299x299 instead of 224x224),\n",
    "and that the input preprocessing function\n",
    "is also different (same as Inception V3).\n",
    "\n",
    "Also do note that this model is only available for the TensorFlow backend,\n",
    "due to its reliance on `SeparableConvolution` layers.\n",
    "\n",
    "# Reference:\n",
    "\n",
    "- [Xception: Deep Learning with Depthwise Separable Convolutions](https://arxiv.org/abs/1610.02357)\n",
    "\n",
    "'''\n",
    "from __future__ import print_function\n",
    "from __future__ import absolute_import\n",
    "\n",
    "import warnings\n",
    "import numpy as np\n",
    "\n",
    "from keras.preprocessing import image\n",
    "\n",
    "from keras.models import Model\n",
    "from keras import layers\n",
    "from keras.layers import Dense\n",
    "from keras.layers import Input\n",
    "from keras.layers import BatchNormalization\n",
    "from keras.layers import Activation\n",
    "from keras.layers import Conv2D\n",
    "from keras.layers import SeparableConv2D\n",
    "from keras.layers import MaxPooling2D\n",
    "from keras.layers import GlobalAveragePooling2D\n",
    "from keras.layers import GlobalMaxPooling2D\n",
    "from keras.engine.topology import get_source_inputs\n",
    "from keras import backend as K\n",
    "from keras.applications.imagenet_utils import decode_predictions\n",
    "from keras.applications.imagenet_utils import _obtain_input_shape\n",
    "import os\n",
    "\n",
    "def Xception(include_top=True, input_tensor=None, input_shape=None,\n",
    "             pooling=None,\n",
    "             classes=2, LR=1e-3):\n",
    "\t\"\"\"Instantiates the Xception architecture.\n",
    "\n",
    "\tOptionally loads weights pre-trained\n",
    "\ton ImageNet. This model is available for TensorFlow only,\n",
    "\tand can only be used with inputs following the TensorFlow\n",
    "\tdata format `(width, height, channels)`.\n",
    "\tYou should set `image_data_format=\"channels_last\"` in your Keras config\n",
    "\tlocated at ~/.keras/keras.json.\n",
    "\n",
    "\tNote that the default input image size for this model is 299x299.\n",
    "\n",
    "\t# Arguments\n",
    "\t\tinclude_top: whether to include the fully-connected\n",
    "\t\t\tlayer at the top of the network.\n",
    "\t\tinput_tensor: optional Keras tensor (i.e. output of `layers.Input()`)\n",
    "\t\t\tto use as image input for the model.\n",
    "\t\tinput_shape: optional shape tuple, only to be specified\n",
    "\t\t\tif `include_top` is False (otherwise the input shape\n",
    "\t\t\thas to be `(299, 299, 3)`.\n",
    "\t\t\tIt should have exactly 3 inputs channels,\n",
    "\t\t\tand width and height should be no smaller than 71.\n",
    "\t\t\tE.g. `(150, 150, 3)` would be one valid value.\n",
    "\t\tpooling: Optional pooling mode for feature extraction\n",
    "\t\t\twhen `include_top` is `False`.\n",
    "\t\t\t- `None` means that the output of the model will be\n",
    "\t\t\t\tthe 4D tensor output of the\n",
    "\t\t\t\tlast convolutional layer.\n",
    "\t\t\t- `avg` means that global average pooling\n",
    "\t\t\t\twill be applied to the output of the\n",
    "\t\t\t\tlast convolutional layer, and thus\n",
    "\t\t\t\tthe output of the model will be a 2D tensor.\n",
    "\t\t\t- `max` means that global max pooling will\n",
    "\t\t\t\tbe applied.\n",
    "\t\tclasses: optional number of classes to classify images\n",
    "\t\t\tinto, only to be specified if `include_top` is True, and\n",
    "\t\t\tif no `weights` argument is specified.\n",
    "\n",
    "\t# Returns\n",
    "\t\tA Keras model instance.\n",
    "\n",
    "\t# Raises\n",
    "\t\tValueError: in case of invalid argument for `weights`,\n",
    "\t\t\tor invalid input shape.\n",
    "\t\tRuntimeError: If attempting to run this model with a\n",
    "\t\t\tbackend that does not support separable convolutions.\n",
    "\t\"\"\"\n",
    "\n",
    "\tif K.backend() != 'tensorflow':\n",
    "\t\traise RuntimeError('The Xception model is only available with '\n",
    "\t\t                   'the TensorFlow backend.')\n",
    "\n",
    "\tif K.image_data_format() != 'channels_last':\n",
    "\t\traise RuntimeError('The Xception model is only available for the '\n",
    "\t\t                   'input data format \"channels_last\" '\n",
    "\t\t                   '(width, height, channels). '\n",
    "\t\t                   'However your settings specify the default '\n",
    "\t\t                   'data format \"channels_first\" (channels, width, height). '\n",
    "\t\t                   'You should set `image_data_format=\"channels_last\"` in your Keras '\n",
    "\t\t                   'config located at ~/.keras/keras.json. '\n",
    "\t\t                   'The model being returned right now will expect inputs '\n",
    "\t\t                   'to follow the \"channels_last\" data format.')\n",
    "\n",
    "\tK.set_image_data_format('channels_last')\n",
    "\n",
    "\t# Determine proper input shape\n",
    "\tinput_shape = _obtain_input_shape(input_shape,\n",
    "\t                                  default_size=87,\n",
    "\t                                  min_size=71,\n",
    "\t                                  data_format=K.image_data_format(),\n",
    "\t                                  include_top=include_top)\n",
    "\n",
    "\tif input_tensor is None:\n",
    "\t\timg_input = Input(shape=input_shape)\n",
    "\telse:\n",
    "\t\tif not K.is_keras_tensor(input_tensor):\n",
    "\t\t\timg_input = Input(tensor=input_tensor, shape=input_shape)\n",
    "\t\telse:\n",
    "\t\t\timg_input = input_tensor\n",
    "\n",
    "\tx = Conv2D(32, (3, 3), strides=(2, 2), use_bias=False, name='block1_conv1')(img_input)\n",
    "\tx = BatchNormalization(name='block1_conv1_bn')(x)\n",
    "\tx = Activation('relu', name='block1_conv1_act')(x)\n",
    "\tx = Conv2D(64, (3, 3), use_bias=False, name='block1_conv2')(x)\n",
    "\tx = BatchNormalization(name='block1_conv2_bn')(x)\n",
    "\tx = Activation('relu', name='block1_conv2_act')(x)\n",
    "\n",
    "\tresidual = Conv2D(128, (1, 1), strides=(2, 2),\n",
    "\t                  padding='same', use_bias=False)(x)\n",
    "\tresidual = BatchNormalization()(residual)\n",
    "\n",
    "\tx = SeparableConv2D(128, (3, 3), padding='same', use_bias=False, name='block2_sepconv1')(x)\n",
    "\tx = BatchNormalization(name='block2_sepconv1_bn')(x)\n",
    "\tx = Activation('relu', name='block2_sepconv2_act')(x)\n",
    "\tx = SeparableConv2D(128, (3, 3), padding='same', use_bias=False, name='block2_sepconv2')(x)\n",
    "\tx = BatchNormalization(name='block2_sepconv2_bn')(x)\n",
    "\n",
    "\tx = MaxPooling2D((3, 3), strides=(2, 2), padding='same', name='block2_pool')(x)\n",
    "\tx = layers.add([x, residual])\n",
    "\n",
    "\tresidual = Conv2D(256, (1, 1), strides=(2, 2),\n",
    "\t                  padding='same', use_bias=False)(x)\n",
    "\tresidual = BatchNormalization()(residual)\n",
    "\n",
    "\tx = Activation('relu', name='block3_sepconv1_act')(x)\n",
    "\tx = SeparableConv2D(256, (3, 3), padding='same', use_bias=False, name='block3_sepconv1')(x)\n",
    "\tx = BatchNormalization(name='block3_sepconv1_bn')(x)\n",
    "\tx = Activation('relu', name='block3_sepconv2_act')(x)\n",
    "\tx = SeparableConv2D(256, (3, 3), padding='same', use_bias=False, name='block3_sepconv2')(x)\n",
    "\tx = BatchNormalization(name='block3_sepconv2_bn')(x)\n",
    "\n",
    "\tx = MaxPooling2D((3, 3), strides=(2, 2), padding='same', name='block3_pool')(x)\n",
    "\tx = layers.add([x, residual])\n",
    "\n",
    "\tresidual = Conv2D(728, (1, 1), strides=(2, 2),\n",
    "\t                  padding='same', use_bias=False)(x)\n",
    "\tresidual = BatchNormalization()(residual)\n",
    "\n",
    "\tx = Activation('relu', name='block4_sepconv1_act')(x)\n",
    "\tx = SeparableConv2D(728, (3, 3), padding='same', use_bias=False, name='block4_sepconv1')(x)\n",
    "\tx = BatchNormalization(name='block4_sepconv1_bn')(x)\n",
    "\tx = Activation('relu', name='block4_sepconv2_act')(x)\n",
    "\tx = SeparableConv2D(728, (3, 3), padding='same', use_bias=False, name='block4_sepconv2')(x)\n",
    "\tx = BatchNormalization(name='block4_sepconv2_bn')(x)\n",
    "\n",
    "\tx = MaxPooling2D((3, 3), strides=(2, 2), padding='same', name='block4_pool')(x)\n",
    "\tx = layers.add([x, residual])\n",
    "\n",
    "\tfor i in range(8):\n",
    "\t\tresidual = x\n",
    "\t\tprefix = 'block' + str(i + 5)\n",
    "\n",
    "\t\tx = Activation('relu', name=prefix + '_sepconv1_act')(x)\n",
    "\t\tx = SeparableConv2D(728, (3, 3), padding='same', use_bias=False, name=prefix + '_sepconv1')(x)\n",
    "\t\tx = BatchNormalization(name=prefix + '_sepconv1_bn')(x)\n",
    "\t\tx = Activation('relu', name=prefix + '_sepconv2_act')(x)\n",
    "\t\tx = SeparableConv2D(728, (3, 3), padding='same', use_bias=False, name=prefix + '_sepconv2')(x)\n",
    "\t\tx = BatchNormalization(name=prefix + '_sepconv2_bn')(x)\n",
    "\t\tx = Activation('relu', name=prefix + '_sepconv3_act')(x)\n",
    "\t\tx = SeparableConv2D(728, (3, 3), padding='same', use_bias=False, name=prefix + '_sepconv3')(x)\n",
    "\t\tx = BatchNormalization(name=prefix + '_sepconv3_bn')(x)\n",
    "\n",
    "\t\tx = layers.add([x, residual])\n",
    "\n",
    "\tresidual = Conv2D(1024, (1, 1), strides=(2, 2),\n",
    "\t                  padding='same', use_bias=False)(x)\n",
    "\tresidual = BatchNormalization()(residual)\n",
    "\n",
    "\tx = Activation('relu', name='block13_sepconv1_act')(x)\n",
    "\tx = SeparableConv2D(728, (3, 3), padding='same', use_bias=False, name='block13_sepconv1')(x)\n",
    "\tx = BatchNormalization(name='block13_sepconv1_bn')(x)\n",
    "\tx = Activation('relu', name='block13_sepconv2_act')(x)\n",
    "\tx = SeparableConv2D(1024, (3, 3), padding='same', use_bias=False, name='block13_sepconv2')(x)\n",
    "\tx = BatchNormalization(name='block13_sepconv2_bn')(x)\n",
    "\n",
    "\tx = MaxPooling2D((3, 3), strides=(2, 2), padding='same', name='block13_pool')(x)\n",
    "\tx = layers.add([x, residual])\n",
    "\n",
    "\tx = SeparableConv2D(1536, (3, 3), padding='same', use_bias=False, name='block14_sepconv1')(x)\n",
    "\tx = BatchNormalization(name='block14_sepconv1_bn')(x)\n",
    "\tx = Activation('relu', name='block14_sepconv1_act')(x)\n",
    "\n",
    "\tx = SeparableConv2D(2048, (3, 3), padding='same', use_bias=False, name='block14_sepconv2')(x)\n",
    "\tx = BatchNormalization(name='block14_sepconv2_bn')(x)\n",
    "\tx = Activation('relu', name='block14_sepconv2_act')(x)\n",
    "\n",
    "\tif include_top:\n",
    "\t\tx = GlobalAveragePooling2D(name='avg_pool')(x)\n",
    "\t\tx = Dense(classes, activation='softmax', name='predictions')(x)\n",
    "\telse:\n",
    "\t\tif pooling == 'avg':\n",
    "\t\t\tx = GlobalAveragePooling2D()(x)\n",
    "\t\telif pooling == 'max':\n",
    "\t\t\tx = GlobalMaxPooling2D()(x)\n",
    "\n",
    "\t# Ensure that the model takes into account\n",
    "\t# any potential predecessors of `input_tensor`.\n",
    "\tif input_tensor is not None:\n",
    "\t\tinputs = get_source_inputs(input_tensor)\n",
    "\telse:\n",
    "\t\tinputs = img_input\n",
    "\t# Create model.\n",
    "\tmodel = Model(inputs, x, name='xception')\n",
    "\tmodel.compile(optimizer='adam', learning_rate=LR, loss='categorical_crossentropy')\n",
    "\n",
    "\tprint(\"model created,\", model)\n",
    "\n",
    "\treturn model\n",
    "\n"
   ]
  },
  {
   "cell_type": "code",
   "execution_count": 44,
   "metadata": {
    "collapsed": false
   },
   "outputs": [
    {
     "name": "stdout",
     "output_type": "stream",
     "text": [
      "model created, <keras.engine.training.Model object at 0x205812890>\n",
      "model loaded from  dogsvscats-0.001-xception.model\n"
     ]
    }
   ],
   "source": [
    "model = Xception(include_top=True)\n",
    "\n",
    "from keras.models import load_model\n",
    "if os.path.exists(MODEL_NAME):\n",
    "    model = load_model(MODEL_NAME)\n",
    "    print('model loaded from ', MODEL_NAME)\n",
    "else:\n",
    "    print('model instanted')\n"
   ]
  },
  {
   "cell_type": "code",
   "execution_count": 45,
   "metadata": {
    "collapsed": false
   },
   "outputs": [
    {
     "name": "stdout",
     "output_type": "stream",
     "text": [
      "12000\n",
      "X shape (6000, 87, 87, 3) Y shape (6000, 2)\n"
     ]
    }
   ],
   "source": [
    "train_data = np.load(TRAIN_DATA)\n",
    "print(train_data.size)\n",
    "\n",
    "train = train_data\n",
    "\n",
    "X = np.array([i[0] for i in train]).reshape(-1,IMG_SIZE,IMG_SIZE,3)\n",
    "Y = np.array([i[1] for i in train]).reshape(-1, 2)\n",
    "\n",
    "print('X shape', np.shape(X), 'Y shape', np.shape(Y))\n",
    "\n",
    "# test = train_data[-5:]\n",
    "# test_x = np.array([i[0] for i in test]).reshape(-1,IMG_SIZE,IMG_SIZE,3)\n",
    "# test_y = [i[1] for i in test]\n",
    "#print('test X shape', len(test_x), len(test_x[0]), 'test Y shape', len(test_y), len(test_y[0]))\n"
   ]
  },
  {
   "cell_type": "code",
   "execution_count": 57,
   "metadata": {
    "collapsed": false
   },
   "outputs": [
    {
     "name": "stdout",
     "output_type": "stream",
     "text": [
      "Train on 5700 samples, validate on 300 samples\n",
      "Epoch 3/3\n",
      "5700/5700 [==============================] - 2088s - loss: 0.4770 - val_loss: 0.6143\n"
     ]
    },
    {
     "data": {
      "text/plain": [
       "<keras.callbacks.History at 0x230e2ea50>"
      ]
     },
     "execution_count": 57,
     "metadata": {},
     "output_type": "execute_result"
    }
   ],
   "source": [
    "\n",
    "model.fit(X, Y, epochs=3, verbose=1, validation_split=0.05, initial_epoch=2)"
   ]
  },
  {
   "cell_type": "code",
   "execution_count": 48,
   "metadata": {
    "collapsed": false
   },
   "outputs": [
    {
     "name": "stdout",
     "output_type": "stream",
     "text": [
      "model saved dogsvscats-0.001-xception.model\n"
     ]
    }
   ],
   "source": [
    "model.save(MODEL_NAME)\n",
    "print('model saved', MODEL_NAME)"
   ]
  },
  {
   "cell_type": "code",
   "execution_count": 41,
   "metadata": {
    "collapsed": false
   },
   "outputs": [
    {
     "name": "stdout",
     "output_type": "stream",
     "text": [
      "model loaded! <keras.engine.training.Model object at 0x18a947590>\n"
     ]
    }
   ],
   "source": [
    "from keras.models import load_model\n",
    "\n",
    "if os.path.exists('{}'.format(MODEL_NAME)):\n",
    "    model = load_model(MODEL_NAME)\n",
    "    print('model loaded!', model)\n",
    "\n"
   ]
  },
  {
   "cell_type": "code",
   "execution_count": 56,
   "metadata": {
    "collapsed": false
   },
   "outputs": [
    {
     "name": "stdout",
     "output_type": "stream",
     "text": [
      "Input image shape: (1, 87, 87, 3)\n",
      "predict shape: (1, 2) [[ 0.80173457  0.19826543]]\n",
      "0\n"
     ]
    }
   ],
   "source": [
    "def preprocess_input(x):\n",
    "    x /= 255.\n",
    "    x -= 0.5\n",
    "    x *= 2.\n",
    "    return x\n",
    "\n",
    "img_path = 'train/dog.1.jpg'\n",
    "img = image.load_img(img_path, target_size=(IMG_SIZE, IMG_SIZE))\n",
    "x = image.img_to_array(img)\n",
    "x = np.expand_dims(x, axis=0)\n",
    "x = preprocess_input(x)\n",
    "print('Input image shape:', x.shape)\n",
    "\n",
    "preds = model.predict(x)\n",
    "print(\"predict shape:\", preds.shape, preds)\n",
    "print(np.argmax(preds))\n",
    "#\tprint('Predicted:', decode_predictions(preds, 5))\n"
   ]
  },
  {
   "cell_type": "code",
   "execution_count": null,
   "metadata": {
    "collapsed": true
   },
   "outputs": [],
   "source": []
  }
 ],
 "metadata": {
  "anaconda-cloud": {},
  "kernelspec": {
   "display_name": "Python [default]",
   "language": "python",
   "name": "python2"
  },
  "language_info": {
   "codemirror_mode": {
    "name": "ipython",
    "version": 2
   },
   "file_extension": ".py",
   "mimetype": "text/x-python",
   "name": "python",
   "nbconvert_exporter": "python",
   "pygments_lexer": "ipython2",
   "version": "2.7.12"
  }
 },
 "nbformat": 4,
 "nbformat_minor": 0
}
