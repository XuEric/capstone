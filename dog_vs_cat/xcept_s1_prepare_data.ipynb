{
 "cells": [
  {
   "cell_type": "markdown",
   "metadata": {},
   "source": [
    "## Step 1 - 准备测试数据\n"
   ]
  },
  {
   "cell_type": "code",
   "execution_count": 2,
   "metadata": {
    "collapsed": false
   },
   "outputs": [
    {
     "name": "stdout",
     "output_type": "stream",
     "text": [
      "87\n"
     ]
    }
   ],
   "source": [
    "import numpy as np         \n",
    "import os                  \n",
    "from random import shuffle # 混洗训练数据\n",
    "from tqdm import tqdm      \n",
    "\n",
    "from settings import *\n",
    "\n",
    "print(IMG_SIZE)\n"
   ]
  },
  {
   "cell_type": "markdown",
   "metadata": {},
   "source": [
    "文件名形如: \n",
    "\n",
    "- dog.9991.jpg\n",
    "- cat.9990.jpg"
   ]
  },
  {
   "cell_type": "code",
   "execution_count": 3,
   "metadata": {
    "collapsed": false
   },
   "outputs": [
    {
     "name": "stdout",
     "output_type": "stream",
     "text": [
      "[1, 0]\n",
      "[0, 1]\n",
      "[0, 0]\n"
     ]
    }
   ],
   "source": [
    "def label_img(img):\n",
    "    word_label = img.split('.')[-3]\n",
    "    # conversion to one-hot array [cat,dog]\n",
    "    #                            [much cat, no dog]\n",
    "    if word_label == 'cat': return [1,0]\n",
    "    #                             [no cat, very doggo]\n",
    "    elif word_label == 'dog': return [0,1]\n",
    "    else: return [0,0]\n",
    "\n",
    "print label_img(\"cat.9994.jpg\")\n",
    "print label_img(\"dog.9994.jpg\")\n",
    "print label_img(\"monkey.9994.jpg\")\n"
   ]
  },
  {
   "cell_type": "code",
   "execution_count": 4,
   "metadata": {
    "collapsed": true
   },
   "outputs": [],
   "source": [
    "def preprocess_input(x):\n",
    "    x /= 255.\n",
    "    x -= 0.5\n",
    "    x *= 2.\n",
    "    return x\n"
   ]
  },
  {
   "cell_type": "code",
   "execution_count": 6,
   "metadata": {
    "collapsed": false
   },
   "outputs": [
    {
     "name": "stderr",
     "output_type": "stream",
     "text": [
      "Using TensorFlow backend.\n"
     ]
    }
   ],
   "source": [
    "from keras.preprocessing import image\n",
    "\n",
    "def read_img_array(img_path):\n",
    "    img = image.load_img(img_path, target_size=(IMG_SIZE, IMG_SIZE))\n",
    "    x = image.img_to_array(img)\n",
    "    x = np.expand_dims(x, axis=0)\n",
    "    x = preprocess_input(x)\n",
    "    \n",
    "    return x"
   ]
  },
  {
   "cell_type": "code",
   "execution_count": 28,
   "metadata": {
    "collapsed": true
   },
   "outputs": [],
   "source": [
    "def create_train_data():\n",
    "    training_data = []\n",
    "    for img in tqdm(os.listdir(TRAIN_DIR)):\n",
    "        label = label_img(img)\n",
    "        img_path = os.path.join(TRAIN_DIR,img)\n",
    "        img_array = read_img_array(img_path)\n",
    "        training_data.append([np.array(img_array),np.array(label)])\n",
    "        print(label)\n",
    "        \n",
    "    shuffle(training_data)\n",
    "    np.save(TRAIN_DATA, training_data)\n",
    "    return training_data\n",
    "\n",
    "\n",
    "\n",
    "\n",
    "\n"
   ]
  },
  {
   "cell_type": "code",
   "execution_count": 9,
   "metadata": {
    "collapsed": true
   },
   "outputs": [],
   "source": [
    "def create_test_data():\n",
    "    testing_data = []\n",
    "    for img in tqdm(os.listdir(TEST_DIR)):\n",
    "        img_path = os.path.join(TEST_DIR,img)\n",
    "        img_num = img.split('.')[0]\n",
    "        img_array = read_img_array(img_path)\n",
    "        testing_data.append([np.array(img_array), img_num])\n",
    "        \n",
    "    shuffle(testing_data)\n",
    "    np.save(TEST_DATA, testing_data)\n",
    "    return testing_data"
   ]
  },
  {
   "cell_type": "code",
   "execution_count": 29,
   "metadata": {
    "collapsed": false
   },
   "outputs": [
    {
     "name": "stderr",
     "output_type": "stream",
     "text": [
      "  0%|          | 8/6000 [00:00<03:43, 26.85it/s]"
     ]
    },
    {
     "name": "stdout",
     "output_type": "stream",
     "text": [
      "[1, 0]\n",
      "[1, 0]\n",
      "[1, 0]\n",
      "[1, 0]\n",
      "[1, 0]\n",
      "[1, 0]\n",
      "[1, 0]\n",
      "[1, 0]\n"
     ]
    },
    {
     "name": "stderr",
     "output_type": "stream",
     "text": [
      "\r",
      "  0%|          | 14/6000 [00:00<03:13, 30.87it/s]"
     ]
    },
    {
     "name": "stdout",
     "output_type": "stream",
     "text": [
      "[1, 0]\n",
      "[1, 0]\n",
      "[1, 0]\n",
      "[1, 0]\n",
      "[1, 0]\n",
      "[1, 0]\n",
      "[1, 0]\n",
      "[1, 0]\n",
      "[1, 0]\n",
      "[1, 0]\n",
      "[1, 0]\n"
     ]
    },
    {
     "name": "stderr",
     "output_type": "stream",
     "text": [
      "  0%|          | 26/6000 [00:00<02:30, 39.74it/s]"
     ]
    },
    {
     "name": "stdout",
     "output_type": "stream",
     "text": [
      "[1, 0]\n",
      "[1, 0]\n",
      "[1, 0]\n",
      "[1, 0]\n",
      "[1, 0]\n",
      "[1, 0]\n",
      "[1, 0]\n",
      "[1, 0]\n",
      "[1, 0]\n",
      "[1, 0]\n",
      "[1, 0]\n"
     ]
    },
    {
     "name": "stderr",
     "output_type": "stream",
     "text": [
      "  1%|          | 37/6000 [00:00<02:19, 42.75it/s]"
     ]
    },
    {
     "name": "stdout",
     "output_type": "stream",
     "text": [
      "[1, 0]\n",
      "[1, 0]\n",
      "[1, 0]\n",
      "[1, 0]\n",
      "[1, 0]\n",
      "[1, 0]\n",
      "[1, 0]\n",
      "[1, 0]\n",
      "[1, 0]\n",
      "[1, 0]\n",
      "[1, 0]\n"
     ]
    },
    {
     "name": "stderr",
     "output_type": "stream",
     "text": [
      "  1%|          | 50/6000 [00:01<02:05, 47.55it/s]"
     ]
    },
    {
     "name": "stdout",
     "output_type": "stream",
     "text": [
      "[1, 0]\n",
      "[1, 0]\n",
      "[1, 0]\n",
      "[1, 0]\n",
      "[1, 0]\n",
      "[1, 0]\n",
      "[1, 0]\n",
      "[1, 0]\n",
      "[1, 0]\n",
      "[1, 0]\n",
      "[1, 0]\n"
     ]
    },
    {
     "name": "stderr",
     "output_type": "stream",
     "text": [
      "  1%|          | 60/6000 [00:01<02:21, 42.10it/s]"
     ]
    },
    {
     "name": "stdout",
     "output_type": "stream",
     "text": [
      "[1, 0]\n",
      "[1, 0]\n",
      "[1, 0]\n",
      "[1, 0]\n",
      "[1, 0]\n",
      "[1, 0]\n",
      "[1, 0]\n",
      "[1, 0]\n"
     ]
    },
    {
     "name": "stderr",
     "output_type": "stream",
     "text": [
      "  1%|          | 72/6000 [00:01<02:01, 48.63it/s]"
     ]
    },
    {
     "name": "stdout",
     "output_type": "stream",
     "text": [
      "[1, 0]\n",
      "[1, 0]\n",
      "[1, 0]\n",
      "[1, 0]\n",
      "[1, 0]\n",
      "[1, 0]\n",
      "[1, 0]\n",
      "[1, 0]\n",
      "[1, 0]\n",
      "[1, 0]\n",
      "[1, 0]\n",
      "[1, 0]\n"
     ]
    },
    {
     "name": "stderr",
     "output_type": "stream",
     "text": [
      "\r",
      "  1%|▏         | 78/6000 [00:01<01:55, 51.23it/s]"
     ]
    },
    {
     "name": "stdout",
     "output_type": "stream",
     "text": [
      "[1, 0]\n",
      "[1, 0]\n",
      "[1, 0]\n",
      "[1, 0]\n",
      "[1, 0]\n",
      "[1, 0]\n",
      "[1, 0]\n",
      "[1, 0]\n",
      "[1, 0]\n",
      "[1, 0]\n",
      "[1, 0]\n"
     ]
    },
    {
     "name": "stderr",
     "output_type": "stream",
     "text": [
      "  2%|▏         | 90/6000 [00:01<01:56, 50.93it/s]"
     ]
    },
    {
     "name": "stdout",
     "output_type": "stream",
     "text": [
      "[1, 0]\n",
      "[1, 0]\n",
      "[1, 0]\n",
      "[1, 0]\n",
      "[1, 0]\n",
      "[1, 0]\n",
      "[1, 0]\n",
      "[1, 0]\n",
      "[1, 0]\n",
      "[1, 0]\n",
      "[1, 0]\n"
     ]
    },
    {
     "name": "stderr",
     "output_type": "stream",
     "text": [
      "\r",
      "  2%|▏         | 96/6000 [00:02<02:00, 48.86it/s]"
     ]
    },
    {
     "name": "stdout",
     "output_type": "stream",
     "text": [
      "[1, 0]\n",
      "[1, 0]\n",
      "[1, 0]\n",
      "[1, 0]\n",
      "[1, 0]\n",
      "[1, 0]\n",
      "[1, 0]\n"
     ]
    },
    {
     "name": "stderr",
     "output_type": "stream",
     "text": [
      "  2%|▏         | 107/6000 [00:02<02:27, 39.84it/s]"
     ]
    },
    {
     "name": "stdout",
     "output_type": "stream",
     "text": [
      "[1, 0]\n",
      "[1, 0]\n",
      "[1, 0]\n",
      "[1, 0]\n",
      "[1, 0]\n",
      "[1, 0]\n",
      "[1, 0]\n",
      "[1, 0]\n",
      "[1, 0]\n",
      "[1, 0]\n"
     ]
    },
    {
     "name": "stderr",
     "output_type": "stream",
     "text": [
      "  2%|▏         | 118/6000 [00:02<02:13, 44.20it/s]"
     ]
    },
    {
     "name": "stdout",
     "output_type": "stream",
     "text": [
      "[1, 0]\n",
      "[1, 0]\n",
      "[1, 0]\n",
      "[1, 0]\n",
      "[1, 0]\n",
      "[1, 0]\n",
      "[1, 0]\n",
      "[1, 0]\n",
      "[1, 0]\n",
      "[1, 0]\n",
      "[1, 0]\n"
     ]
    },
    {
     "name": "stderr",
     "output_type": "stream",
     "text": [
      "  2%|▏         | 131/6000 [00:02<02:00, 48.89it/s]"
     ]
    },
    {
     "name": "stdout",
     "output_type": "stream",
     "text": [
      "[1, 0]\n",
      "[1, 0]\n",
      "[1, 0]\n",
      "[1, 0]\n",
      "[1, 0]\n",
      "[1, 0]\n",
      "[1, 0]\n",
      "[1, 0]\n",
      "[1, 0]\n",
      "[1, 0]\n",
      "[1, 0]\n",
      "[1, 0]\n",
      "[1, 0]\n",
      "[1, 0]\n"
     ]
    },
    {
     "name": "stderr",
     "output_type": "stream",
     "text": [
      "  2%|▏         | 143/6000 [00:03<01:59, 49.19it/s]"
     ]
    },
    {
     "name": "stdout",
     "output_type": "stream",
     "text": [
      "[1, 0]\n",
      "[1, 0]\n",
      "[1, 0]\n",
      "[1, 0]\n",
      "[1, 0]\n",
      "[1, 0]\n",
      "[1, 0]\n",
      "[1, 0]\n",
      "[1, 0]\n",
      "[1, 0]\n"
     ]
    },
    {
     "name": "stderr",
     "output_type": "stream",
     "text": [
      "\r",
      "  2%|▏         | 149/6000 [00:03<01:56, 50.08it/s]"
     ]
    },
    {
     "name": "stdout",
     "output_type": "stream",
     "text": [
      "[1, 0]\n",
      "[1, 0]\n",
      "[1, 0]\n",
      "[1, 0]\n",
      "[1, 0]\n"
     ]
    },
    {
     "name": "stderr",
     "output_type": "stream",
     "text": [
      "\r",
      "  3%|▎         | 155/6000 [00:03<02:36, 37.27it/s]"
     ]
    },
    {
     "name": "stdout",
     "output_type": "stream",
     "text": [
      "[1, 0]\n",
      "[1, 0]\n",
      "[1, 0]\n",
      "[1, 0]\n",
      "[1, 0]\n",
      "[1, 0]\n",
      "[1, 0]\n",
      "[1, 0]\n"
     ]
    },
    {
     "name": "stderr",
     "output_type": "stream",
     "text": [
      "  3%|▎         | 165/6000 [00:03<02:55, 33.34it/s]"
     ]
    },
    {
     "name": "stdout",
     "output_type": "stream",
     "text": [
      "[1, 0]\n",
      "[1, 0]\n",
      "[1, 0]\n",
      "[1, 0]\n",
      "[1, 0]\n",
      "[1, 0]\n"
     ]
    },
    {
     "name": "stderr",
     "output_type": "stream",
     "text": [
      "\r",
      "  3%|▎         | 173/6000 [00:03<02:46, 35.08it/s]"
     ]
    },
    {
     "name": "stdout",
     "output_type": "stream",
     "text": [
      "[1, 0]\n",
      "[1, 0]\n",
      "[1, 0]\n",
      "[1, 0]\n",
      "[1, 0]\n",
      "[1, 0]\n",
      "[1, 0]\n",
      "[1, 0]\n",
      "[1, 0]\n"
     ]
    },
    {
     "name": "stderr",
     "output_type": "stream",
     "text": [
      "  3%|▎         | 182/6000 [00:04<02:37, 36.97it/s]"
     ]
    },
    {
     "name": "stdout",
     "output_type": "stream",
     "text": [
      "[1, 0]\n",
      "[1, 0]\n",
      "[1, 0]\n",
      "[1, 0]\n",
      "[1, 0]\n",
      "[1, 0]\n",
      "[1, 0]\n",
      "[1, 0]\n",
      "[1, 0]\n"
     ]
    },
    {
     "name": "stderr",
     "output_type": "stream",
     "text": [
      "\r",
      "  3%|▎         | 186/6000 [00:04<02:57, 32.84it/s]"
     ]
    },
    {
     "name": "stdout",
     "output_type": "stream",
     "text": [
      "[1, 0]\n",
      "[1, 0]\n",
      "[1, 0]\n",
      "[1, 0]\n"
     ]
    },
    {
     "name": "stderr",
     "output_type": "stream",
     "text": [
      "\r",
      "  3%|▎         | 190/6000 [00:04<03:17, 29.35it/s]"
     ]
    },
    {
     "name": "stdout",
     "output_type": "stream",
     "text": [
      "[1, 0]\n",
      "[1, 0]\n",
      "[1, 0]\n",
      "[1, 0]\n",
      "[1, 0]\n",
      "[1, 0]\n"
     ]
    },
    {
     "name": "stderr",
     "output_type": "stream",
     "text": [
      "\r",
      "  3%|▎         | 194/6000 [00:04<03:20, 28.93it/s]"
     ]
    },
    {
     "name": "stdout",
     "output_type": "stream",
     "text": [
      "[1, 0]\n",
      "[1, 0]\n",
      "[1, 0]\n",
      "[1, 0]\n"
     ]
    },
    {
     "name": "stderr",
     "output_type": "stream",
     "text": [
      "  3%|▎         | 202/6000 [00:04<03:30, 27.55it/s]"
     ]
    },
    {
     "name": "stdout",
     "output_type": "stream",
     "text": [
      "[1, 0]\n",
      "[1, 0]\n",
      "[1, 0]\n",
      "[1, 0]\n",
      "[1, 0]\n",
      "[1, 0]\n",
      "[1, 0]\n",
      "[1, 0]\n",
      "[1, 0]\n"
     ]
    },
    {
     "name": "stderr",
     "output_type": "stream",
     "text": [
      "  4%|▎         | 215/6000 [00:05<02:31, 38.17it/s]"
     ]
    },
    {
     "name": "stdout",
     "output_type": "stream",
     "text": [
      "[1, 0]\n",
      "[1, 0]\n",
      "[1, 0]\n",
      "[1, 0]\n",
      "[1, 0]\n",
      "[1, 0]\n",
      "[1, 0]\n",
      "[1, 0]\n",
      "[1, 0]\n",
      "[1, 0]\n"
     ]
    },
    {
     "name": "stderr",
     "output_type": "stream",
     "text": [
      "\r",
      "  4%|▎         | 220/6000 [00:05<02:39, 36.34it/s]"
     ]
    },
    {
     "name": "stdout",
     "output_type": "stream",
     "text": [
      "[1, 0]\n",
      "[1, 0]\n",
      "[1, 0]\n",
      "[1, 0]\n",
      "[1, 0]\n",
      "[1, 0]\n",
      "[1, 0]\n"
     ]
    },
    {
     "name": "stderr",
     "output_type": "stream",
     "text": [
      "  4%|▍         | 229/6000 [00:05<02:59, 32.08it/s]"
     ]
    },
    {
     "name": "stdout",
     "output_type": "stream",
     "text": [
      "[1, 0]\n",
      "[1, 0]\n",
      "[1, 0]\n",
      "[1, 0]\n",
      "[1, 0]\n",
      "[1, 0]\n",
      "[1, 0]\n",
      "[1, 0]\n"
     ]
    },
    {
     "name": "stderr",
     "output_type": "stream",
     "text": [
      "  4%|▍         | 237/6000 [00:05<02:58, 32.37it/s]"
     ]
    },
    {
     "name": "stdout",
     "output_type": "stream",
     "text": [
      "[1, 0]\n",
      "[1, 0]\n",
      "[1, 0]\n",
      "[1, 0]\n",
      "[1, 0]\n",
      "[1, 0]\n"
     ]
    },
    {
     "name": "stderr",
     "output_type": "stream",
     "text": [
      "\r",
      "  4%|▍         | 242/6000 [00:05<02:42, 35.44it/s]"
     ]
    },
    {
     "name": "stdout",
     "output_type": "stream",
     "text": [
      "[1, 0]\n",
      "[1, 0]\n",
      "[1, 0]\n",
      "[1, 0]\n",
      "[1, 0]\n",
      "[1, 0]\n",
      "[1, 0]\n"
     ]
    },
    {
     "name": "stderr",
     "output_type": "stream",
     "text": [
      "  4%|▍         | 250/6000 [00:06<02:54, 32.99it/s]"
     ]
    },
    {
     "name": "stdout",
     "output_type": "stream",
     "text": [
      "[1, 0]\n",
      "[1, 0]\n",
      "[1, 0]\n",
      "[1, 0]\n",
      "[1, 0]\n",
      "[1, 0]\n",
      "[1, 0]\n"
     ]
    },
    {
     "name": "stderr",
     "output_type": "stream",
     "text": [
      "  4%|▍         | 258/6000 [00:06<02:59, 32.03it/s]"
     ]
    },
    {
     "name": "stdout",
     "output_type": "stream",
     "text": [
      "[1, 0]\n",
      "[1, 0]\n",
      "[1, 0]\n",
      "[1, 0]\n",
      "[1, 0]\n",
      "[1, 0]\n",
      "[1, 0]\n",
      "[1, 0]\n",
      "[1, 0]\n"
     ]
    },
    {
     "name": "stderr",
     "output_type": "stream",
     "text": [
      "  4%|▍         | 266/6000 [00:06<02:52, 33.26it/s]"
     ]
    },
    {
     "name": "stdout",
     "output_type": "stream",
     "text": [
      "[1, 0]\n",
      "[1, 0]\n",
      "[1, 0]\n",
      "[1, 0]\n",
      "[1, 0]\n",
      "[1, 0]\n",
      "[1, 0]\n"
     ]
    },
    {
     "name": "stderr",
     "output_type": "stream",
     "text": [
      "  5%|▍         | 274/6000 [00:07<02:56, 32.52it/s]"
     ]
    },
    {
     "name": "stdout",
     "output_type": "stream",
     "text": [
      "[1, 0]\n",
      "[1, 0]\n",
      "[1, 0]\n",
      "[1, 0]\n",
      "[1, 0]\n",
      "[1, 0]\n",
      "[1, 0]\n"
     ]
    },
    {
     "name": "stderr",
     "output_type": "stream",
     "text": [
      "\r",
      "  5%|▍         | 279/6000 [00:07<02:44, 34.68it/s]"
     ]
    },
    {
     "name": "stdout",
     "output_type": "stream",
     "text": [
      "[1, 0]\n",
      "[1, 0]\n",
      "[1, 0]\n",
      "[1, 0]\n",
      "[1, 0]\n",
      "[1, 0]\n",
      "[1, 0]\n"
     ]
    },
    {
     "name": "stderr",
     "output_type": "stream",
     "text": [
      "  5%|▍         | 288/6000 [00:07<02:39, 35.75it/s]"
     ]
    },
    {
     "name": "stdout",
     "output_type": "stream",
     "text": [
      "[1, 0]\n",
      "[1, 0]\n",
      "[1, 0]\n",
      "[1, 0]\n",
      "[1, 0]\n",
      "[1, 0]\n",
      "[1, 0]\n",
      "[1, 0]\n",
      "[1, 0]\n"
     ]
    },
    {
     "name": "stderr",
     "output_type": "stream",
     "text": [
      "  5%|▍         | 296/6000 [00:07<02:39, 35.65it/s]"
     ]
    },
    {
     "name": "stdout",
     "output_type": "stream",
     "text": [
      "[1, 0]\n",
      "[1, 0]\n",
      "[1, 0]\n",
      "[1, 0]\n",
      "[1, 0]\n",
      "[1, 0]\n",
      "[1, 0]\n",
      "[1, 0]\n"
     ]
    },
    {
     "name": "stderr",
     "output_type": "stream",
     "text": [
      "  5%|▌         | 306/6000 [00:07<02:34, 36.94it/s]"
     ]
    },
    {
     "name": "stdout",
     "output_type": "stream",
     "text": [
      "[1, 0]\n",
      "[1, 0]\n",
      "[1, 0]\n",
      "[1, 0]\n",
      "[1, 0]\n",
      "[1, 0]\n",
      "[1, 0]\n",
      "[1, 0]\n"
     ]
    },
    {
     "name": "stderr",
     "output_type": "stream",
     "text": [
      "\r",
      "  5%|▌         | 311/6000 [00:07<02:27, 38.56it/s]"
     ]
    },
    {
     "name": "stdout",
     "output_type": "stream",
     "text": [
      "[1, 0]\n",
      "[1, 0]\n",
      "[1, 0]\n",
      "[1, 0]\n",
      "[1, 0]\n",
      "[1, 0]\n",
      "[1, 0]\n"
     ]
    },
    {
     "name": "stderr",
     "output_type": "stream",
     "text": [
      "  5%|▌         | 319/6000 [00:08<02:59, 31.68it/s]"
     ]
    },
    {
     "name": "stdout",
     "output_type": "stream",
     "text": [
      "[1, 0]\n",
      "[1, 0]\n",
      "[1, 0]\n",
      "[1, 0]\n",
      "[1, 0]\n",
      "[1, 0]\n",
      "[1, 0]\n"
     ]
    },
    {
     "name": "stderr",
     "output_type": "stream",
     "text": [
      "  5%|▌         | 327/6000 [00:08<02:44, 34.54it/s]"
     ]
    },
    {
     "name": "stdout",
     "output_type": "stream",
     "text": [
      "[1, 0]\n",
      "[1, 0]\n",
      "[1, 0]\n",
      "[1, 0]\n",
      "[1, 0]\n",
      "[1, 0]\n",
      "[1, 0]\n"
     ]
    },
    {
     "name": "stderr",
     "output_type": "stream",
     "text": [
      "\r",
      "  6%|▌         | 331/6000 [00:08<02:53, 32.68it/s]"
     ]
    },
    {
     "name": "stdout",
     "output_type": "stream",
     "text": [
      "[1, 0]\n",
      "[1, 0]\n",
      "[1, 0]\n",
      "[1, 0]\n",
      "[1, 0]\n",
      "[1, 0]\n",
      "[1, 0]\n"
     ]
    },
    {
     "name": "stderr",
     "output_type": "stream",
     "text": [
      "  6%|▌         | 339/6000 [00:08<02:53, 32.69it/s]"
     ]
    },
    {
     "name": "stdout",
     "output_type": "stream",
     "text": [
      "[1, 0]\n",
      "[1, 0]\n",
      "[1, 0]\n",
      "[1, 0]\n",
      "[1, 0]\n",
      "[1, 0]\n",
      "[1, 0]\n"
     ]
    },
    {
     "name": "stderr",
     "output_type": "stream",
     "text": [
      "  6%|▌         | 347/6000 [00:09<02:49, 33.35it/s]"
     ]
    },
    {
     "name": "stdout",
     "output_type": "stream",
     "text": [
      "[1, 0]\n",
      "[1, 0]\n",
      "[1, 0]\n",
      "[1, 0]\n",
      "[1, 0]\n",
      "[1, 0]\n",
      "[1, 0]\n",
      "[1, 0]\n",
      "[1, 0]\n"
     ]
    },
    {
     "name": "stderr",
     "output_type": "stream",
     "text": [
      "  6%|▌         | 355/6000 [00:09<02:53, 32.60it/s]"
     ]
    },
    {
     "name": "stdout",
     "output_type": "stream",
     "text": [
      "[1, 0]\n",
      "[1, 0]\n",
      "[1, 0]\n",
      "[1, 0]\n",
      "[1, 0]\n",
      "[1, 0]\n",
      "[1, 0]\n"
     ]
    },
    {
     "name": "stderr",
     "output_type": "stream",
     "text": [
      "  6%|▌         | 363/6000 [00:09<02:50, 33.12it/s]"
     ]
    },
    {
     "name": "stdout",
     "output_type": "stream",
     "text": [
      "[1, 0]\n",
      "[1, 0]\n",
      "[1, 0]\n",
      "[1, 0]\n",
      "[1, 0]\n",
      "[1, 0]\n",
      "[1, 0]\n",
      "[1, 0]\n",
      "[1, 0]\n"
     ]
    },
    {
     "name": "stderr",
     "output_type": "stream",
     "text": [
      "  6%|▌         | 373/6000 [00:09<02:28, 37.78it/s]"
     ]
    },
    {
     "name": "stdout",
     "output_type": "stream",
     "text": [
      "[1, 0]\n",
      "[1, 0]\n",
      "[1, 0]\n",
      "[1, 0]\n",
      "[1, 0]\n",
      "[1, 0]\n",
      "[1, 0]\n",
      "[1, 0]\n",
      "[1, 0]\n"
     ]
    },
    {
     "name": "stderr",
     "output_type": "stream",
     "text": [
      "\r",
      "  6%|▋         | 379/6000 [00:09<02:22, 39.39it/s]"
     ]
    },
    {
     "name": "stdout",
     "output_type": "stream",
     "text": [
      "[1, 0]\n",
      "[1, 0]\n",
      "[1, 0]\n",
      "[1, 0]\n",
      "[1, 0]\n",
      "[1, 0]\n",
      "[1, 0]\n",
      "[1, 0]\n"
     ]
    },
    {
     "name": "stderr",
     "output_type": "stream",
     "text": [
      "  6%|▋         | 388/6000 [00:10<02:32, 36.71it/s]"
     ]
    },
    {
     "name": "stdout",
     "output_type": "stream",
     "text": [
      "[1, 0]\n",
      "[1, 0]\n",
      "[1, 0]\n",
      "[1, 0]\n",
      "[1, 0]\n",
      "[1, 0]\n",
      "[1, 0]\n",
      "[1, 0]\n"
     ]
    },
    {
     "name": "stderr",
     "output_type": "stream",
     "text": [
      "\r",
      "  7%|▋         | 394/6000 [00:10<02:20, 39.77it/s]"
     ]
    },
    {
     "name": "stdout",
     "output_type": "stream",
     "text": [
      "[1, 0]\n",
      "[1, 0]\n",
      "[1, 0]\n",
      "[1, 0]\n",
      "[1, 0]\n",
      "[1, 0]\n",
      "[1, 0]\n"
     ]
    },
    {
     "name": "stderr",
     "output_type": "stream",
     "text": [
      "  7%|▋         | 404/6000 [00:10<02:25, 38.34it/s]"
     ]
    },
    {
     "name": "stdout",
     "output_type": "stream",
     "text": [
      "[1, 0]\n",
      "[1, 0]\n",
      "[1, 0]\n",
      "[1, 0]\n",
      "[1, 0]\n",
      "[1, 0]\n",
      "[1, 0]\n",
      "[1, 0]\n"
     ]
    },
    {
     "name": "stderr",
     "output_type": "stream",
     "text": [
      "  7%|▋         | 415/6000 [00:10<02:26, 38.14it/s]"
     ]
    },
    {
     "name": "stdout",
     "output_type": "stream",
     "text": [
      "[1, 0]\n",
      "[1, 0]\n",
      "[1, 0]\n",
      "[1, 0]\n",
      "[1, 0]\n",
      "[1, 0]\n",
      "[1, 0]\n",
      "[1, 0]\n",
      "[1, 0]\n",
      "[1, 0]\n"
     ]
    },
    {
     "name": "stderr",
     "output_type": "stream",
     "text": [
      "\r",
      "  7%|▋         | 420/6000 [00:11<02:38, 35.10it/s]"
     ]
    },
    {
     "name": "stdout",
     "output_type": "stream",
     "text": [
      "[1, 0]\n",
      "[1, 0]\n",
      "[1, 0]\n",
      "[1, 0]\n",
      "[1, 0]\n",
      "[1, 0]\n",
      "[1, 0]\n"
     ]
    },
    {
     "name": "stderr",
     "output_type": "stream",
     "text": [
      "  7%|▋         | 428/6000 [00:11<02:40, 34.62it/s]"
     ]
    },
    {
     "name": "stdout",
     "output_type": "stream",
     "text": [
      "[1, 0]\n",
      "[1, 0]\n",
      "[1, 0]\n",
      "[1, 0]\n",
      "[1, 0]\n",
      "[1, 0]\n",
      "[1, 0]\n"
     ]
    },
    {
     "name": "stderr",
     "output_type": "stream",
     "text": [
      "  7%|▋         | 437/6000 [00:11<02:58, 31.14it/s]"
     ]
    },
    {
     "name": "stdout",
     "output_type": "stream",
     "text": [
      "[1, 0]\n",
      "[1, 0]\n",
      "[1, 0]\n",
      "[1, 0]\n",
      "[1, 0]\n",
      "[1, 0]\n",
      "[1, 0]\n",
      "[1, 0]\n",
      "[1, 0]\n",
      "[1, 0]\n"
     ]
    },
    {
     "name": "stderr",
     "output_type": "stream",
     "text": [
      "  8%|▊         | 450/6000 [00:11<02:22, 38.87it/s]"
     ]
    },
    {
     "name": "stdout",
     "output_type": "stream",
     "text": [
      "[1, 0]\n",
      "[1, 0]\n",
      "[1, 0]\n",
      "[1, 0]\n",
      "[1, 0]\n",
      "[1, 0]\n",
      "[1, 0]\n",
      "[1, 0]\n",
      "[1, 0]\n",
      "[1, 0]\n",
      "[1, 0]\n"
     ]
    },
    {
     "name": "stderr",
     "output_type": "stream",
     "text": [
      "\r",
      "  8%|▊         | 460/6000 [00:12<01:58, 46.75it/s]"
     ]
    },
    {
     "name": "stdout",
     "output_type": "stream",
     "text": [
      "[1, 0]\n",
      "[1, 0]\n",
      "[1, 0]\n",
      "[1, 0]\n",
      "[1, 0]\n",
      "[1, 0]\n",
      "[1, 0]\n",
      "[1, 0]\n",
      "[1, 0]\n",
      "[1, 0]\n",
      "[1, 0]\n",
      "[1, 0]\n",
      "[1, 0]\n"
     ]
    },
    {
     "name": "stderr",
     "output_type": "stream",
     "text": [
      "  8%|▊         | 472/6000 [00:12<02:04, 44.56it/s]"
     ]
    },
    {
     "name": "stdout",
     "output_type": "stream",
     "text": [
      "[1, 0]\n",
      "[1, 0]\n",
      "[1, 0]\n",
      "[1, 0]\n",
      "[1, 0]\n",
      "[1, 0]\n",
      "[1, 0]\n",
      "[1, 0]\n",
      "[1, 0]\n",
      "[1, 0]\n"
     ]
    },
    {
     "name": "stderr",
     "output_type": "stream",
     "text": [
      "\r",
      "  8%|▊         | 478/6000 [00:12<01:55, 47.65it/s]"
     ]
    },
    {
     "name": "stdout",
     "output_type": "stream",
     "text": [
      "[1, 0]\n",
      "[1, 0]\n",
      "[1, 0]\n",
      "[1, 0]\n",
      "[1, 0]\n",
      "[1, 0]\n",
      "[1, 0]\n",
      "[1, 0]\n",
      "[1, 0]\n",
      "[1, 0]\n"
     ]
    },
    {
     "name": "stderr",
     "output_type": "stream",
     "text": [
      "  8%|▊         | 492/6000 [00:12<01:50, 50.05it/s]"
     ]
    },
    {
     "name": "stdout",
     "output_type": "stream",
     "text": [
      "[1, 0]\n",
      "[1, 0]\n",
      "[1, 0]\n",
      "[1, 0]\n",
      "[1, 0]\n",
      "[1, 0]\n",
      "[1, 0]\n",
      "[1, 0]\n",
      "[1, 0]\n",
      "[1, 0]\n"
     ]
    },
    {
     "name": "stderr",
     "output_type": "stream",
     "text": [
      "\r",
      "  8%|▊         | 498/6000 [00:12<02:38, 34.61it/s]"
     ]
    },
    {
     "name": "stdout",
     "output_type": "stream",
     "text": [
      "[1, 0]\n",
      "[1, 0]\n",
      "[1, 0]\n",
      "[1, 0]\n"
     ]
    },
    {
     "name": "stderr",
     "output_type": "stream",
     "text": [
      "\r",
      "  8%|▊         | 503/6000 [00:13<02:43, 33.54it/s]"
     ]
    },
    {
     "name": "stdout",
     "output_type": "stream",
     "text": [
      "[1, 0]\n",
      "[1, 0]\n",
      "[1, 0]\n",
      "[1, 0]\n",
      "[1, 0]\n",
      "[1, 0]\n",
      "[1, 0]\n",
      "[1, 0]\n",
      "[1, 0]\n",
      "[1, 0]\n"
     ]
    },
    {
     "name": "stderr",
     "output_type": "stream",
     "text": [
      "  9%|▊         | 515/6000 [00:13<02:10, 42.13it/s]"
     ]
    },
    {
     "name": "stdout",
     "output_type": "stream",
     "text": [
      "[1, 0]\n",
      "[1, 0]\n",
      "[1, 0]\n",
      "[1, 0]\n",
      "[1, 0]\n",
      "[1, 0]\n",
      "[1, 0]\n",
      "[1, 0]\n",
      "[1, 0]\n",
      "[1, 0]\n",
      "[1, 0]\n",
      "[1, 0]\n"
     ]
    },
    {
     "name": "stderr",
     "output_type": "stream",
     "text": [
      "  9%|▉         | 526/6000 [00:13<02:06, 43.16it/s]"
     ]
    },
    {
     "name": "stdout",
     "output_type": "stream",
     "text": [
      "[1, 0]\n",
      "[1, 0]\n",
      "[1, 0]\n",
      "[1, 0]\n",
      "[1, 0]\n",
      "[1, 0]\n",
      "[1, 0]\n",
      "[1, 0]\n"
     ]
    },
    {
     "name": "stderr",
     "output_type": "stream",
     "text": [
      "  9%|▉         | 536/6000 [00:13<02:16, 40.15it/s]"
     ]
    },
    {
     "name": "stdout",
     "output_type": "stream",
     "text": [
      "[1, 0]\n",
      "[1, 0]\n",
      "[1, 0]\n",
      "[1, 0]\n",
      "[1, 0]\n",
      "[1, 0]\n",
      "[1, 0]\n",
      "[1, 0]\n",
      "[1, 0]\n"
     ]
    },
    {
     "name": "stderr",
     "output_type": "stream",
     "text": [
      "\r",
      "  9%|▉         | 541/6000 [00:14<02:28, 36.67it/s]"
     ]
    },
    {
     "name": "stdout",
     "output_type": "stream",
     "text": [
      "[1, 0]\n",
      "[1, 0]\n",
      "[1, 0]\n",
      "[1, 0]\n",
      "[1, 0]\n",
      "[1, 0]\n"
     ]
    },
    {
     "name": "stderr",
     "output_type": "stream",
     "text": [
      "  9%|▉         | 549/6000 [00:14<02:33, 35.45it/s]"
     ]
    },
    {
     "name": "stdout",
     "output_type": "stream",
     "text": [
      "[1, 0]\n",
      "[1, 0]\n",
      "[1, 0]\n",
      "[1, 0]\n",
      "[1, 0]\n",
      "[1, 0]\n",
      "[1, 0]\n",
      "[1, 0]\n",
      "[1, 0]\n"
     ]
    },
    {
     "name": "stderr",
     "output_type": "stream",
     "text": [
      "\r",
      "  9%|▉         | 556/6000 [00:14<02:16, 39.91it/s]"
     ]
    },
    {
     "name": "stdout",
     "output_type": "stream",
     "text": [
      "[1, 0]\n",
      "[1, 0]\n",
      "[1, 0]\n",
      "[1, 0]\n",
      "[1, 0]\n",
      "[1, 0]\n",
      "[1, 0]\n"
     ]
    },
    {
     "name": "stderr",
     "output_type": "stream",
     "text": [
      "  9%|▉         | 565/6000 [00:14<02:50, 31.94it/s]"
     ]
    },
    {
     "name": "stdout",
     "output_type": "stream",
     "text": [
      "[1, 0]\n",
      "[1, 0]\n",
      "[1, 0]\n",
      "[1, 0]\n",
      "[1, 0]\n",
      "[1, 0]\n",
      "[1, 0]\n",
      "[1, 0]\n",
      "[1, 0]\n",
      "[1, 0]\n"
     ]
    },
    {
     "name": "stderr",
     "output_type": "stream",
     "text": [
      " 10%|▉         | 579/6000 [00:14<02:09, 41.97it/s]"
     ]
    },
    {
     "name": "stdout",
     "output_type": "stream",
     "text": [
      "[1, 0]\n",
      "[1, 0]\n",
      "[1, 0]\n",
      "[1, 0]\n",
      "[1, 0]\n",
      "[1, 0]\n",
      "[1, 0]\n",
      "[1, 0]\n",
      "[1, 0]\n",
      "[1, 0]\n",
      "[1, 0]\n"
     ]
    },
    {
     "name": "stderr",
     "output_type": "stream",
     "text": [
      "\r",
      " 10%|▉         | 584/6000 [00:15<02:07, 42.42it/s]"
     ]
    },
    {
     "name": "stdout",
     "output_type": "stream",
     "text": [
      "[1, 0]\n",
      "[1, 0]\n",
      "[1, 0]\n",
      "[1, 0]\n",
      "[1, 0]\n",
      "[1, 0]\n",
      "[1, 0]\n",
      "[1, 0]\n"
     ]
    },
    {
     "name": "stderr",
     "output_type": "stream",
     "text": [
      " 10%|▉         | 594/6000 [00:15<02:31, 35.70it/s]"
     ]
    },
    {
     "name": "stdout",
     "output_type": "stream",
     "text": [
      "[1, 0]\n",
      "[1, 0]\n",
      "[1, 0]\n",
      "[1, 0]\n",
      "[1, 0]\n",
      "[1, 0]\n"
     ]
    },
    {
     "name": "stderr",
     "output_type": "stream",
     "text": [
      " 10%|█         | 604/6000 [00:15<02:20, 38.42it/s]"
     ]
    },
    {
     "name": "stdout",
     "output_type": "stream",
     "text": [
      "[1, 0]\n",
      "[1, 0]\n",
      "[1, 0]\n",
      "[1, 0]\n",
      "[1, 0]\n",
      "[1, 0]\n",
      "[1, 0]\n",
      "[1, 0]\n",
      "[1, 0]\n",
      "[1, 0]\n",
      "[1, 0]\n"
     ]
    },
    {
     "name": "stderr",
     "output_type": "stream",
     "text": [
      "\r",
      " 10%|█         | 609/6000 [00:15<02:18, 38.93it/s]"
     ]
    },
    {
     "name": "stdout",
     "output_type": "stream",
     "text": [
      "[1, 0]\n",
      "[1, 0]\n",
      "[1, 0]\n",
      "[1, 0]\n",
      "[1, 0]\n",
      "[1, 0]\n"
     ]
    },
    {
     "name": "stderr",
     "output_type": "stream",
     "text": [
      " 10%|█         | 619/6000 [00:16<02:42, 33.06it/s]"
     ]
    },
    {
     "name": "stdout",
     "output_type": "stream",
     "text": [
      "[1, 0]\n",
      "[1, 0]\n",
      "[1, 0]\n",
      "[1, 0]\n",
      "[1, 0]\n",
      "[1, 0]\n",
      "[1, 0]\n",
      "[1, 0]\n",
      "[1, 0]\n",
      "[1, 0]\n"
     ]
    },
    {
     "name": "stderr",
     "output_type": "stream",
     "text": [
      " 10%|█         | 630/6000 [00:16<02:20, 38.27it/s]"
     ]
    },
    {
     "name": "stdout",
     "output_type": "stream",
     "text": [
      "[1, 0]\n",
      "[1, 0]\n",
      "[1, 0]\n",
      "[1, 0]\n",
      "[1, 0]\n",
      "[1, 0]\n",
      "[1, 0]\n",
      "[1, 0]\n",
      "[1, 0]\n"
     ]
    },
    {
     "name": "stderr",
     "output_type": "stream",
     "text": [
      " 11%|█         | 639/6000 [00:16<02:25, 36.74it/s]"
     ]
    },
    {
     "name": "stdout",
     "output_type": "stream",
     "text": [
      "[1, 0]\n",
      "[1, 0]\n",
      "[1, 0]\n",
      "[1, 0]\n",
      "[1, 0]\n",
      "[1, 0]\n",
      "[1, 0]\n",
      "[1, 0]\n",
      "[1, 0]\n"
     ]
    },
    {
     "name": "stderr",
     "output_type": "stream",
     "text": [
      "\r",
      " 11%|█         | 644/6000 [00:16<02:16, 39.23it/s]"
     ]
    },
    {
     "name": "stdout",
     "output_type": "stream",
     "text": [
      "[1, 0]\n",
      "[1, 0]\n",
      "[1, 0]\n",
      "[1, 0]\n",
      "[1, 0]\n",
      "[1, 0]\n",
      "[1, 0]\n",
      "[1, 0]\n"
     ]
    },
    {
     "name": "stderr",
     "output_type": "stream",
     "text": [
      " 11%|█         | 654/6000 [00:17<02:18, 38.68it/s]"
     ]
    },
    {
     "name": "stdout",
     "output_type": "stream",
     "text": [
      "[1, 0]\n",
      "[1, 0]\n",
      "[1, 0]\n",
      "[1, 0]\n",
      "[1, 0]\n",
      "[1, 0]\n",
      "[1, 0]\n",
      "[1, 0]\n",
      "[1, 0]\n",
      "[1, 0]\n"
     ]
    },
    {
     "name": "stderr",
     "output_type": "stream",
     "text": [
      " 11%|█         | 662/6000 [00:17<02:27, 36.14it/s]"
     ]
    },
    {
     "name": "stdout",
     "output_type": "stream",
     "text": [
      "[1, 0]\n",
      "[1, 0]\n",
      "[1, 0]\n",
      "[1, 0]\n",
      "[1, 0]\n",
      "[1, 0]\n",
      "[1, 0]\n",
      "[1, 0]\n",
      "[1, 0]\n"
     ]
    },
    {
     "name": "stderr",
     "output_type": "stream",
     "text": [
      " 11%|█         | 672/6000 [00:17<02:17, 38.75it/s]"
     ]
    },
    {
     "name": "stdout",
     "output_type": "stream",
     "text": [
      "[1, 0]\n",
      "[1, 0]\n",
      "[1, 0]\n",
      "[1, 0]\n",
      "[1, 0]\n",
      "[1, 0]\n",
      "[1, 0]\n",
      "[1, 0]\n",
      "[1, 0]\n"
     ]
    },
    {
     "name": "stderr",
     "output_type": "stream",
     "text": [
      " 11%|█▏        | 682/6000 [00:17<02:18, 38.40it/s]"
     ]
    },
    {
     "name": "stdout",
     "output_type": "stream",
     "text": [
      "[1, 0]\n",
      "[1, 0]\n",
      "[1, 0]\n",
      "[1, 0]\n",
      "[1, 0]\n",
      "[1, 0]\n",
      "[1, 0]\n",
      "[1, 0]\n"
     ]
    },
    {
     "name": "stderr",
     "output_type": "stream",
     "text": [
      " 12%|█▏        | 691/6000 [00:17<02:18, 38.41it/s]"
     ]
    },
    {
     "name": "stdout",
     "output_type": "stream",
     "text": [
      "[1, 0]\n",
      "[1, 0]\n",
      "[1, 0]\n",
      "[1, 0]\n",
      "[1, 0]\n",
      "[1, 0]\n",
      "[1, 0]\n",
      "[1, 0]\n",
      "[1, 0]\n"
     ]
    },
    {
     "name": "stderr",
     "output_type": "stream",
     "text": [
      " 12%|█▏        | 699/6000 [00:18<02:27, 35.97it/s]"
     ]
    },
    {
     "name": "stdout",
     "output_type": "stream",
     "text": [
      "[1, 0]\n",
      "[1, 0]\n",
      "[1, 0]\n",
      "[1, 0]\n",
      "[1, 0]\n",
      "[1, 0]\n",
      "[1, 0]\n",
      "[1, 0]\n"
     ]
    },
    {
     "name": "stderr",
     "output_type": "stream",
     "text": [
      " 12%|█▏        | 709/6000 [00:18<02:14, 39.43it/s]"
     ]
    },
    {
     "name": "stdout",
     "output_type": "stream",
     "text": [
      "[1, 0]\n",
      "[1, 0]\n",
      "[1, 0]\n",
      "[1, 0]\n",
      "[1, 0]\n",
      "[1, 0]\n",
      "[1, 0]\n",
      "[1, 0]\n",
      "[1, 0]\n"
     ]
    },
    {
     "name": "stderr",
     "output_type": "stream",
     "text": [
      "\r",
      " 12%|█▏        | 714/6000 [00:18<02:15, 39.06it/s]"
     ]
    },
    {
     "name": "stdout",
     "output_type": "stream",
     "text": [
      "[1, 0]\n",
      "[1, 0]\n",
      "[1, 0]\n",
      "[1, 0]\n",
      "[1, 0]\n",
      "[1, 0]\n",
      "[1, 0]\n",
      "[1, 0]\n"
     ]
    },
    {
     "name": "stderr",
     "output_type": "stream",
     "text": [
      " 12%|█▏        | 724/6000 [00:18<02:15, 38.97it/s]"
     ]
    },
    {
     "name": "stdout",
     "output_type": "stream",
     "text": [
      "[1, 0]\n",
      "[1, 0]\n",
      "[1, 0]\n",
      "[1, 0]\n",
      "[1, 0]\n",
      "[1, 0]\n",
      "[1, 0]\n",
      "[1, 0]\n"
     ]
    },
    {
     "name": "stderr",
     "output_type": "stream",
     "text": [
      "\r",
      " 12%|█▏        | 728/6000 [00:19<02:52, 30.53it/s]"
     ]
    },
    {
     "name": "stdout",
     "output_type": "stream",
     "text": [
      "[1, 0]\n",
      "[1, 0]\n",
      "[1, 0]\n",
      "[1, 0]\n",
      "[1, 0]\n",
      "[1, 0]\n",
      "[1, 0]\n"
     ]
    },
    {
     "name": "stderr",
     "output_type": "stream",
     "text": [
      " 12%|█▏        | 738/6000 [00:19<02:25, 36.08it/s]"
     ]
    },
    {
     "name": "stdout",
     "output_type": "stream",
     "text": [
      "[1, 0]\n",
      "[1, 0]\n",
      "[1, 0]\n",
      "[1, 0]\n",
      "[1, 0]\n",
      "[1, 0]\n",
      "[1, 0]\n",
      "[1, 0]\n"
     ]
    },
    {
     "name": "stderr",
     "output_type": "stream",
     "text": [
      " 12%|█▏        | 747/6000 [00:19<02:21, 37.06it/s]"
     ]
    },
    {
     "name": "stdout",
     "output_type": "stream",
     "text": [
      "[1, 0]\n",
      "[1, 0]\n",
      "[1, 0]\n",
      "[1, 0]\n",
      "[1, 0]\n",
      "[1, 0]\n",
      "[1, 0]\n"
     ]
    },
    {
     "name": "stderr",
     "output_type": "stream",
     "text": [
      " 13%|█▎        | 755/6000 [00:19<02:26, 35.91it/s]"
     ]
    },
    {
     "name": "stdout",
     "output_type": "stream",
     "text": [
      "[1, 0]\n",
      "[1, 0]\n",
      "[1, 0]\n",
      "[1, 0]\n",
      "[1, 0]\n",
      "[1, 0]\n",
      "[1, 0]\n",
      "[1, 0]\n",
      "[1, 0]\n"
     ]
    },
    {
     "name": "stderr",
     "output_type": "stream",
     "text": [
      " 13%|█▎        | 766/6000 [00:20<02:14, 38.80it/s]"
     ]
    },
    {
     "name": "stdout",
     "output_type": "stream",
     "text": [
      "[1, 0]\n",
      "[1, 0]\n",
      "[1, 0]\n",
      "[1, 0]\n",
      "[1, 0]\n",
      "[1, 0]\n",
      "[1, 0]\n",
      "[1, 0]\n",
      "[1, 0]\n",
      "[1, 0]\n"
     ]
    },
    {
     "name": "stderr",
     "output_type": "stream",
     "text": [
      "\r",
      " 13%|█▎        | 771/6000 [00:20<02:22, 36.67it/s]"
     ]
    },
    {
     "name": "stdout",
     "output_type": "stream",
     "text": [
      "[1, 0]\n",
      "[1, 0]\n",
      "[1, 0]\n",
      "[1, 0]\n",
      "[1, 0]\n",
      "[1, 0]\n",
      "[1, 0]\n",
      "[1, 0]\n",
      "[1, 0]\n"
     ]
    },
    {
     "name": "stderr",
     "output_type": "stream",
     "text": [
      " 13%|█▎        | 781/6000 [00:20<02:11, 39.68it/s]"
     ]
    },
    {
     "name": "stdout",
     "output_type": "stream",
     "text": [
      "[1, 0]\n",
      "[1, 0]\n",
      "[1, 0]\n",
      "[1, 0]\n",
      "[1, 0]\n",
      "[1, 0]\n",
      "[1, 0]\n",
      "[1, 0]\n"
     ]
    },
    {
     "name": "stderr",
     "output_type": "stream",
     "text": [
      " 13%|█▎        | 791/6000 [00:20<02:10, 39.91it/s]"
     ]
    },
    {
     "name": "stdout",
     "output_type": "stream",
     "text": [
      "[1, 0]\n",
      "[1, 0]\n",
      "[1, 0]\n",
      "[1, 0]\n",
      "[1, 0]\n",
      "[1, 0]\n",
      "[1, 0]\n",
      "[1, 0]\n",
      "[1, 0]\n",
      "[1, 0]\n"
     ]
    },
    {
     "name": "stderr",
     "output_type": "stream",
     "text": [
      " 13%|█▎        | 801/6000 [00:20<02:02, 42.42it/s]"
     ]
    },
    {
     "name": "stdout",
     "output_type": "stream",
     "text": [
      "[1, 0]\n",
      "[1, 0]\n",
      "[1, 0]\n",
      "[1, 0]\n",
      "[1, 0]\n",
      "[1, 0]\n",
      "[1, 0]\n",
      "[1, 0]\n",
      "[1, 0]\n",
      "[1, 0]\n"
     ]
    },
    {
     "name": "stderr",
     "output_type": "stream",
     "text": [
      "\r",
      " 13%|█▎        | 806/6000 [00:20<02:00, 42.95it/s]"
     ]
    },
    {
     "name": "stdout",
     "output_type": "stream",
     "text": [
      "[1, 0]\n",
      "[1, 0]\n",
      "[1, 0]\n",
      "[1, 0]\n",
      "[1, 0]\n",
      "[1, 0]\n",
      "[1, 0]\n"
     ]
    },
    {
     "name": "stderr",
     "output_type": "stream",
     "text": [
      " 14%|█▎        | 815/6000 [00:21<02:21, 36.67it/s]"
     ]
    },
    {
     "name": "stdout",
     "output_type": "stream",
     "text": [
      "[1, 0]\n",
      "[1, 0]\n",
      "[1, 0]\n",
      "[1, 0]\n",
      "[1, 0]\n",
      "[1, 0]\n",
      "[1, 0]\n",
      "[1, 0]\n",
      "[1, 0]\n"
     ]
    },
    {
     "name": "stderr",
     "output_type": "stream",
     "text": [
      " 14%|█▍        | 829/6000 [00:21<01:51, 46.35it/s]"
     ]
    },
    {
     "name": "stdout",
     "output_type": "stream",
     "text": [
      "[1, 0]\n",
      "[1, 0]\n",
      "[1, 0]\n",
      "[1, 0]\n",
      "[1, 0]\n",
      "[1, 0]\n",
      "[1, 0]\n",
      "[1, 0]\n",
      "[1, 0]\n",
      "[1, 0]\n",
      "[1, 0]\n",
      "[1, 0]\n"
     ]
    },
    {
     "name": "stderr",
     "output_type": "stream",
     "text": [
      "\r",
      " 14%|█▍        | 835/6000 [00:21<02:28, 34.77it/s]"
     ]
    },
    {
     "name": "stdout",
     "output_type": "stream",
     "text": [
      "[1, 0]\n",
      "[1, 0]\n",
      "[1, 0]\n",
      "[1, 0]\n",
      "[1, 0]\n"
     ]
    },
    {
     "name": "stderr",
     "output_type": "stream",
     "text": [
      "\r",
      " 14%|█▍        | 840/6000 [00:21<02:37, 32.83it/s]"
     ]
    },
    {
     "name": "stdout",
     "output_type": "stream",
     "text": [
      "[1, 0]\n",
      "[1, 0]\n",
      "[1, 0]\n",
      "[1, 0]\n",
      "[1, 0]\n",
      "[1, 0]\n"
     ]
    },
    {
     "name": "stderr",
     "output_type": "stream",
     "text": [
      " 14%|█▍        | 848/6000 [00:22<02:32, 33.88it/s]"
     ]
    },
    {
     "name": "stdout",
     "output_type": "stream",
     "text": [
      "[1, 0]\n",
      "[1, 0]\n",
      "[1, 0]\n",
      "[1, 0]\n",
      "[1, 0]\n",
      "[1, 0]\n",
      "[1, 0]\n",
      "[1, 0]\n"
     ]
    },
    {
     "name": "stderr",
     "output_type": "stream",
     "text": [
      "\r",
      " 14%|█▍        | 852/6000 [00:22<02:41, 31.96it/s]"
     ]
    },
    {
     "name": "stdout",
     "output_type": "stream",
     "text": [
      "[1, 0]\n",
      "[1, 0]\n",
      "[1, 0]\n",
      "[1, 0]\n",
      "[1, 0]\n"
     ]
    },
    {
     "name": "stderr",
     "output_type": "stream",
     "text": [
      " 14%|█▍        | 860/6000 [00:22<03:05, 27.78it/s]"
     ]
    },
    {
     "name": "stdout",
     "output_type": "stream",
     "text": [
      "[1, 0]\n",
      "[1, 0]\n",
      "[1, 0]\n",
      "[1, 0]\n",
      "[1, 0]\n",
      "[1, 0]\n"
     ]
    },
    {
     "name": "stderr",
     "output_type": "stream",
     "text": [
      "\r",
      " 14%|█▍        | 864/6000 [00:22<03:17, 25.96it/s]"
     ]
    },
    {
     "name": "stdout",
     "output_type": "stream",
     "text": [
      "[1, 0]\n",
      "[1, 0]\n",
      "[1, 0]\n",
      "[1, 0]\n",
      "[1, 0]\n",
      "[1, 0]\n"
     ]
    },
    {
     "name": "stderr",
     "output_type": "stream",
     "text": [
      " 15%|█▍        | 873/6000 [00:23<02:40, 31.96it/s]"
     ]
    },
    {
     "name": "stdout",
     "output_type": "stream",
     "text": [
      "[1, 0]\n",
      "[1, 0]\n",
      "[1, 0]\n",
      "[1, 0]\n",
      "[1, 0]\n",
      "[1, 0]\n",
      "[1, 0]\n",
      "[1, 0]\n",
      "[1, 0]\n",
      "[1, 0]\n",
      "[1, 0]\n",
      "[1, 0]\n",
      "[1, 0]\n"
     ]
    },
    {
     "name": "stderr",
     "output_type": "stream",
     "text": [
      " 15%|█▍        | 886/6000 [00:23<02:11, 39.03it/s]"
     ]
    },
    {
     "name": "stdout",
     "output_type": "stream",
     "text": [
      "[1, 0]\n",
      "[1, 0]\n",
      "[1, 0]\n",
      "[1, 0]\n",
      "[1, 0]\n",
      "[1, 0]\n",
      "[1, 0]\n",
      "[1, 0]\n",
      "[1, 0]\n"
     ]
    },
    {
     "name": "stderr",
     "output_type": "stream",
     "text": [
      "\r",
      " 15%|█▍        | 891/6000 [00:23<02:17, 37.12it/s]"
     ]
    },
    {
     "name": "stdout",
     "output_type": "stream",
     "text": [
      "[1, 0]\n",
      "[1, 0]\n",
      "[1, 0]\n",
      "[1, 0]\n",
      "[1, 0]\n"
     ]
    },
    {
     "name": "stderr",
     "output_type": "stream",
     "text": [
      " 15%|█▌        | 904/6000 [00:23<02:04, 40.91it/s]"
     ]
    },
    {
     "name": "stdout",
     "output_type": "stream",
     "text": [
      "[1, 0]\n",
      "[1, 0]\n",
      "[1, 0]\n",
      "[1, 0]\n",
      "[1, 0]\n",
      "[1, 0]\n",
      "[1, 0]\n",
      "[1, 0]\n",
      "[1, 0]\n",
      "[1, 0]\n",
      "[1, 0]\n"
     ]
    },
    {
     "name": "stderr",
     "output_type": "stream",
     "text": [
      " 15%|█▌        | 914/6000 [00:23<02:09, 39.26it/s]"
     ]
    },
    {
     "name": "stdout",
     "output_type": "stream",
     "text": [
      "[1, 0]\n",
      "[1, 0]\n",
      "[1, 0]\n",
      "[1, 0]\n",
      "[1, 0]\n",
      "[1, 0]\n",
      "[1, 0]\n",
      "[1, 0]\n",
      "[1, 0]\n"
     ]
    },
    {
     "name": "stderr",
     "output_type": "stream",
     "text": [
      " 15%|█▌        | 928/6000 [00:24<01:47, 47.02it/s]"
     ]
    },
    {
     "name": "stdout",
     "output_type": "stream",
     "text": [
      "[1, 0]\n",
      "[1, 0]\n",
      "[1, 0]\n",
      "[1, 0]\n",
      "[1, 0]\n",
      "[1, 0]\n",
      "[1, 0]\n",
      "[1, 0]\n",
      "[1, 0]\n",
      "[1, 0]\n",
      "[1, 0]\n",
      "[1, 0]\n",
      "[1, 0]\n",
      "[1, 0]\n"
     ]
    },
    {
     "name": "stderr",
     "output_type": "stream",
     "text": [
      "\r",
      " 16%|█▌        | 934/6000 [00:24<01:46, 47.65it/s]"
     ]
    },
    {
     "name": "stdout",
     "output_type": "stream",
     "text": [
      "[1, 0]\n",
      "[1, 0]\n",
      "[1, 0]\n",
      "[1, 0]\n",
      "[1, 0]\n",
      "[1, 0]\n",
      "[1, 0]\n",
      "[1, 0]\n",
      "[1, 0]\n",
      "[1, 0]\n",
      "[1, 0]\n",
      "[1, 0]\n"
     ]
    },
    {
     "name": "stderr",
     "output_type": "stream",
     "text": [
      " 16%|█▌        | 947/6000 [00:24<01:58, 42.48it/s]"
     ]
    },
    {
     "name": "stdout",
     "output_type": "stream",
     "text": [
      "[1, 0]\n",
      "[1, 0]\n",
      "[1, 0]\n",
      "[1, 0]\n",
      "[1, 0]\n",
      "[1, 0]\n",
      "[1, 0]\n"
     ]
    },
    {
     "name": "stderr",
     "output_type": "stream",
     "text": [
      " 16%|█▌        | 960/6000 [00:24<01:42, 49.06it/s]"
     ]
    },
    {
     "name": "stdout",
     "output_type": "stream",
     "text": [
      "[1, 0]\n",
      "[1, 0]\n",
      "[1, 0]\n",
      "[1, 0]\n",
      "[1, 0]\n",
      "[1, 0]\n",
      "[1, 0]\n",
      "[1, 0]\n",
      "[1, 0]\n",
      "[1, 0]\n",
      "[1, 0]\n",
      "[1, 0]\n",
      "[1, 0]\n",
      "[1, 0]\n"
     ]
    },
    {
     "name": "stderr",
     "output_type": "stream",
     "text": [
      " 16%|█▌        | 972/6000 [00:25<01:35, 52.41it/s]"
     ]
    },
    {
     "name": "stdout",
     "output_type": "stream",
     "text": [
      "[1, 0]\n",
      "[1, 0]\n",
      "[1, 0]\n",
      "[1, 0]\n",
      "[1, 0]\n",
      "[1, 0]\n",
      "[1, 0]\n",
      "[1, 0]\n",
      "[1, 0]\n",
      "[1, 0]\n",
      "[1, 0]\n",
      "[1, 0]\n",
      "[1, 0]\n"
     ]
    },
    {
     "name": "stderr",
     "output_type": "stream",
     "text": [
      " 16%|█▋        | 985/6000 [00:25<01:27, 57.44it/s]"
     ]
    },
    {
     "name": "stdout",
     "output_type": "stream",
     "text": [
      "[1, 0]\n",
      "[1, 0]\n",
      "[1, 0]\n",
      "[1, 0]\n",
      "[1, 0]\n",
      "[1, 0]\n",
      "[1, 0]\n",
      "[1, 0]\n",
      "[1, 0]\n",
      "[1, 0]\n",
      "[1, 0]\n",
      "[1, 0]\n",
      "[1, 0]\n"
     ]
    },
    {
     "name": "stderr",
     "output_type": "stream",
     "text": [
      " 17%|█▋        | 997/6000 [00:25<01:33, 53.52it/s]"
     ]
    },
    {
     "name": "stdout",
     "output_type": "stream",
     "text": [
      "[1, 0]\n",
      "[1, 0]\n",
      "[1, 0]\n",
      "[1, 0]\n",
      "[1, 0]\n",
      "[1, 0]\n",
      "[1, 0]\n",
      "[1, 0]\n",
      "[1, 0]\n",
      "[1, 0]\n"
     ]
    },
    {
     "name": "stderr",
     "output_type": "stream",
     "text": [
      " 17%|█▋        | 1010/6000 [00:25<01:29, 55.48it/s]"
     ]
    },
    {
     "name": "stdout",
     "output_type": "stream",
     "text": [
      "[1, 0]\n",
      "[1, 0]\n",
      "[1, 0]\n",
      "[1, 0]\n",
      "[1, 0]\n",
      "[1, 0]\n",
      "[1, 0]\n",
      "[1, 0]\n",
      "[1, 0]\n",
      "[1, 0]\n",
      "[1, 0]\n",
      "[1, 0]\n",
      "[1, 0]\n"
     ]
    },
    {
     "name": "stderr",
     "output_type": "stream",
     "text": [
      "\r",
      " 17%|█▋        | 1017/6000 [00:25<01:30, 55.03it/s]"
     ]
    },
    {
     "name": "stdout",
     "output_type": "stream",
     "text": [
      "[1, 0]\n",
      "[1, 0]\n",
      "[1, 0]\n",
      "[1, 0]\n",
      "[1, 0]\n",
      "[1, 0]\n",
      "[1, 0]\n",
      "[1, 0]\n",
      "[1, 0]\n",
      "[1, 0]\n"
     ]
    },
    {
     "name": "stderr",
     "output_type": "stream",
     "text": [
      "\r",
      " 17%|█▋        | 1023/6000 [00:26<01:41, 48.94it/s]"
     ]
    },
    {
     "name": "stdout",
     "output_type": "stream",
     "text": [
      "[1, 0]\n",
      "[1, 0]\n",
      "[1, 0]\n",
      "[1, 0]\n",
      "[1, 0]\n",
      "[1, 0]\n",
      "[1, 0]\n",
      "[1, 0]\n"
     ]
    },
    {
     "name": "stderr",
     "output_type": "stream",
     "text": [
      " 17%|█▋        | 1034/6000 [00:26<02:04, 39.93it/s]"
     ]
    },
    {
     "name": "stdout",
     "output_type": "stream",
     "text": [
      "[1, 0]\n",
      "[1, 0]\n",
      "[1, 0]\n",
      "[1, 0]\n",
      "[1, 0]\n",
      "[1, 0]\n",
      "[1, 0]\n",
      "[1, 0]\n"
     ]
    },
    {
     "name": "stderr",
     "output_type": "stream",
     "text": [
      "\r",
      " 17%|█▋        | 1039/6000 [00:26<02:16, 36.47it/s]"
     ]
    },
    {
     "name": "stdout",
     "output_type": "stream",
     "text": [
      "[1, 0]\n",
      "[1, 0]\n",
      "[1, 0]\n",
      "[1, 0]\n",
      "[1, 0]\n",
      "[1, 0]\n",
      "[1, 0]\n",
      "[1, 0]\n",
      "[1, 0]\n"
     ]
    },
    {
     "name": "stderr",
     "output_type": "stream",
     "text": [
      " 18%|█▊        | 1051/6000 [00:26<02:14, 36.67it/s]"
     ]
    },
    {
     "name": "stdout",
     "output_type": "stream",
     "text": [
      "[1, 0]\n",
      "[1, 0]\n",
      "[1, 0]\n",
      "[1, 0]\n",
      "[1, 0]\n",
      "[1, 0]\n"
     ]
    },
    {
     "name": "stderr",
     "output_type": "stream",
     "text": [
      "\r",
      " 18%|█▊        | 1056/6000 [00:26<02:25, 33.92it/s]"
     ]
    },
    {
     "name": "stdout",
     "output_type": "stream",
     "text": [
      "[1, 0]\n",
      "[1, 0]\n",
      "[1, 0]\n",
      "[1, 0]\n",
      "[1, 0]\n",
      "[1, 0]\n",
      "[1, 0]\n"
     ]
    },
    {
     "name": "stderr",
     "output_type": "stream",
     "text": [
      " 18%|█▊        | 1067/6000 [00:27<02:00, 41.02it/s]"
     ]
    },
    {
     "name": "stdout",
     "output_type": "stream",
     "text": [
      "[1, 0]\n",
      "[1, 0]\n",
      "[1, 0]\n",
      "[1, 0]\n",
      "[1, 0]\n",
      "[1, 0]\n",
      "[1, 0]\n",
      "[1, 0]\n",
      "[1, 0]\n",
      "[1, 0]\n",
      "[1, 0]\n",
      "[1, 0]\n"
     ]
    },
    {
     "name": "stderr",
     "output_type": "stream",
     "text": [
      " 18%|█▊        | 1078/6000 [00:27<01:54, 42.95it/s]"
     ]
    },
    {
     "name": "stdout",
     "output_type": "stream",
     "text": [
      "[1, 0]\n",
      "[1, 0]\n",
      "[1, 0]\n",
      "[1, 0]\n",
      "[1, 0]\n",
      "[1, 0]\n",
      "[1, 0]\n",
      "[1, 0]\n",
      "[1, 0]\n",
      "[1, 0]\n",
      "[1, 0]\n"
     ]
    },
    {
     "name": "stderr",
     "output_type": "stream",
     "text": [
      " 18%|█▊        | 1089/6000 [00:27<01:43, 47.47it/s]"
     ]
    },
    {
     "name": "stdout",
     "output_type": "stream",
     "text": [
      "[1, 0]\n",
      "[1, 0]\n",
      "[1, 0]\n",
      "[1, 0]\n",
      "[1, 0]\n",
      "[1, 0]\n",
      "[1, 0]\n",
      "[1, 0]\n",
      "[1, 0]\n",
      "[1, 0]\n"
     ]
    },
    {
     "name": "stderr",
     "output_type": "stream",
     "text": [
      " 18%|█▊        | 1100/6000 [00:27<01:42, 47.94it/s]"
     ]
    },
    {
     "name": "stdout",
     "output_type": "stream",
     "text": [
      "[1, 0]\n",
      "[1, 0]\n",
      "[1, 0]\n",
      "[1, 0]\n",
      "[1, 0]\n",
      "[1, 0]\n",
      "[1, 0]\n",
      "[1, 0]\n",
      "[1, 0]\n",
      "[1, 0]\n",
      "[1, 0]\n"
     ]
    },
    {
     "name": "stderr",
     "output_type": "stream",
     "text": [
      " 18%|█▊        | 1110/6000 [00:28<01:41, 48.18it/s]"
     ]
    },
    {
     "name": "stdout",
     "output_type": "stream",
     "text": [
      "[1, 0]\n",
      "[1, 0]\n",
      "[1, 0]\n",
      "[1, 0]\n",
      "[1, 0]\n",
      "[1, 0]\n",
      "[1, 0]\n",
      "[1, 0]\n",
      "[1, 0]\n",
      "[1, 0]\n",
      "[1, 0]\n"
     ]
    },
    {
     "name": "stderr",
     "output_type": "stream",
     "text": [
      " 19%|█▊        | 1121/6000 [00:28<01:39, 48.93it/s]"
     ]
    },
    {
     "name": "stdout",
     "output_type": "stream",
     "text": [
      "[1, 0]\n",
      "[1, 0]\n",
      "[1, 0]\n",
      "[1, 0]\n",
      "[1, 0]\n",
      "[1, 0]\n",
      "[1, 0]\n",
      "[1, 0]\n",
      "[1, 0]\n",
      "[1, 0]\n",
      "[1, 0]\n",
      "[1, 0]\n"
     ]
    },
    {
     "name": "stderr",
     "output_type": "stream",
     "text": [
      " 19%|█▉        | 1134/6000 [00:28<01:29, 54.28it/s]"
     ]
    },
    {
     "name": "stdout",
     "output_type": "stream",
     "text": [
      "[1, 0]\n",
      "[1, 0]\n",
      "[1, 0]\n",
      "[1, 0]\n",
      "[1, 0]\n",
      "[1, 0]\n",
      "[1, 0]\n",
      "[1, 0]\n",
      "[1, 0]\n",
      "[1, 0]\n",
      "[1, 0]\n",
      "[1, 0]\n",
      "[1, 0]\n"
     ]
    },
    {
     "name": "stderr",
     "output_type": "stream",
     "text": [
      " 19%|█▉        | 1147/6000 [00:28<01:32, 52.48it/s]"
     ]
    },
    {
     "name": "stdout",
     "output_type": "stream",
     "text": [
      "[1, 0]\n",
      "[1, 0]\n",
      "[1, 0]\n",
      "[1, 0]\n",
      "[1, 0]\n",
      "[1, 0]\n",
      "[1, 0]\n",
      "[1, 0]\n",
      "[1, 0]\n"
     ]
    },
    {
     "name": "stderr",
     "output_type": "stream",
     "text": [
      "\r",
      " 19%|█▉        | 1153/6000 [00:28<01:52, 42.91it/s]"
     ]
    },
    {
     "name": "stdout",
     "output_type": "stream",
     "text": [
      "[1, 0]\n",
      "[1, 0]\n",
      "[1, 0]\n",
      "[1, 0]\n",
      "[1, 0]\n",
      "[1, 0]\n"
     ]
    },
    {
     "name": "stderr",
     "output_type": "stream",
     "text": [
      "\r",
      " 19%|█▉        | 1158/6000 [00:29<02:07, 37.85it/s]"
     ]
    },
    {
     "name": "stdout",
     "output_type": "stream",
     "text": [
      "[1, 0]\n",
      "[1, 0]\n",
      "[1, 0]\n",
      "[1, 0]\n",
      "[1, 0]\n",
      "[1, 0]\n",
      "[1, 0]\n"
     ]
    },
    {
     "name": "stderr",
     "output_type": "stream",
     "text": [
      " 19%|█▉        | 1167/6000 [00:29<02:22, 33.94it/s]"
     ]
    },
    {
     "name": "stdout",
     "output_type": "stream",
     "text": [
      "[1, 0]\n",
      "[1, 0]\n",
      "[1, 0]\n",
      "[1, 0]\n",
      "[1, 0]\n",
      "[1, 0]\n",
      "[1, 0]\n"
     ]
    },
    {
     "name": "stderr",
     "output_type": "stream",
     "text": [
      "\r",
      " 20%|█▉        | 1172/6000 [00:29<02:13, 36.29it/s]"
     ]
    },
    {
     "name": "stdout",
     "output_type": "stream",
     "text": [
      "[1, 0]\n",
      "[1, 0]\n",
      "[1, 0]\n",
      "[1, 0]\n",
      "[1, 0]\n",
      "[1, 0]\n",
      "[1, 0]\n",
      "[1, 0]\n"
     ]
    },
    {
     "name": "stderr",
     "output_type": "stream",
     "text": [
      " 20%|█▉        | 1181/6000 [00:29<02:14, 35.78it/s]"
     ]
    },
    {
     "name": "stdout",
     "output_type": "stream",
     "text": [
      "[1, 0]\n",
      "[1, 0]\n",
      "[1, 0]\n",
      "[1, 0]\n",
      "[1, 0]\n",
      "[1, 0]\n",
      "[1, 0]\n"
     ]
    },
    {
     "name": "stderr",
     "output_type": "stream",
     "text": [
      " 20%|█▉        | 1189/6000 [00:30<02:24, 33.19it/s]"
     ]
    },
    {
     "name": "stdout",
     "output_type": "stream",
     "text": [
      "[1, 0]\n",
      "[1, 0]\n",
      "[1, 0]\n",
      "[1, 0]\n",
      "[1, 0]\n",
      "[1, 0]\n",
      "[1, 0]\n",
      "[1, 0]\n",
      "[1, 0]\n"
     ]
    },
    {
     "name": "stderr",
     "output_type": "stream",
     "text": [
      "\r",
      " 20%|█▉        | 1194/6000 [00:30<02:15, 35.46it/s]"
     ]
    },
    {
     "name": "stdout",
     "output_type": "stream",
     "text": [
      "[1, 0]\n",
      "[1, 0]\n",
      "[1, 0]\n",
      "[1, 0]\n"
     ]
    },
    {
     "name": "stderr",
     "output_type": "stream",
     "text": [
      " 20%|██        | 1202/6000 [00:30<02:50, 28.06it/s]"
     ]
    },
    {
     "name": "stdout",
     "output_type": "stream",
     "text": [
      "[1, 0]\n",
      "[1, 0]\n",
      "[1, 0]\n",
      "[1, 0]\n",
      "[1, 0]\n",
      "[1, 0]\n",
      "[1, 0]\n"
     ]
    },
    {
     "name": "stderr",
     "output_type": "stream",
     "text": [
      "\r",
      " 20%|██        | 1208/6000 [00:30<02:35, 30.76it/s]"
     ]
    },
    {
     "name": "stdout",
     "output_type": "stream",
     "text": [
      "[1, 0]\n",
      "[1, 0]\n",
      "[1, 0]\n",
      "[1, 0]\n",
      "[1, 0]\n",
      "[1, 0]\n",
      "[1, 0]\n"
     ]
    },
    {
     "name": "stderr",
     "output_type": "stream",
     "text": [
      " 20%|██        | 1219/6000 [00:30<02:05, 37.97it/s]"
     ]
    },
    {
     "name": "stdout",
     "output_type": "stream",
     "text": [
      "[1, 0]\n",
      "[1, 0]\n",
      "[1, 0]\n",
      "[1, 0]\n",
      "[1, 0]\n",
      "[1, 0]\n",
      "[1, 0]\n",
      "[1, 0]\n",
      "[1, 0]\n",
      "[1, 0]\n",
      "[1, 0]\n",
      "[1, 0]\n",
      "[1, 0]\n",
      "[1, 0]\n"
     ]
    },
    {
     "name": "stderr",
     "output_type": "stream",
     "text": [
      "\r",
      " 20%|██        | 1225/6000 [00:31<01:58, 40.23it/s]"
     ]
    },
    {
     "name": "stdout",
     "output_type": "stream",
     "text": [
      "[1, 0]\n",
      "[1, 0]\n",
      "[1, 0]\n",
      "[1, 0]\n",
      "[1, 0]\n"
     ]
    },
    {
     "name": "stderr",
     "output_type": "stream",
     "text": [
      " 21%|██        | 1235/6000 [00:31<02:06, 37.76it/s]"
     ]
    },
    {
     "name": "stdout",
     "output_type": "stream",
     "text": [
      "[1, 0]\n",
      "[1, 0]\n",
      "[1, 0]\n",
      "[1, 0]\n",
      "[1, 0]\n",
      "[1, 0]\n",
      "[1, 0]\n",
      "[1, 0]\n",
      "[1, 0]\n",
      "[1, 0]\n",
      "[1, 0]\n"
     ]
    },
    {
     "name": "stderr",
     "output_type": "stream",
     "text": [
      " 21%|██        | 1247/6000 [00:31<01:47, 44.40it/s]"
     ]
    },
    {
     "name": "stdout",
     "output_type": "stream",
     "text": [
      "[1, 0]\n",
      "[1, 0]\n",
      "[1, 0]\n",
      "[1, 0]\n",
      "[1, 0]\n",
      "[1, 0]\n",
      "[1, 0]\n",
      "[1, 0]\n",
      "[1, 0]\n",
      "[1, 0]\n",
      "[1, 0]\n"
     ]
    },
    {
     "name": "stderr",
     "output_type": "stream",
     "text": [
      "\r",
      " 21%|██        | 1252/6000 [00:31<01:46, 44.61it/s]"
     ]
    },
    {
     "name": "stdout",
     "output_type": "stream",
     "text": [
      "[1, 0]\n",
      "[1, 0]\n",
      "[1, 0]\n",
      "[1, 0]\n",
      "[1, 0]\n"
     ]
    },
    {
     "name": "stderr",
     "output_type": "stream",
     "text": [
      " 21%|██        | 1261/6000 [00:32<02:21, 33.39it/s]"
     ]
    },
    {
     "name": "stdout",
     "output_type": "stream",
     "text": [
      "[1, 0]\n",
      "[1, 0]\n",
      "[1, 0]\n",
      "[1, 0]\n",
      "[1, 0]\n",
      "[1, 0]\n",
      "[1, 0]\n"
     ]
    },
    {
     "name": "stderr",
     "output_type": "stream",
     "text": [
      " 21%|██        | 1271/6000 [00:32<02:00, 39.10it/s]"
     ]
    },
    {
     "name": "stdout",
     "output_type": "stream",
     "text": [
      "[1, 0]\n",
      "[1, 0]\n",
      "[1, 0]\n",
      "[1, 0]\n",
      "[1, 0]\n",
      "[1, 0]\n",
      "[1, 0]\n",
      "[1, 0]\n",
      "[1, 0]\n",
      "[1, 0]\n"
     ]
    },
    {
     "name": "stderr",
     "output_type": "stream",
     "text": [
      " 21%|██▏       | 1282/6000 [00:32<01:59, 39.40it/s]"
     ]
    },
    {
     "name": "stdout",
     "output_type": "stream",
     "text": [
      "[1, 0]\n",
      "[1, 0]\n",
      "[1, 0]\n",
      "[1, 0]\n",
      "[1, 0]\n",
      "[1, 0]\n",
      "[1, 0]\n",
      "[1, 0]\n",
      "[1, 0]\n",
      "[1, 0]\n",
      "[1, 0]\n",
      "[1, 0]\n"
     ]
    },
    {
     "name": "stderr",
     "output_type": "stream",
     "text": [
      " 22%|██▏       | 1292/6000 [00:32<02:24, 32.64it/s]"
     ]
    },
    {
     "name": "stdout",
     "output_type": "stream",
     "text": [
      "[1, 0]\n",
      "[1, 0]\n",
      "[1, 0]\n",
      "[1, 0]\n",
      "[1, 0]\n",
      "[1, 0]\n",
      "[1, 0]\n",
      "[1, 0]\n",
      "[1, 0]\n",
      "[1, 0]\n",
      "[1, 0]\n"
     ]
    },
    {
     "name": "stderr",
     "output_type": "stream",
     "text": [
      " 22%|██▏       | 1304/6000 [00:33<01:51, 42.18it/s]"
     ]
    },
    {
     "name": "stdout",
     "output_type": "stream",
     "text": [
      "[1, 0]\n",
      "[1, 0]\n",
      "[1, 0]\n",
      "[1, 0]\n",
      "[1, 0]\n",
      "[1, 0]\n",
      "[1, 0]\n",
      "[1, 0]\n",
      "[1, 0]\n",
      "[1, 0]\n",
      "[1, 0]\n",
      "[1, 0]\n"
     ]
    },
    {
     "name": "stderr",
     "output_type": "stream",
     "text": [
      " 22%|██▏       | 1314/6000 [00:33<01:51, 42.18it/s]"
     ]
    },
    {
     "name": "stdout",
     "output_type": "stream",
     "text": [
      "[1, 0]\n",
      "[1, 0]\n",
      "[1, 0]\n",
      "[1, 0]\n",
      "[1, 0]\n",
      "[1, 0]\n",
      "[1, 0]\n",
      "[1, 0]\n"
     ]
    },
    {
     "name": "stderr",
     "output_type": "stream",
     "text": [
      "\r",
      " 22%|██▏       | 1319/6000 [00:33<02:03, 37.76it/s]"
     ]
    },
    {
     "name": "stdout",
     "output_type": "stream",
     "text": [
      "[1, 0]\n",
      "[1, 0]\n",
      "[1, 0]\n",
      "[1, 0]\n",
      "[1, 0]\n",
      "[1, 0]\n",
      "[1, 0]\n",
      "[1, 0]\n",
      "[1, 0]\n"
     ]
    },
    {
     "name": "stderr",
     "output_type": "stream",
     "text": [
      " 22%|██▏       | 1330/6000 [00:33<02:07, 36.53it/s]"
     ]
    },
    {
     "name": "stdout",
     "output_type": "stream",
     "text": [
      "[1, 0]\n",
      "[1, 0]\n",
      "[1, 0]\n",
      "[1, 0]\n",
      "[1, 0]\n",
      "[1, 0]\n",
      "[1, 0]\n"
     ]
    },
    {
     "name": "stderr",
     "output_type": "stream",
     "text": [
      "\r",
      " 22%|██▏       | 1335/6000 [00:33<01:58, 39.38it/s]"
     ]
    },
    {
     "name": "stdout",
     "output_type": "stream",
     "text": [
      "[1, 0]\n",
      "[1, 0]\n",
      "[1, 0]\n",
      "[1, 0]\n",
      "[1, 0]\n"
     ]
    },
    {
     "name": "stderr",
     "output_type": "stream",
     "text": [
      " 22%|██▏       | 1347/6000 [00:34<01:59, 38.92it/s]"
     ]
    },
    {
     "name": "stdout",
     "output_type": "stream",
     "text": [
      "[1, 0]\n",
      "[1, 0]\n",
      "[1, 0]\n",
      "[1, 0]\n",
      "[1, 0]\n",
      "[1, 0]\n",
      "[1, 0]\n",
      "[1, 0]\n",
      "[1, 0]\n",
      "[1, 0]\n",
      "[1, 0]\n",
      "[1, 0]\n",
      "[1, 0]\n",
      "[1, 0]\n"
     ]
    },
    {
     "name": "stderr",
     "output_type": "stream",
     "text": [
      " 23%|██▎       | 1358/6000 [00:34<01:47, 43.06it/s]"
     ]
    },
    {
     "name": "stdout",
     "output_type": "stream",
     "text": [
      "[1, 0]\n",
      "[1, 0]\n",
      "[1, 0]\n",
      "[1, 0]\n",
      "[1, 0]\n",
      "[1, 0]\n",
      "[1, 0]\n",
      "[1, 0]\n",
      "[1, 0]\n",
      "[1, 0]\n"
     ]
    },
    {
     "name": "stderr",
     "output_type": "stream",
     "text": [
      " 23%|██▎       | 1370/6000 [00:34<01:34, 48.76it/s]"
     ]
    },
    {
     "name": "stdout",
     "output_type": "stream",
     "text": [
      "[1, 0]\n",
      "[1, 0]\n",
      "[1, 0]\n",
      "[1, 0]\n",
      "[1, 0]\n",
      "[1, 0]\n",
      "[1, 0]\n",
      "[1, 0]\n",
      "[1, 0]\n",
      "[1, 0]\n",
      "[1, 0]\n",
      "[1, 0]\n",
      "[1, 0]\n",
      "[1, 0]\n",
      "[1, 0]\n"
     ]
    },
    {
     "name": "stderr",
     "output_type": "stream",
     "text": [
      " 23%|██▎       | 1381/6000 [00:35<02:23, 32.18it/s]"
     ]
    },
    {
     "name": "stdout",
     "output_type": "stream",
     "text": [
      "[1, 0]\n",
      "[1, 0]\n",
      "[1, 0]\n",
      "[1, 0]\n",
      "[1, 0]\n",
      "[1, 0]\n"
     ]
    },
    {
     "name": "stderr",
     "output_type": "stream",
     "text": [
      " 23%|██▎       | 1390/6000 [00:35<02:12, 34.82it/s]"
     ]
    },
    {
     "name": "stdout",
     "output_type": "stream",
     "text": [
      "[1, 0]\n",
      "[1, 0]\n",
      "[1, 0]\n",
      "[1, 0]\n",
      "[1, 0]\n",
      "[1, 0]\n",
      "[1, 0]\n",
      "[1, 0]\n",
      "[1, 0]\n",
      "[1, 0]\n"
     ]
    },
    {
     "name": "stderr",
     "output_type": "stream",
     "text": [
      "\r",
      " 23%|██▎       | 1395/6000 [00:35<02:02, 37.50it/s]"
     ]
    },
    {
     "name": "stdout",
     "output_type": "stream",
     "text": [
      "[1, 0]\n",
      "[1, 0]\n",
      "[1, 0]\n",
      "[1, 0]\n",
      "[1, 0]\n",
      "[1, 0]\n",
      "[1, 0]\n",
      "[1, 0]\n"
     ]
    },
    {
     "name": "stderr",
     "output_type": "stream",
     "text": [
      " 23%|██▎       | 1404/6000 [00:35<02:01, 37.88it/s]"
     ]
    },
    {
     "name": "stdout",
     "output_type": "stream",
     "text": [
      "[1, 0]\n",
      "[1, 0]\n",
      "[1, 0]\n",
      "[1, 0]\n",
      "[1, 0]\n",
      "[1, 0]\n",
      "[1, 0]\n"
     ]
    },
    {
     "name": "stderr",
     "output_type": "stream",
     "text": [
      " 24%|██▎       | 1412/6000 [00:35<02:11, 34.80it/s]"
     ]
    },
    {
     "name": "stdout",
     "output_type": "stream",
     "text": [
      "[1, 0]\n",
      "[1, 0]\n",
      "[1, 0]\n",
      "[1, 0]\n",
      "[1, 0]\n",
      "[1, 0]\n",
      "[1, 0]\n",
      "[1, 0]\n"
     ]
    },
    {
     "name": "stderr",
     "output_type": "stream",
     "text": [
      " 24%|██▎       | 1420/6000 [00:36<02:12, 34.54it/s]"
     ]
    },
    {
     "name": "stdout",
     "output_type": "stream",
     "text": [
      "[1, 0]\n",
      "[1, 0]\n",
      "[1, 0]\n",
      "[1, 0]\n",
      "[1, 0]\n",
      "[1, 0]\n",
      "[1, 0]\n",
      "[1, 0]\n",
      "[1, 0]\n"
     ]
    },
    {
     "name": "stderr",
     "output_type": "stream",
     "text": [
      " 24%|██▍       | 1430/6000 [00:36<01:59, 38.31it/s]"
     ]
    },
    {
     "name": "stdout",
     "output_type": "stream",
     "text": [
      "[1, 0]\n",
      "[1, 0]\n",
      "[1, 0]\n",
      "[1, 0]\n",
      "[1, 0]\n",
      "[1, 0]\n",
      "[1, 0]\n",
      "[1, 0]\n"
     ]
    },
    {
     "name": "stderr",
     "output_type": "stream",
     "text": [
      " 24%|██▍       | 1439/6000 [00:36<02:04, 36.63it/s]"
     ]
    },
    {
     "name": "stdout",
     "output_type": "stream",
     "text": [
      "[1, 0]\n",
      "[1, 0]\n",
      "[1, 0]\n",
      "[1, 0]\n",
      "[1, 0]\n",
      "[1, 0]\n",
      "[1, 0]\n",
      "[1, 0]\n"
     ]
    },
    {
     "name": "stderr",
     "output_type": "stream",
     "text": [
      " 24%|██▍       | 1448/6000 [00:36<02:07, 35.69it/s]"
     ]
    },
    {
     "name": "stdout",
     "output_type": "stream",
     "text": [
      "[1, 0]\n",
      "[1, 0]\n",
      "[1, 0]\n",
      "[1, 0]\n",
      "[1, 0]\n",
      "[1, 0]\n",
      "[1, 0]\n",
      "[1, 0]\n",
      "[1, 0]\n"
     ]
    },
    {
     "name": "stderr",
     "output_type": "stream",
     "text": [
      "\r",
      " 24%|██▍       | 1455/6000 [00:37<01:51, 40.64it/s]"
     ]
    },
    {
     "name": "stdout",
     "output_type": "stream",
     "text": [
      "[1, 0]\n",
      "[1, 0]\n",
      "[1, 0]\n",
      "[1, 0]\n",
      "[1, 0]\n",
      "[1, 0]\n",
      "[1, 0]\n",
      "[1, 0]\n",
      "[1, 0]\n",
      "[1, 0]\n",
      "[1, 0]\n",
      "[1, 0]\n"
     ]
    },
    {
     "name": "stderr",
     "output_type": "stream",
     "text": [
      " 24%|██▍       | 1467/6000 [00:37<01:37, 46.53it/s]"
     ]
    },
    {
     "name": "stdout",
     "output_type": "stream",
     "text": [
      "[1, 0]\n",
      "[1, 0]\n",
      "[1, 0]\n",
      "[1, 0]\n",
      "[1, 0]\n",
      "[1, 0]\n",
      "[1, 0]\n",
      "[1, 0]\n",
      "[1, 0]\n",
      "[1, 0]\n",
      "[1, 0]\n",
      "[1, 0]\n",
      "[1, 0]\n"
     ]
    },
    {
     "name": "stderr",
     "output_type": "stream",
     "text": [
      " 25%|██▍       | 1480/6000 [00:37<01:31, 49.45it/s]"
     ]
    },
    {
     "name": "stdout",
     "output_type": "stream",
     "text": [
      "[1, 0]\n",
      "[1, 0]\n",
      "[1, 0]\n",
      "[1, 0]\n",
      "[1, 0]\n",
      "[1, 0]\n",
      "[1, 0]\n",
      "[1, 0]\n",
      "[1, 0]\n",
      "[1, 0]\n",
      "[1, 0]\n"
     ]
    },
    {
     "name": "stderr",
     "output_type": "stream",
     "text": [
      " 25%|██▍       | 1492/6000 [00:37<01:33, 48.35it/s]"
     ]
    },
    {
     "name": "stdout",
     "output_type": "stream",
     "text": [
      "[1, 0]\n",
      "[1, 0]\n",
      "[1, 0]\n",
      "[1, 0]\n",
      "[1, 0]\n",
      "[1, 0]\n",
      "[1, 0]\n",
      "[1, 0]\n",
      "[1, 0]\n"
     ]
    },
    {
     "name": "stderr",
     "output_type": "stream",
     "text": [
      " 25%|██▌       | 1504/6000 [00:38<01:29, 50.20it/s]"
     ]
    },
    {
     "name": "stdout",
     "output_type": "stream",
     "text": [
      "[1, 0]\n",
      "[1, 0]\n",
      "[1, 0]\n",
      "[1, 0]\n",
      "[1, 0]\n",
      "[1, 0]\n",
      "[1, 0]\n",
      "[1, 0]\n",
      "[1, 0]\n",
      "[1, 0]\n",
      "[1, 0]\n",
      "[1, 0]\n",
      "[1, 0]\n"
     ]
    },
    {
     "name": "stderr",
     "output_type": "stream",
     "text": [
      "\r",
      " 25%|██▌       | 1514/6000 [00:38<01:17, 57.70it/s]"
     ]
    },
    {
     "name": "stdout",
     "output_type": "stream",
     "text": [
      "[1, 0]\n",
      "[1, 0]\n",
      "[1, 0]\n",
      "[1, 0]\n",
      "[1, 0]\n",
      "[1, 0]\n",
      "[1, 0]\n",
      "[1, 0]\n",
      "[1, 0]\n",
      "[1, 0]\n",
      "[1, 0]\n",
      "[1, 0]\n",
      "[1, 0]\n",
      "[1, 0]\n"
     ]
    },
    {
     "name": "stderr",
     "output_type": "stream",
     "text": [
      " 25%|██▌       | 1527/6000 [00:38<01:33, 47.92it/s]"
     ]
    },
    {
     "name": "stdout",
     "output_type": "stream",
     "text": [
      "[1, 0]\n",
      "[1, 0]\n",
      "[1, 0]\n",
      "[1, 0]\n",
      "[1, 0]\n",
      "[1, 0]\n",
      "[1, 0]\n",
      "[1, 0]\n",
      "[1, 0]\n",
      "[1, 0]\n",
      "[1, 0]\n",
      "[1, 0]\n"
     ]
    },
    {
     "name": "stderr",
     "output_type": "stream",
     "text": [
      "\r",
      " 26%|██▌       | 1533/6000 [00:38<02:06, 35.32it/s]"
     ]
    },
    {
     "name": "stdout",
     "output_type": "stream",
     "text": [
      "[1, 0]\n",
      "[1, 0]\n",
      "[1, 0]\n",
      "[1, 0]\n",
      "[1, 0]\n",
      "[1, 0]\n"
     ]
    },
    {
     "name": "stderr",
     "output_type": "stream",
     "text": [
      " 26%|██▌       | 1542/6000 [00:39<02:29, 29.92it/s]"
     ]
    },
    {
     "name": "stdout",
     "output_type": "stream",
     "text": [
      "[1, 0]\n",
      "[1, 0]\n",
      "[1, 0]\n",
      "[1, 0]\n",
      "[1, 0]\n"
     ]
    },
    {
     "name": "stderr",
     "output_type": "stream",
     "text": [
      " 26%|██▌       | 1551/6000 [00:39<02:12, 33.45it/s]"
     ]
    },
    {
     "name": "stdout",
     "output_type": "stream",
     "text": [
      "[1, 0]\n",
      "[1, 0]\n",
      "[1, 0]\n",
      "[1, 0]\n",
      "[1, 0]\n",
      "[1, 0]\n",
      "[1, 0]\n",
      "[1, 0]\n",
      "[1, 0]\n"
     ]
    },
    {
     "name": "stderr",
     "output_type": "stream",
     "text": [
      "\r",
      " 26%|██▌       | 1555/6000 [00:39<02:26, 30.31it/s]"
     ]
    },
    {
     "name": "stdout",
     "output_type": "stream",
     "text": [
      "[1, 0]\n",
      "[1, 0]\n",
      "[1, 0]\n",
      "[1, 0]\n",
      "[1, 0]\n",
      "[1, 0]\n"
     ]
    },
    {
     "name": "stderr",
     "output_type": "stream",
     "text": [
      " 26%|██▌       | 1568/6000 [00:39<01:57, 37.86it/s]"
     ]
    },
    {
     "name": "stdout",
     "output_type": "stream",
     "text": [
      "[1, 0]\n",
      "[1, 0]\n",
      "[1, 0]\n",
      "[1, 0]\n",
      "[1, 0]\n",
      "[1, 0]\n",
      "[1, 0]\n",
      "[1, 0]\n",
      "[1, 0]\n",
      "[1, 0]\n",
      "[1, 0]\n",
      "[1, 0]\n",
      "[1, 0]\n",
      "[1, 0]\n",
      "[1, 0]\n"
     ]
    },
    {
     "name": "stderr",
     "output_type": "stream",
     "text": [
      " 26%|██▋       | 1580/6000 [00:39<01:40, 44.01it/s]"
     ]
    },
    {
     "name": "stdout",
     "output_type": "stream",
     "text": [
      "[1, 0]\n",
      "[1, 0]\n",
      "[1, 0]\n",
      "[1, 0]\n",
      "[1, 0]\n",
      "[1, 0]\n",
      "[1, 0]\n",
      "[1, 0]\n",
      "[1, 0]\n",
      "[1, 0]\n",
      "[1, 0]\n"
     ]
    },
    {
     "name": "stderr",
     "output_type": "stream",
     "text": [
      " 27%|██▋       | 1592/6000 [00:40<01:33, 46.94it/s]"
     ]
    },
    {
     "name": "stdout",
     "output_type": "stream",
     "text": [
      "[1, 0]\n",
      "[1, 0]\n",
      "[1, 0]\n",
      "[1, 0]\n",
      "[1, 0]\n",
      "[1, 0]\n",
      "[1, 0]\n",
      "[1, 0]\n",
      "[1, 0]\n",
      "[1, 0]\n"
     ]
    },
    {
     "name": "stderr",
     "output_type": "stream",
     "text": [
      " 27%|██▋       | 1604/6000 [00:40<01:34, 46.36it/s]"
     ]
    },
    {
     "name": "stdout",
     "output_type": "stream",
     "text": [
      "[1, 0]\n",
      "[1, 0]\n",
      "[1, 0]\n",
      "[1, 0]\n",
      "[1, 0]\n",
      "[1, 0]\n",
      "[1, 0]\n",
      "[1, 0]\n",
      "[1, 0]\n",
      "[1, 0]\n"
     ]
    },
    {
     "name": "stderr",
     "output_type": "stream",
     "text": [
      " 27%|██▋       | 1615/6000 [00:40<01:33, 46.78it/s]"
     ]
    },
    {
     "name": "stdout",
     "output_type": "stream",
     "text": [
      "[1, 0]\n",
      "[1, 0]\n",
      "[1, 0]\n",
      "[1, 0]\n",
      "[1, 0]\n",
      "[1, 0]\n",
      "[1, 0]\n",
      "[1, 0]\n",
      "[1, 0]\n",
      "[1, 0]\n",
      "[1, 0]\n",
      "[1, 0]\n"
     ]
    },
    {
     "name": "stderr",
     "output_type": "stream",
     "text": [
      " 27%|██▋       | 1625/6000 [00:40<01:32, 47.53it/s]"
     ]
    },
    {
     "name": "stdout",
     "output_type": "stream",
     "text": [
      "[1, 0]\n",
      "[1, 0]\n",
      "[1, 0]\n",
      "[1, 0]\n",
      "[1, 0]\n",
      "[1, 0]\n",
      "[1, 0]\n",
      "[1, 0]\n",
      "[1, 0]\n",
      "[1, 0]\n"
     ]
    },
    {
     "name": "stderr",
     "output_type": "stream",
     "text": [
      " 27%|██▋       | 1635/6000 [00:41<01:32, 47.17it/s]"
     ]
    },
    {
     "name": "stdout",
     "output_type": "stream",
     "text": [
      "[1, 0]\n",
      "[1, 0]\n",
      "[1, 0]\n",
      "[1, 0]\n",
      "[1, 0]\n",
      "[1, 0]\n",
      "[1, 0]\n",
      "[1, 0]\n",
      "[1, 0]\n",
      "[1, 0]\n"
     ]
    },
    {
     "name": "stderr",
     "output_type": "stream",
     "text": [
      " 27%|██▋       | 1646/6000 [00:41<01:32, 46.88it/s]"
     ]
    },
    {
     "name": "stdout",
     "output_type": "stream",
     "text": [
      "[1, 0]\n",
      "[1, 0]\n",
      "[1, 0]\n",
      "[1, 0]\n",
      "[1, 0]\n",
      "[1, 0]\n",
      "[1, 0]\n",
      "[1, 0]\n",
      "[1, 0]\n",
      "[1, 0]\n"
     ]
    },
    {
     "name": "stderr",
     "output_type": "stream",
     "text": [
      " 28%|██▊       | 1661/6000 [00:41<01:17, 55.83it/s]"
     ]
    },
    {
     "name": "stdout",
     "output_type": "stream",
     "text": [
      "[1, 0]\n",
      "[1, 0]\n",
      "[1, 0]\n",
      "[1, 0]\n",
      "[1, 0]\n",
      "[1, 0]\n",
      "[1, 0]\n",
      "[1, 0]\n",
      "[1, 0]\n",
      "[1, 0]\n",
      "[1, 0]\n",
      "[1, 0]\n",
      "[1, 0]\n",
      "[1, 0]\n",
      "[1, 0]\n"
     ]
    },
    {
     "name": "stderr",
     "output_type": "stream",
     "text": [
      "\r",
      " 28%|██▊       | 1667/6000 [00:41<01:37, 44.47it/s]"
     ]
    },
    {
     "name": "stdout",
     "output_type": "stream",
     "text": [
      "[1, 0]\n",
      "[1, 0]\n",
      "[1, 0]\n",
      "[1, 0]\n",
      "[1, 0]\n",
      "[1, 0]\n",
      "[1, 0]\n",
      "[1, 0]\n"
     ]
    },
    {
     "name": "stderr",
     "output_type": "stream",
     "text": [
      " 28%|██▊       | 1679/6000 [00:41<01:28, 48.63it/s]"
     ]
    },
    {
     "name": "stdout",
     "output_type": "stream",
     "text": [
      "[1, 0]\n",
      "[1, 0]\n",
      "[1, 0]\n",
      "[1, 0]\n",
      "[1, 0]\n",
      "[1, 0]\n",
      "[1, 0]\n",
      "[1, 0]\n",
      "[1, 0]\n",
      "[1, 0]\n",
      "[1, 0]\n"
     ]
    },
    {
     "name": "stderr",
     "output_type": "stream",
     "text": [
      "\r",
      " 28%|██▊       | 1685/6000 [00:42<01:54, 37.65it/s]"
     ]
    },
    {
     "name": "stdout",
     "output_type": "stream",
     "text": [
      "[1, 0]\n",
      "[1, 0]\n",
      "[1, 0]\n",
      "[1, 0]\n",
      "[1, 0]\n"
     ]
    },
    {
     "name": "stderr",
     "output_type": "stream",
     "text": [
      "\r",
      " 28%|██▊       | 1693/6000 [00:42<01:36, 44.57it/s]"
     ]
    },
    {
     "name": "stdout",
     "output_type": "stream",
     "text": [
      "[1, 0]\n",
      "[1, 0]\n",
      "[1, 0]\n",
      "[1, 0]\n",
      "[1, 0]\n",
      "[1, 0]\n",
      "[1, 0]\n",
      "[1, 0]\n",
      "[1, 0]\n",
      "[1, 0]\n"
     ]
    },
    {
     "name": "stderr",
     "output_type": "stream",
     "text": [
      "\r",
      " 28%|██▊       | 1699/6000 [00:42<01:51, 38.66it/s]"
     ]
    },
    {
     "name": "stdout",
     "output_type": "stream",
     "text": [
      "[1, 0]\n",
      "[1, 0]\n",
      "[1, 0]\n",
      "[1, 0]\n",
      "[1, 0]\n",
      "[1, 0]\n",
      "[1, 0]\n",
      "[1, 0]\n"
     ]
    },
    {
     "name": "stderr",
     "output_type": "stream",
     "text": [
      " 28%|██▊       | 1709/6000 [00:42<01:56, 36.94it/s]"
     ]
    },
    {
     "name": "stdout",
     "output_type": "stream",
     "text": [
      "[1, 0]\n",
      "[1, 0]\n",
      "[1, 0]\n",
      "[1, 0]\n",
      "[1, 0]\n",
      "[1, 0]\n",
      "[1, 0]\n",
      "[1, 0]\n",
      "[1, 0]\n",
      "[1, 0]\n"
     ]
    },
    {
     "name": "stderr",
     "output_type": "stream",
     "text": [
      " 29%|██▊       | 1720/6000 [00:43<01:41, 42.24it/s]"
     ]
    },
    {
     "name": "stdout",
     "output_type": "stream",
     "text": [
      "[1, 0]\n",
      "[1, 0]\n",
      "[1, 0]\n",
      "[1, 0]\n",
      "[1, 0]\n",
      "[1, 0]\n",
      "[1, 0]\n",
      "[1, 0]\n",
      "[1, 0]\n",
      "[1, 0]\n"
     ]
    },
    {
     "name": "stderr",
     "output_type": "stream",
     "text": [
      " 29%|██▉       | 1732/6000 [00:43<01:32, 46.01it/s]"
     ]
    },
    {
     "name": "stdout",
     "output_type": "stream",
     "text": [
      "[1, 0]\n",
      "[1, 0]\n",
      "[1, 0]\n",
      "[1, 0]\n",
      "[1, 0]\n",
      "[1, 0]\n",
      "[1, 0]\n",
      "[1, 0]\n",
      "[1, 0]\n",
      "[1, 0]\n",
      "[1, 0]\n",
      "[1, 0]\n"
     ]
    },
    {
     "name": "stderr",
     "output_type": "stream",
     "text": [
      "\r",
      " 29%|██▉       | 1738/6000 [00:43<01:26, 49.06it/s]"
     ]
    },
    {
     "name": "stdout",
     "output_type": "stream",
     "text": [
      "[1, 0]\n",
      "[1, 0]\n",
      "[1, 0]\n",
      "[1, 0]\n",
      "[1, 0]\n",
      "[1, 0]\n",
      "[1, 0]\n",
      "[1, 0]\n"
     ]
    },
    {
     "name": "stderr",
     "output_type": "stream",
     "text": [
      " 29%|██▉       | 1751/6000 [00:43<01:32, 46.09it/s]"
     ]
    },
    {
     "name": "stdout",
     "output_type": "stream",
     "text": [
      "[1, 0]\n",
      "[1, 0]\n",
      "[1, 0]\n",
      "[1, 0]\n",
      "[1, 0]\n",
      "[1, 0]\n",
      "[1, 0]\n",
      "[1, 0]\n",
      "[1, 0]\n",
      "[1, 0]\n",
      "[1, 0]\n"
     ]
    },
    {
     "name": "stderr",
     "output_type": "stream",
     "text": [
      "\r",
      " 29%|██▉       | 1757/6000 [00:43<01:54, 37.17it/s]"
     ]
    },
    {
     "name": "stdout",
     "output_type": "stream",
     "text": [
      "[1, 0]\n",
      "[1, 0]\n",
      "[1, 0]\n"
     ]
    },
    {
     "name": "stderr",
     "output_type": "stream",
     "text": [
      "\r",
      " 29%|██▉       | 1762/6000 [00:44<02:29, 28.26it/s]"
     ]
    },
    {
     "name": "stdout",
     "output_type": "stream",
     "text": [
      "[1, 0]\n",
      "[1, 0]\n",
      "[1, 0]\n",
      "[1, 0]\n",
      "[1, 0]\n"
     ]
    },
    {
     "name": "stderr",
     "output_type": "stream",
     "text": [
      "\r",
      " 29%|██▉       | 1766/6000 [00:44<02:45, 25.53it/s]"
     ]
    },
    {
     "name": "stdout",
     "output_type": "stream",
     "text": [
      "[1, 0]\n",
      "[1, 0]\n",
      "[1, 0]\n",
      "[1, 0]\n",
      "[1, 0]\n",
      "[1, 0]\n"
     ]
    },
    {
     "name": "stderr",
     "output_type": "stream",
     "text": [
      " 30%|██▉       | 1774/6000 [00:44<02:45, 25.57it/s]"
     ]
    },
    {
     "name": "stdout",
     "output_type": "stream",
     "text": [
      "[1, 0]\n",
      "[1, 0]\n",
      "[1, 0]\n",
      "[1, 0]\n",
      "[1, 0]\n",
      "[1, 0]\n"
     ]
    },
    {
     "name": "stderr",
     "output_type": "stream",
     "text": [
      " 30%|██▉       | 1782/6000 [00:44<02:22, 29.65it/s]"
     ]
    },
    {
     "name": "stdout",
     "output_type": "stream",
     "text": [
      "[1, 0]\n",
      "[1, 0]\n",
      "[1, 0]\n",
      "[1, 0]\n",
      "[1, 0]\n",
      "[1, 0]\n",
      "[1, 0]\n",
      "[1, 0]\n"
     ]
    },
    {
     "name": "stderr",
     "output_type": "stream",
     "text": [
      " 30%|██▉       | 1790/6000 [00:45<02:11, 31.98it/s]"
     ]
    },
    {
     "name": "stdout",
     "output_type": "stream",
     "text": [
      "[1, 0]\n",
      "[1, 0]\n",
      "[1, 0]\n",
      "[1, 0]\n",
      "[1, 0]\n",
      "[1, 0]\n",
      "[1, 0]\n",
      "[1, 0]\n",
      "[1, 0]\n"
     ]
    },
    {
     "name": "stderr",
     "output_type": "stream",
     "text": [
      " 30%|███       | 1800/6000 [00:45<01:52, 37.42it/s]"
     ]
    },
    {
     "name": "stdout",
     "output_type": "stream",
     "text": [
      "[1, 0]\n",
      "[1, 0]\n",
      "[1, 0]\n",
      "[1, 0]\n",
      "[1, 0]\n",
      "[1, 0]\n",
      "[1, 0]\n",
      "[1, 0]\n",
      "[1, 0]\n",
      "[1, 0]\n"
     ]
    },
    {
     "name": "stderr",
     "output_type": "stream",
     "text": [
      " 30%|███       | 1809/6000 [00:45<01:45, 39.56it/s]"
     ]
    },
    {
     "name": "stdout",
     "output_type": "stream",
     "text": [
      "[1, 0]\n",
      "[1, 0]\n",
      "[1, 0]\n",
      "[1, 0]\n",
      "[1, 0]\n",
      "[1, 0]\n",
      "[1, 0]\n",
      "[1, 0]\n",
      "[1, 0]\n"
     ]
    },
    {
     "name": "stderr",
     "output_type": "stream",
     "text": [
      " 30%|███       | 1818/6000 [00:45<01:59, 34.90it/s]"
     ]
    },
    {
     "name": "stdout",
     "output_type": "stream",
     "text": [
      "[1, 0]\n",
      "[1, 0]\n",
      "[1, 0]\n",
      "[1, 0]\n",
      "[1, 0]\n",
      "[1, 0]\n",
      "[1, 0]\n",
      "[1, 0]\n"
     ]
    },
    {
     "name": "stderr",
     "output_type": "stream",
     "text": [
      " 30%|███       | 1830/6000 [00:46<01:38, 42.52it/s]"
     ]
    },
    {
     "name": "stdout",
     "output_type": "stream",
     "text": [
      "[1, 0]\n",
      "[1, 0]\n",
      "[1, 0]\n",
      "[1, 0]\n",
      "[1, 0]\n",
      "[1, 0]\n",
      "[1, 0]\n",
      "[1, 0]\n",
      "[1, 0]\n",
      "[1, 0]\n",
      "[1, 0]\n",
      "[1, 0]\n",
      "[1, 0]\n"
     ]
    },
    {
     "name": "stderr",
     "output_type": "stream",
     "text": [
      " 31%|███       | 1842/6000 [00:46<01:25, 48.60it/s]"
     ]
    },
    {
     "name": "stdout",
     "output_type": "stream",
     "text": [
      "[1, 0]\n",
      "[1, 0]\n",
      "[1, 0]\n",
      "[1, 0]\n",
      "[1, 0]\n",
      "[1, 0]\n",
      "[1, 0]\n",
      "[1, 0]\n",
      "[1, 0]\n",
      "[1, 0]\n",
      "[1, 0]\n"
     ]
    },
    {
     "name": "stderr",
     "output_type": "stream",
     "text": [
      "\r",
      " 31%|███       | 1848/6000 [00:46<01:30, 45.89it/s]"
     ]
    },
    {
     "name": "stdout",
     "output_type": "stream",
     "text": [
      "[1, 0]\n",
      "[1, 0]\n",
      "[1, 0]\n",
      "[1, 0]\n",
      "[1, 0]\n",
      "[1, 0]\n",
      "[1, 0]\n",
      "[1, 0]\n",
      "[1, 0]\n"
     ]
    },
    {
     "name": "stderr",
     "output_type": "stream",
     "text": [
      " 31%|███       | 1858/6000 [00:46<01:42, 40.50it/s]"
     ]
    },
    {
     "name": "stdout",
     "output_type": "stream",
     "text": [
      "[1, 0]\n",
      "[1, 0]\n",
      "[1, 0]\n",
      "[1, 0]\n",
      "[1, 0]\n",
      "[1, 0]\n",
      "[1, 0]\n",
      "[1, 0]\n",
      "[1, 0]\n"
     ]
    },
    {
     "name": "stderr",
     "output_type": "stream",
     "text": [
      " 31%|███       | 1870/6000 [00:46<01:29, 46.30it/s]"
     ]
    },
    {
     "name": "stdout",
     "output_type": "stream",
     "text": [
      "[1, 0]\n",
      "[1, 0]\n",
      "[1, 0]\n",
      "[1, 0]\n",
      "[1, 0]\n",
      "[1, 0]\n",
      "[1, 0]\n",
      "[1, 0]\n",
      "[1, 0]\n",
      "[1, 0]\n",
      "[1, 0]\n"
     ]
    },
    {
     "name": "stderr",
     "output_type": "stream",
     "text": [
      "\r",
      " 31%|███▏      | 1877/6000 [00:47<01:23, 49.33it/s]"
     ]
    },
    {
     "name": "stdout",
     "output_type": "stream",
     "text": [
      "[1, 0]\n",
      "[1, 0]\n",
      "[1, 0]\n",
      "[1, 0]\n",
      "[1, 0]\n",
      "[1, 0]\n",
      "[1, 0]\n",
      "[1, 0]\n",
      "[1, 0]\n",
      "[1, 0]\n",
      "[1, 0]\n"
     ]
    },
    {
     "name": "stderr",
     "output_type": "stream",
     "text": [
      " 31%|███▏      | 1888/6000 [00:47<01:29, 45.96it/s]"
     ]
    },
    {
     "name": "stdout",
     "output_type": "stream",
     "text": [
      "[1, 0]\n",
      "[1, 0]\n",
      "[1, 0]\n",
      "[1, 0]\n",
      "[1, 0]\n",
      "[1, 0]\n",
      "[1, 0]\n",
      "[1, 0]\n",
      "[1, 0]\n",
      "[1, 0]\n"
     ]
    },
    {
     "name": "stderr",
     "output_type": "stream",
     "text": [
      " 32%|███▏      | 1899/6000 [00:47<01:25, 48.12it/s]"
     ]
    },
    {
     "name": "stdout",
     "output_type": "stream",
     "text": [
      "[1, 0]\n",
      "[1, 0]\n",
      "[1, 0]\n",
      "[1, 0]\n",
      "[1, 0]\n",
      "[1, 0]\n",
      "[1, 0]\n",
      "[1, 0]\n",
      "[1, 0]\n",
      "[1, 0]\n",
      "[1, 0]\n"
     ]
    },
    {
     "name": "stderr",
     "output_type": "stream",
     "text": [
      " 32%|███▏      | 1910/6000 [00:47<01:22, 49.65it/s]"
     ]
    },
    {
     "name": "stdout",
     "output_type": "stream",
     "text": [
      "[1, 0]\n",
      "[1, 0]\n",
      "[1, 0]\n",
      "[1, 0]\n",
      "[1, 0]\n",
      "[1, 0]\n",
      "[1, 0]\n",
      "[1, 0]\n",
      "[1, 0]\n",
      "[1, 0]\n",
      "[1, 0]\n"
     ]
    },
    {
     "name": "stderr",
     "output_type": "stream",
     "text": [
      " 32%|███▏      | 1921/6000 [00:48<01:34, 43.28it/s]"
     ]
    },
    {
     "name": "stdout",
     "output_type": "stream",
     "text": [
      "[1, 0]\n",
      "[1, 0]\n",
      "[1, 0]\n",
      "[1, 0]\n",
      "[1, 0]\n",
      "[1, 0]\n",
      "[1, 0]\n",
      "[1, 0]\n",
      "[1, 0]\n",
      "[1, 0]\n",
      "[1, 0]\n"
     ]
    },
    {
     "name": "stderr",
     "output_type": "stream",
     "text": [
      " 32%|███▏      | 1935/6000 [00:48<01:20, 50.76it/s]"
     ]
    },
    {
     "name": "stdout",
     "output_type": "stream",
     "text": [
      "[1, 0]\n",
      "[1, 0]\n",
      "[1, 0]\n",
      "[1, 0]\n",
      "[1, 0]\n",
      "[1, 0]\n",
      "[1, 0]\n",
      "[1, 0]\n",
      "[1, 0]\n",
      "[1, 0]\n",
      "[1, 0]\n",
      "[1, 0]\n"
     ]
    },
    {
     "name": "stderr",
     "output_type": "stream",
     "text": [
      "\r",
      " 32%|███▏      | 1941/6000 [00:48<01:18, 51.77it/s]"
     ]
    },
    {
     "name": "stdout",
     "output_type": "stream",
     "text": [
      "[1, 0]\n",
      "[1, 0]\n",
      "[1, 0]\n",
      "[1, 0]\n",
      "[1, 0]\n",
      "[1, 0]\n",
      "[1, 0]\n",
      "[1, 0]\n"
     ]
    },
    {
     "name": "stderr",
     "output_type": "stream",
     "text": [
      " 33%|███▎      | 1952/6000 [00:48<01:44, 38.71it/s]"
     ]
    },
    {
     "name": "stdout",
     "output_type": "stream",
     "text": [
      "[1, 0]\n",
      "[1, 0]\n",
      "[1, 0]\n",
      "[1, 0]\n",
      "[1, 0]\n",
      "[1, 0]\n",
      "[1, 0]\n"
     ]
    },
    {
     "name": "stderr",
     "output_type": "stream",
     "text": [
      "\r",
      " 33%|███▎      | 1957/6000 [00:48<01:44, 38.68it/s]"
     ]
    },
    {
     "name": "stdout",
     "output_type": "stream",
     "text": [
      "[1, 0]\n",
      "[1, 0]\n",
      "[1, 0]\n",
      "[1, 0]\n",
      "[1, 0]\n",
      "[1, 0]\n",
      "[1, 0]\n"
     ]
    },
    {
     "name": "stderr",
     "output_type": "stream",
     "text": [
      " 33%|███▎      | 1967/6000 [00:49<02:00, 33.42it/s]"
     ]
    },
    {
     "name": "stdout",
     "output_type": "stream",
     "text": [
      "[1, 0]\n",
      "[1, 0]\n",
      "[1, 0]\n",
      "[1, 0]\n",
      "[1, 0]\n",
      "[1, 0]\n",
      "[1, 0]\n",
      "[1, 0]\n"
     ]
    },
    {
     "name": "stderr",
     "output_type": "stream",
     "text": [
      "\r",
      " 33%|███▎      | 1971/6000 [00:49<01:58, 33.95it/s]"
     ]
    },
    {
     "name": "stdout",
     "output_type": "stream",
     "text": [
      "[1, 0]\n",
      "[1, 0]\n",
      "[1, 0]\n",
      "[1, 0]\n",
      "[1, 0]\n",
      "[1, 0]\n",
      "[1, 0]\n",
      "[1, 0]\n"
     ]
    },
    {
     "name": "stderr",
     "output_type": "stream",
     "text": [
      " 33%|███▎      | 1983/6000 [00:49<01:54, 35.22it/s]"
     ]
    },
    {
     "name": "stdout",
     "output_type": "stream",
     "text": [
      "[1, 0]\n",
      "[1, 0]\n",
      "[1, 0]\n",
      "[1, 0]\n",
      "[1, 0]\n",
      "[1, 0]\n",
      "[1, 0]\n",
      "[1, 0]\n",
      "[1, 0]\n"
     ]
    },
    {
     "name": "stderr",
     "output_type": "stream",
     "text": [
      " 33%|███▎      | 1992/6000 [00:49<01:46, 37.53it/s]"
     ]
    },
    {
     "name": "stdout",
     "output_type": "stream",
     "text": [
      "[1, 0]\n",
      "[1, 0]\n",
      "[1, 0]\n",
      "[1, 0]\n",
      "[1, 0]\n",
      "[1, 0]\n",
      "[1, 0]\n",
      "[1, 0]\n",
      "[1, 0]\n",
      "[1, 0]\n"
     ]
    },
    {
     "name": "stderr",
     "output_type": "stream",
     "text": [
      " 33%|███▎      | 2002/6000 [00:50<01:38, 40.39it/s]"
     ]
    },
    {
     "name": "stdout",
     "output_type": "stream",
     "text": [
      "[1, 0]\n",
      "[1, 0]\n",
      "[1, 0]\n",
      "[1, 0]\n",
      "[1, 0]\n",
      "[1, 0]\n",
      "[1, 0]\n",
      "[1, 0]\n",
      "[1, 0]\n"
     ]
    },
    {
     "name": "stderr",
     "output_type": "stream",
     "text": [
      " 34%|███▎      | 2012/6000 [00:50<01:40, 39.63it/s]"
     ]
    },
    {
     "name": "stdout",
     "output_type": "stream",
     "text": [
      "[1, 0]\n",
      "[1, 0]\n",
      "[1, 0]\n",
      "[1, 0]\n",
      "[1, 0]\n",
      "[1, 0]\n",
      "[1, 0]\n",
      "[1, 0]\n",
      "[1, 0]\n"
     ]
    },
    {
     "name": "stderr",
     "output_type": "stream",
     "text": [
      "\r",
      " 34%|███▎      | 2018/6000 [00:50<01:35, 41.49it/s]"
     ]
    },
    {
     "name": "stdout",
     "output_type": "stream",
     "text": [
      "[1, 0]\n",
      "[1, 0]\n",
      "[1, 0]\n",
      "[1, 0]\n",
      "[1, 0]\n",
      "[1, 0]\n",
      "[1, 0]\n",
      "[1, 0]\n",
      "[1, 0]\n"
     ]
    },
    {
     "name": "stderr",
     "output_type": "stream",
     "text": [
      " 34%|███▍      | 2029/6000 [00:50<01:28, 44.77it/s]"
     ]
    },
    {
     "name": "stdout",
     "output_type": "stream",
     "text": [
      "[1, 0]\n",
      "[1, 0]\n",
      "[1, 0]\n",
      "[1, 0]\n",
      "[1, 0]\n",
      "[1, 0]\n",
      "[1, 0]\n",
      "[1, 0]\n",
      "[1, 0]\n",
      "[1, 0]\n",
      "[1, 0]\n"
     ]
    },
    {
     "name": "stderr",
     "output_type": "stream",
     "text": [
      " 34%|███▍      | 2040/6000 [00:51<01:26, 45.55it/s]"
     ]
    },
    {
     "name": "stdout",
     "output_type": "stream",
     "text": [
      "[1, 0]\n",
      "[1, 0]\n",
      "[1, 0]\n",
      "[1, 0]\n",
      "[1, 0]\n",
      "[1, 0]\n",
      "[1, 0]\n",
      "[1, 0]\n",
      "[1, 0]\n",
      "[1, 0]\n",
      "[1, 0]\n",
      "[1, 0]\n"
     ]
    },
    {
     "name": "stderr",
     "output_type": "stream",
     "text": [
      " 34%|███▍      | 2053/6000 [00:51<01:17, 50.68it/s]"
     ]
    },
    {
     "name": "stdout",
     "output_type": "stream",
     "text": [
      "[1, 0]\n",
      "[1, 0]\n",
      "[1, 0]\n",
      "[1, 0]\n",
      "[1, 0]\n",
      "[1, 0]\n",
      "[1, 0]\n",
      "[1, 0]\n",
      "[1, 0]\n",
      "[1, 0]\n",
      "[1, 0]\n",
      "[1, 0]\n"
     ]
    },
    {
     "name": "stderr",
     "output_type": "stream",
     "text": [
      " 34%|███▍      | 2065/6000 [00:51<01:16, 51.13it/s]"
     ]
    },
    {
     "name": "stdout",
     "output_type": "stream",
     "text": [
      "[1, 0]\n",
      "[1, 0]\n",
      "[1, 0]\n",
      "[1, 0]\n",
      "[1, 0]\n",
      "[1, 0]\n",
      "[1, 0]\n",
      "[1, 0]\n",
      "[1, 0]\n",
      "[1, 0]\n"
     ]
    },
    {
     "name": "stderr",
     "output_type": "stream",
     "text": [
      " 35%|███▍      | 2078/6000 [00:51<01:13, 53.31it/s]"
     ]
    },
    {
     "name": "stdout",
     "output_type": "stream",
     "text": [
      "[1, 0]\n",
      "[1, 0]\n",
      "[1, 0]\n",
      "[1, 0]\n",
      "[1, 0]\n",
      "[1, 0]\n",
      "[1, 0]\n",
      "[1, 0]\n",
      "[1, 0]\n",
      "[1, 0]\n",
      "[1, 0]\n",
      "[1, 0]\n",
      "[1, 0]\n",
      "[1, 0]\n",
      "[1, 0]\n",
      "[1, 0]\n"
     ]
    },
    {
     "name": "stderr",
     "output_type": "stream",
     "text": [
      " 35%|███▍      | 2089/6000 [00:52<01:49, 35.59it/s]"
     ]
    },
    {
     "name": "stdout",
     "output_type": "stream",
     "text": [
      "[1, 0]\n",
      "[1, 0]\n",
      "[1, 0]\n",
      "[1, 0]\n",
      "[1, 0]\n",
      "[1, 0]\n",
      "[1, 0]\n",
      "[1, 0]\n"
     ]
    },
    {
     "name": "stderr",
     "output_type": "stream",
     "text": [
      "\r",
      " 35%|███▍      | 2094/6000 [00:52<02:02, 31.98it/s]"
     ]
    },
    {
     "name": "stdout",
     "output_type": "stream",
     "text": [
      "[1, 0]\n",
      "[1, 0]\n",
      "[1, 0]\n",
      "[1, 0]\n",
      "[1, 0]\n",
      "[1, 0]\n",
      "[1, 0]\n"
     ]
    },
    {
     "name": "stderr",
     "output_type": "stream",
     "text": [
      " 35%|███▌      | 2102/6000 [00:52<01:50, 35.36it/s]"
     ]
    },
    {
     "name": "stdout",
     "output_type": "stream",
     "text": [
      "[1, 0]\n",
      "[1, 0]\n",
      "[1, 0]\n",
      "[1, 0]\n",
      "[1, 0]\n",
      "[1, 0]\n",
      "[1, 0]\n",
      "[1, 0]\n"
     ]
    },
    {
     "name": "stderr",
     "output_type": "stream",
     "text": [
      " 35%|███▌      | 2112/6000 [00:52<01:44, 37.34it/s]"
     ]
    },
    {
     "name": "stdout",
     "output_type": "stream",
     "text": [
      "[1, 0]\n",
      "[1, 0]\n",
      "[1, 0]\n",
      "[1, 0]\n",
      "[1, 0]\n",
      "[1, 0]\n",
      "[1, 0]\n",
      "[1, 0]\n"
     ]
    },
    {
     "name": "stderr",
     "output_type": "stream",
     "text": [
      "\r",
      " 35%|███▌      | 2117/6000 [00:53<01:59, 32.57it/s]"
     ]
    },
    {
     "name": "stdout",
     "output_type": "stream",
     "text": [
      "[1, 0]\n",
      "[1, 0]\n",
      "[1, 0]\n",
      "[1, 0]\n",
      "[1, 0]\n",
      "[1, 0]\n",
      "[1, 0]\n",
      "[1, 0]\n",
      "[1, 0]\n"
     ]
    },
    {
     "name": "stderr",
     "output_type": "stream",
     "text": [
      " 35%|███▌      | 2128/6000 [00:53<01:44, 37.07it/s]"
     ]
    },
    {
     "name": "stdout",
     "output_type": "stream",
     "text": [
      "[1, 0]\n",
      "[1, 0]\n",
      "[1, 0]\n",
      "[1, 0]\n",
      "[1, 0]\n",
      "[1, 0]\n",
      "[1, 0]\n",
      "[1, 0]\n",
      "[1, 0]\n",
      "[1, 0]\n"
     ]
    },
    {
     "name": "stderr",
     "output_type": "stream",
     "text": [
      " 36%|███▌      | 2145/6000 [00:53<01:16, 50.31it/s]"
     ]
    },
    {
     "name": "stdout",
     "output_type": "stream",
     "text": [
      "[1, 0]\n",
      "[1, 0]\n",
      "[1, 0]\n",
      "[1, 0]\n",
      "[1, 0]\n",
      "[1, 0]\n",
      "[1, 0]\n",
      "[1, 0]\n",
      "[1, 0]\n",
      "[1, 0]\n",
      "[1, 0]\n",
      "[1, 0]\n",
      "[1, 0]\n",
      "[1, 0]\n",
      "[1, 0]\n",
      "[1, 0]\n",
      "[1, 0]\n"
     ]
    },
    {
     "name": "stderr",
     "output_type": "stream",
     "text": [
      " 36%|███▌      | 2159/6000 [00:53<01:06, 58.11it/s]"
     ]
    },
    {
     "name": "stdout",
     "output_type": "stream",
     "text": [
      "[1, 0]\n",
      "[1, 0]\n",
      "[1, 0]\n",
      "[1, 0]\n",
      "[1, 0]\n",
      "[1, 0]\n",
      "[1, 0]\n",
      "[1, 0]\n",
      "[1, 0]\n",
      "[1, 0]\n",
      "[1, 0]\n",
      "[1, 0]\n",
      "[1, 0]\n",
      "[1, 0]\n"
     ]
    },
    {
     "name": "stderr",
     "output_type": "stream",
     "text": [
      " 36%|███▌      | 2173/6000 [00:53<01:06, 57.23it/s]"
     ]
    },
    {
     "name": "stdout",
     "output_type": "stream",
     "text": [
      "[1, 0]\n",
      "[1, 0]\n",
      "[1, 0]\n",
      "[1, 0]\n",
      "[1, 0]\n",
      "[1, 0]\n",
      "[1, 0]\n",
      "[1, 0]\n",
      "[1, 0]\n",
      "[1, 0]\n"
     ]
    },
    {
     "name": "stderr",
     "output_type": "stream",
     "text": [
      "\r",
      " 36%|███▋      | 2180/6000 [00:54<01:18, 48.46it/s]"
     ]
    },
    {
     "name": "stdout",
     "output_type": "stream",
     "text": [
      "[1, 0]\n",
      "[1, 0]\n",
      "[1, 0]\n",
      "[1, 0]\n",
      "[1, 0]\n",
      "[1, 0]\n",
      "[1, 0]\n",
      "[1, 0]\n",
      "[1, 0]\n",
      "[1, 0]\n",
      "[1, 0]\n",
      "[1, 0]\n",
      "[1, 0]\n"
     ]
    },
    {
     "name": "stderr",
     "output_type": "stream",
     "text": [
      " 37%|███▋      | 2193/6000 [00:54<01:14, 51.04it/s]"
     ]
    },
    {
     "name": "stdout",
     "output_type": "stream",
     "text": [
      "[1, 0]\n",
      "[1, 0]\n",
      "[1, 0]\n",
      "[1, 0]\n",
      "[1, 0]\n",
      "[1, 0]\n",
      "[1, 0]\n",
      "[1, 0]\n",
      "[1, 0]\n",
      "[1, 0]\n"
     ]
    },
    {
     "name": "stderr",
     "output_type": "stream",
     "text": [
      "\r",
      " 37%|███▋      | 2199/6000 [00:54<01:11, 52.93it/s]"
     ]
    },
    {
     "name": "stdout",
     "output_type": "stream",
     "text": [
      "[1, 0]\n",
      "[1, 0]\n",
      "[1, 0]\n",
      "[1, 0]\n",
      "[1, 0]\n",
      "[1, 0]\n",
      "[1, 0]\n",
      "[1, 0]\n"
     ]
    },
    {
     "name": "stderr",
     "output_type": "stream",
     "text": [
      " 37%|███▋      | 2210/6000 [00:54<01:33, 40.60it/s]"
     ]
    },
    {
     "name": "stdout",
     "output_type": "stream",
     "text": [
      "[1, 0]\n",
      "[1, 0]\n",
      "[1, 0]\n",
      "[1, 0]\n",
      "[1, 0]\n",
      "[1, 0]\n",
      "[1, 0]\n",
      "[1, 0]\n"
     ]
    },
    {
     "name": "stderr",
     "output_type": "stream",
     "text": [
      "\r",
      " 37%|███▋      | 2215/6000 [00:55<01:49, 34.66it/s]"
     ]
    },
    {
     "name": "stdout",
     "output_type": "stream",
     "text": [
      "[1, 0]\n",
      "[1, 0]\n",
      "[1, 0]\n",
      "[1, 0]\n",
      "[1, 0]\n",
      "[1, 0]\n"
     ]
    },
    {
     "name": "stderr",
     "output_type": "stream",
     "text": [
      " 37%|███▋      | 2223/6000 [00:55<01:45, 35.87it/s]"
     ]
    },
    {
     "name": "stdout",
     "output_type": "stream",
     "text": [
      "[1, 0]\n",
      "[1, 0]\n",
      "[1, 0]\n",
      "[1, 0]\n",
      "[1, 0]\n",
      "[1, 0]\n",
      "[1, 0]\n"
     ]
    },
    {
     "name": "stderr",
     "output_type": "stream",
     "text": [
      " 37%|███▋      | 2231/6000 [00:55<01:48, 34.89it/s]"
     ]
    },
    {
     "name": "stdout",
     "output_type": "stream",
     "text": [
      "[1, 0]\n",
      "[1, 0]\n",
      "[1, 0]\n",
      "[1, 0]\n",
      "[1, 0]\n",
      "[1, 0]\n",
      "[1, 0]\n",
      "[1, 0]\n",
      "[1, 0]\n",
      "[1, 0]\n"
     ]
    },
    {
     "name": "stderr",
     "output_type": "stream",
     "text": [
      " 37%|███▋      | 2242/6000 [00:55<01:36, 38.91it/s]"
     ]
    },
    {
     "name": "stdout",
     "output_type": "stream",
     "text": [
      "[1, 0]\n",
      "[1, 0]\n",
      "[1, 0]\n",
      "[1, 0]\n",
      "[1, 0]\n",
      "[1, 0]\n",
      "[1, 0]\n",
      "[1, 0]\n",
      "[1, 0]\n",
      "[1, 0]\n",
      "[1, 0]\n",
      "[1, 0]\n"
     ]
    },
    {
     "name": "stderr",
     "output_type": "stream",
     "text": [
      " 38%|███▊      | 2253/6000 [00:56<01:36, 38.79it/s]"
     ]
    },
    {
     "name": "stdout",
     "output_type": "stream",
     "text": [
      "[1, 0]\n",
      "[1, 0]\n",
      "[1, 0]\n",
      "[1, 0]\n",
      "[1, 0]\n",
      "[1, 0]\n"
     ]
    },
    {
     "name": "stderr",
     "output_type": "stream",
     "text": [
      "\r",
      " 38%|███▊      | 2257/6000 [00:56<02:00, 31.05it/s]"
     ]
    },
    {
     "name": "stdout",
     "output_type": "stream",
     "text": [
      "[1, 0]\n",
      "[1, 0]\n",
      "[1, 0]\n",
      "[1, 0]\n",
      "[1, 0]\n",
      "[1, 0]\n",
      "[1, 0]\n",
      "[1, 0]\n"
     ]
    },
    {
     "name": "stderr",
     "output_type": "stream",
     "text": [
      " 38%|███▊      | 2269/6000 [00:56<01:33, 39.71it/s]"
     ]
    },
    {
     "name": "stdout",
     "output_type": "stream",
     "text": [
      "[1, 0]\n",
      "[1, 0]\n",
      "[1, 0]\n",
      "[1, 0]\n",
      "[1, 0]\n",
      "[1, 0]\n",
      "[1, 0]\n",
      "[1, 0]\n",
      "[1, 0]\n",
      "[1, 0]\n",
      "[1, 0]\n"
     ]
    },
    {
     "name": "stderr",
     "output_type": "stream",
     "text": [
      " 38%|███▊      | 2279/6000 [00:56<01:42, 36.17it/s]"
     ]
    },
    {
     "name": "stdout",
     "output_type": "stream",
     "text": [
      "[1, 0]\n",
      "[1, 0]\n",
      "[1, 0]\n",
      "[1, 0]\n",
      "[1, 0]\n",
      "[1, 0]\n",
      "[1, 0]\n"
     ]
    },
    {
     "name": "stderr",
     "output_type": "stream",
     "text": [
      " 38%|███▊      | 2289/6000 [00:56<01:32, 40.24it/s]"
     ]
    },
    {
     "name": "stdout",
     "output_type": "stream",
     "text": [
      "[1, 0]\n",
      "[1, 0]\n",
      "[1, 0]\n",
      "[1, 0]\n",
      "[1, 0]\n",
      "[1, 0]\n",
      "[1, 0]\n",
      "[1, 0]\n",
      "[1, 0]\n",
      "[1, 0]\n",
      "[1, 0]\n",
      "[1, 0]\n",
      "[1, 0]\n"
     ]
    },
    {
     "name": "stderr",
     "output_type": "stream",
     "text": [
      " 38%|███▊      | 2299/6000 [00:57<01:29, 41.39it/s]"
     ]
    },
    {
     "name": "stdout",
     "output_type": "stream",
     "text": [
      "[1, 0]\n",
      "[1, 0]\n",
      "[1, 0]\n",
      "[1, 0]\n",
      "[1, 0]\n",
      "[1, 0]\n",
      "[1, 0]\n",
      "[1, 0]\n",
      "[1, 0]\n"
     ]
    },
    {
     "name": "stderr",
     "output_type": "stream",
     "text": [
      " 38%|███▊      | 2310/6000 [00:57<01:26, 42.41it/s]"
     ]
    },
    {
     "name": "stdout",
     "output_type": "stream",
     "text": [
      "[1, 0]\n",
      "[1, 0]\n",
      "[1, 0]\n",
      "[1, 0]\n",
      "[1, 0]\n",
      "[1, 0]\n",
      "[1, 0]\n",
      "[1, 0]\n",
      "[1, 0]\n",
      "[1, 0]\n",
      "[1, 0]\n"
     ]
    },
    {
     "name": "stderr",
     "output_type": "stream",
     "text": [
      "\r",
      " 39%|███▊      | 2318/6000 [00:57<01:16, 48.30it/s]"
     ]
    },
    {
     "name": "stdout",
     "output_type": "stream",
     "text": [
      "[1, 0]\n",
      "[1, 0]\n",
      "[1, 0]\n",
      "[1, 0]\n",
      "[1, 0]\n",
      "[1, 0]\n",
      "[1, 0]\n",
      "[1, 0]\n",
      "[1, 0]\n",
      "[1, 0]\n"
     ]
    },
    {
     "name": "stderr",
     "output_type": "stream",
     "text": [
      " 39%|███▉      | 2330/6000 [00:57<01:17, 47.24it/s]"
     ]
    },
    {
     "name": "stdout",
     "output_type": "stream",
     "text": [
      "[1, 0]\n",
      "[1, 0]\n",
      "[1, 0]\n",
      "[1, 0]\n",
      "[1, 0]\n",
      "[1, 0]\n",
      "[1, 0]\n",
      "[1, 0]\n",
      "[1, 0]\n",
      "[1, 0]\n"
     ]
    },
    {
     "name": "stderr",
     "output_type": "stream",
     "text": [
      "\r",
      " 39%|███▉      | 2335/6000 [00:57<01:19, 46.17it/s]"
     ]
    },
    {
     "name": "stdout",
     "output_type": "stream",
     "text": [
      "[1, 0]\n",
      "[1, 0]\n",
      "[1, 0]\n",
      "[1, 0]\n"
     ]
    },
    {
     "name": "stderr",
     "output_type": "stream",
     "text": [
      "\r",
      " 39%|███▉      | 2340/6000 [00:58<01:53, 32.30it/s]"
     ]
    },
    {
     "name": "stdout",
     "output_type": "stream",
     "text": [
      "[1, 0]\n",
      "[1, 0]\n",
      "[1, 0]\n",
      "[1, 0]\n",
      "[1, 0]\n",
      "[1, 0]\n",
      "[1, 0]\n"
     ]
    },
    {
     "name": "stderr",
     "output_type": "stream",
     "text": [
      " 39%|███▉      | 2350/6000 [00:58<01:37, 37.45it/s]"
     ]
    },
    {
     "name": "stdout",
     "output_type": "stream",
     "text": [
      "[1, 0]\n",
      "[1, 0]\n",
      "[1, 0]\n",
      "[1, 0]\n",
      "[1, 0]\n",
      "[1, 0]\n",
      "[1, 0]\n",
      "[1, 0]\n",
      "[1, 0]\n",
      "[1, 0]\n",
      "[1, 0]"
     ]
    },
    {
     "name": "stderr",
     "output_type": "stream",
     "text": [
      "\r",
      " 39%|███▉      | 2355/6000 [00:58<01:38, 37.02it/s]"
     ]
    },
    {
     "name": "stdout",
     "output_type": "stream",
     "text": [
      "\n",
      "[1, 0]\n",
      "[1, 0]\n",
      "[1, 0]\n",
      "[1, 0]\n",
      "[1, 0]\n"
     ]
    },
    {
     "name": "stderr",
     "output_type": "stream",
     "text": [
      " 39%|███▉      | 2365/6000 [00:58<01:45, 34.37it/s]"
     ]
    },
    {
     "name": "stdout",
     "output_type": "stream",
     "text": [
      "[1, 0]\n",
      "[1, 0]\n",
      "[1, 0]\n",
      "[1, 0]\n",
      "[1, 0]\n",
      "[1, 0]\n",
      "[1, 0]\n",
      "[1, 0]\n"
     ]
    },
    {
     "name": "stderr",
     "output_type": "stream",
     "text": [
      "\r",
      " 39%|███▉      | 2369/6000 [00:59<01:59, 30.41it/s]"
     ]
    },
    {
     "name": "stdout",
     "output_type": "stream",
     "text": [
      "[1, 0]\n",
      "[1, 0]\n",
      "[1, 0]\n",
      "[1, 0]\n",
      "[1, 0]\n",
      "[1, 0]\n"
     ]
    },
    {
     "name": "stderr",
     "output_type": "stream",
     "text": [
      " 40%|███▉      | 2378/6000 [00:59<01:53, 31.96it/s]"
     ]
    },
    {
     "name": "stdout",
     "output_type": "stream",
     "text": [
      "[1, 0]\n",
      "[1, 0]\n",
      "[1, 0]\n",
      "[1, 0]\n",
      "[1, 0]\n",
      "[1, 0]\n",
      "[1, 0]\n",
      "[1, 0]\n",
      "[1, 0]\n",
      "[1, 0]\n"
     ]
    },
    {
     "name": "stderr",
     "output_type": "stream",
     "text": [
      " 40%|███▉      | 2390/6000 [00:59<01:33, 38.73it/s]"
     ]
    },
    {
     "name": "stdout",
     "output_type": "stream",
     "text": [
      "[1, 0]\n",
      "[1, 0]\n",
      "[1, 0]\n",
      "[1, 0]\n",
      "[1, 0]\n",
      "[1, 0]\n",
      "[1, 0]\n",
      "[1, 0]\n",
      "[1, 0]\n"
     ]
    },
    {
     "name": "stderr",
     "output_type": "stream",
     "text": [
      "\r",
      " 40%|███▉      | 2395/6000 [00:59<01:42, 35.00it/s]"
     ]
    },
    {
     "name": "stdout",
     "output_type": "stream",
     "text": [
      "[1, 0]\n",
      "[1, 0]\n",
      "[1, 0]\n",
      "[1, 0]\n",
      "[1, 0]\n",
      "[1, 0]\n"
     ]
    },
    {
     "name": "stderr",
     "output_type": "stream",
     "text": [
      " 40%|████      | 2404/6000 [00:59<01:41, 35.35it/s]"
     ]
    },
    {
     "name": "stdout",
     "output_type": "stream",
     "text": [
      "[1, 0]\n",
      "[1, 0]\n",
      "[1, 0]\n",
      "[1, 0]\n",
      "[1, 0]\n",
      "[1, 0]\n",
      "[1, 0]\n",
      "[1, 0]\n",
      "[1, 0]\n"
     ]
    },
    {
     "name": "stderr",
     "output_type": "stream",
     "text": [
      " 40%|████      | 2413/6000 [01:00<01:36, 37.26it/s]"
     ]
    },
    {
     "name": "stdout",
     "output_type": "stream",
     "text": [
      "[1, 0]\n",
      "[1, 0]\n",
      "[1, 0]\n",
      "[1, 0]\n",
      "[1, 0]\n",
      "[1, 0]\n",
      "[1, 0]\n",
      "[1, 0]\n"
     ]
    },
    {
     "name": "stderr",
     "output_type": "stream",
     "text": [
      "\r",
      " 40%|████      | 2418/6000 [01:00<01:31, 39.11it/s]"
     ]
    },
    {
     "name": "stdout",
     "output_type": "stream",
     "text": [
      "[1, 0]\n",
      "[1, 0]\n",
      "[1, 0]\n",
      "[1, 0]\n",
      "[1, 0]\n",
      "[1, 0]\n",
      "[1, 0]\n"
     ]
    },
    {
     "name": "stderr",
     "output_type": "stream",
     "text": [
      " 41%|████      | 2431/6000 [01:00<01:26, 41.08it/s]"
     ]
    },
    {
     "name": "stdout",
     "output_type": "stream",
     "text": [
      "[1, 0]\n",
      "[1, 0]\n",
      "[1, 0]\n",
      "[1, 0]\n",
      "[1, 0]\n",
      "[1, 0]\n",
      "[1, 0]\n",
      "[1, 0]\n",
      "[1, 0]\n",
      "[1, 0]\n",
      "[1, 0]\n",
      "[1, 0]\n",
      "[1, 0]\n"
     ]
    },
    {
     "name": "stderr",
     "output_type": "stream",
     "text": [
      " 41%|████      | 2441/6000 [01:00<01:22, 43.05it/s]"
     ]
    },
    {
     "name": "stdout",
     "output_type": "stream",
     "text": [
      "[1, 0]\n",
      "[1, 0]\n",
      "[1, 0]\n",
      "[1, 0]\n",
      "[1, 0]\n",
      "[1, 0]\n",
      "[1, 0]\n",
      "[1, 0]\n"
     ]
    },
    {
     "name": "stderr",
     "output_type": "stream",
     "text": [
      " 41%|████      | 2451/6000 [01:01<01:31, 38.96it/s]"
     ]
    },
    {
     "name": "stdout",
     "output_type": "stream",
     "text": [
      "[1, 0]\n",
      "[1, 0]\n",
      "[1, 0]\n",
      "[1, 0]\n",
      "[1, 0]\n",
      "[1, 0]\n",
      "[1, 0]\n",
      "[1, 0]\n"
     ]
    },
    {
     "name": "stderr",
     "output_type": "stream",
     "text": [
      "\r",
      " 41%|████      | 2456/6000 [01:01<01:39, 35.55it/s]"
     ]
    },
    {
     "name": "stdout",
     "output_type": "stream",
     "text": [
      "[1, 0]\n",
      "[1, 0]\n",
      "[1, 0]\n",
      "[1, 0]\n",
      "[1, 0]\n",
      "[1, 0]\n",
      "[1, 0]\n"
     ]
    },
    {
     "name": "stderr",
     "output_type": "stream",
     "text": [
      " 41%|████      | 2465/6000 [01:01<01:36, 36.82it/s]"
     ]
    },
    {
     "name": "stdout",
     "output_type": "stream",
     "text": [
      "[1, 0]\n",
      "[1, 0]\n",
      "[1, 0]\n",
      "[1, 0]\n",
      "[1, 0]\n",
      "[1, 0]\n",
      "[1, 0]\n",
      "[1, 0]\n"
     ]
    },
    {
     "name": "stderr",
     "output_type": "stream",
     "text": [
      " 41%|████      | 2473/6000 [01:01<01:51, 31.67it/s]"
     ]
    },
    {
     "name": "stdout",
     "output_type": "stream",
     "text": [
      "[1, 0]\n",
      "[1, 0]\n",
      "[1, 0]\n",
      "[1, 0]\n",
      "[1, 0]\n",
      "[1, 0]\n",
      "[1, 0]\n"
     ]
    },
    {
     "name": "stderr",
     "output_type": "stream",
     "text": [
      "\r",
      " 41%|████▏     | 2477/6000 [01:01<01:54, 30.86it/s]"
     ]
    },
    {
     "name": "stdout",
     "output_type": "stream",
     "text": [
      "[1, 0]\n",
      "[1, 0]\n",
      "[1, 0]\n",
      "[1, 0]\n",
      "[1, 0]\n",
      "[1, 0]\n",
      "[1, 0]\n"
     ]
    },
    {
     "name": "stderr",
     "output_type": "stream",
     "text": [
      " 41%|████▏     | 2485/6000 [01:02<01:42, 34.22it/s]"
     ]
    },
    {
     "name": "stdout",
     "output_type": "stream",
     "text": [
      "[1, 0]\n",
      "[1, 0]\n",
      "[1, 0]\n",
      "[1, 0]\n",
      "[1, 0]\n",
      "[1, 0]\n",
      "[1, 0]\n",
      "[1, 0]\n",
      "[1, 0]\n"
     ]
    },
    {
     "name": "stderr",
     "output_type": "stream",
     "text": [
      " 42%|████▏     | 2494/6000 [01:02<01:55, 30.39it/s]"
     ]
    },
    {
     "name": "stdout",
     "output_type": "stream",
     "text": [
      "[1, 0]\n",
      "[1, 0]\n",
      "[1, 0]\n",
      "[1, 0]\n",
      "[1, 0]\n"
     ]
    },
    {
     "name": "stderr",
     "output_type": "stream",
     "text": [
      "\r",
      " 42%|████▏     | 2498/6000 [01:02<02:07, 27.47it/s]"
     ]
    },
    {
     "name": "stdout",
     "output_type": "stream",
     "text": [
      "[1, 0]\n",
      "[1, 0]\n",
      "[1, 0]\n",
      "[1, 0]\n",
      "[1, 0]\n"
     ]
    },
    {
     "name": "stderr",
     "output_type": "stream",
     "text": [
      " 42%|████▏     | 2507/6000 [01:02<01:50, 31.74it/s]"
     ]
    },
    {
     "name": "stdout",
     "output_type": "stream",
     "text": [
      "[1, 0]\n",
      "[1, 0]\n",
      "[1, 0]\n",
      "[1, 0]\n",
      "[1, 0]\n",
      "[1, 0]\n",
      "[1, 0]\n",
      "[1, 0]\n",
      "[1, 0]\n"
     ]
    },
    {
     "name": "stderr",
     "output_type": "stream",
     "text": [
      "\r",
      " 42%|████▏     | 2512/6000 [01:02<01:42, 34.17it/s]"
     ]
    },
    {
     "name": "stdout",
     "output_type": "stream",
     "text": [
      "[1, 0]\n",
      "[1, 0]\n",
      "[1, 0]\n",
      "[1, 0]\n",
      "[1, 0]\n",
      "[1, 0]\n",
      "[1, 0]\n"
     ]
    },
    {
     "name": "stderr",
     "output_type": "stream",
     "text": [
      " 42%|████▏     | 2520/6000 [01:03<01:55, 30.09it/s]"
     ]
    },
    {
     "name": "stdout",
     "output_type": "stream",
     "text": [
      "[1, 0]\n",
      "[1, 0]\n",
      "[1, 0]\n",
      "[1, 0]\n",
      "[1, 0]\n",
      "[1, 0]\n"
     ]
    },
    {
     "name": "stderr",
     "output_type": "stream",
     "text": [
      "\r",
      " 42%|████▏     | 2525/6000 [01:03<01:49, 31.62it/s]"
     ]
    },
    {
     "name": "stdout",
     "output_type": "stream",
     "text": [
      "[1, 0]\n",
      "[1, 0]\n",
      "[1, 0]\n",
      "[1, 0]\n",
      "[1, 0]\n",
      "[1, 0]\n",
      "[1, 0]\n"
     ]
    },
    {
     "name": "stderr",
     "output_type": "stream",
     "text": [
      " 42%|████▏     | 2536/6000 [01:03<01:40, 34.38it/s]"
     ]
    },
    {
     "name": "stdout",
     "output_type": "stream",
     "text": [
      "[1, 0]\n",
      "[1, 0]\n",
      "[1, 0]\n",
      "[1, 0]\n",
      "[1, 0]\n",
      "[1, 0]\n",
      "[1, 0]\n",
      "[1, 0]\n",
      "[1, 0]\n"
     ]
    },
    {
     "name": "stderr",
     "output_type": "stream",
     "text": [
      " 42%|████▏     | 2544/6000 [01:03<01:41, 34.02it/s]"
     ]
    },
    {
     "name": "stdout",
     "output_type": "stream",
     "text": [
      "[1, 0]\n",
      "[1, 0]\n",
      "[1, 0]\n",
      "[1, 0]\n",
      "[1, 0]\n",
      "[1, 0]\n",
      "[1, 0]\n",
      "[1, 0]\n",
      "[1, 0]\n"
     ]
    },
    {
     "name": "stderr",
     "output_type": "stream",
     "text": [
      " 43%|████▎     | 2552/6000 [01:04<01:50, 31.29it/s]"
     ]
    },
    {
     "name": "stdout",
     "output_type": "stream",
     "text": [
      "[1, 0]\n",
      "[1, 0]\n",
      "[1, 0]\n",
      "[1, 0]\n",
      "[1, 0]\n",
      "[1, 0]\n",
      "[1, 0]\n",
      "[1, 0]\n"
     ]
    },
    {
     "name": "stderr",
     "output_type": "stream",
     "text": [
      "\r",
      " 43%|████▎     | 2560/6000 [01:04<01:30, 38.15it/s]"
     ]
    },
    {
     "name": "stdout",
     "output_type": "stream",
     "text": [
      "[1, 0]\n",
      "[1, 0]\n",
      "[1, 0]\n",
      "[1, 0]\n",
      "[1, 0]\n",
      "[1, 0]\n",
      "[1, 0]\n",
      "[1, 0]\n",
      "[1, 0]\n",
      "[1, 0]\n"
     ]
    },
    {
     "name": "stderr",
     "output_type": "stream",
     "text": [
      " 43%|████▎     | 2570/6000 [01:04<01:40, 34.26it/s]"
     ]
    },
    {
     "name": "stdout",
     "output_type": "stream",
     "text": [
      "[1, 0]\n",
      "[1, 0]\n",
      "[1, 0]\n",
      "[1, 0]\n",
      "[1, 0]\n",
      "[1, 0]\n",
      "[1, 0]\n",
      "[1, 0]\n"
     ]
    },
    {
     "name": "stderr",
     "output_type": "stream",
     "text": [
      " 43%|████▎     | 2579/6000 [01:04<01:31, 37.23it/s]"
     ]
    },
    {
     "name": "stdout",
     "output_type": "stream",
     "text": [
      "[1, 0]\n",
      "[1, 0]\n",
      "[1, 0]\n",
      "[1, 0]\n",
      "[1, 0]\n",
      "[1, 0]\n",
      "[1, 0]\n",
      "[1, 0]\n"
     ]
    },
    {
     "name": "stderr",
     "output_type": "stream",
     "text": [
      " 43%|████▎     | 2589/6000 [01:05<01:24, 40.23it/s]"
     ]
    },
    {
     "name": "stdout",
     "output_type": "stream",
     "text": [
      "[1, 0]\n",
      "[1, 0]\n",
      "[1, 0]\n",
      "[1, 0]\n",
      "[1, 0]\n",
      "[1, 0]\n",
      "[1, 0]\n",
      "[1, 0]\n",
      "[1, 0]\n",
      "[1, 0]\n"
     ]
    },
    {
     "name": "stderr",
     "output_type": "stream",
     "text": [
      "\r",
      " 43%|████▎     | 2594/6000 [01:05<01:19, 42.71it/s]"
     ]
    },
    {
     "name": "stdout",
     "output_type": "stream",
     "text": [
      "[1, 0]\n",
      "[1, 0]\n",
      "[1, 0]\n",
      "[1, 0]\n",
      "[1, 0]\n",
      "[1, 0]\n",
      "[1, 0]\n"
     ]
    },
    {
     "name": "stderr",
     "output_type": "stream",
     "text": [
      "\r",
      " 43%|████▎     | 2599/6000 [01:05<01:35, 35.69it/s]"
     ]
    },
    {
     "name": "stdout",
     "output_type": "stream",
     "text": [
      "[1, 0]\n",
      "[1, 0]\n",
      "[1, 0]\n",
      "[1, 0]\n",
      "[1, 0]\n"
     ]
    },
    {
     "name": "stderr",
     "output_type": "stream",
     "text": [
      " 43%|████▎     | 2607/6000 [01:05<01:53, 29.90it/s]"
     ]
    },
    {
     "name": "stdout",
     "output_type": "stream",
     "text": [
      "[1, 0]\n",
      "[1, 0]\n",
      "[1, 0]\n",
      "[1, 0]\n",
      "[1, 0]\n",
      "[1, 0]\n",
      "[1, 0]\n"
     ]
    },
    {
     "name": "stderr",
     "output_type": "stream",
     "text": [
      " 44%|████▎     | 2615/6000 [01:05<01:49, 30.93it/s]"
     ]
    },
    {
     "name": "stdout",
     "output_type": "stream",
     "text": [
      "[1, 0]\n",
      "[1, 0]\n",
      "[1, 0]\n",
      "[1, 0]\n",
      "[1, 0]\n",
      "[1, 0]\n"
     ]
    },
    {
     "name": "stderr",
     "output_type": "stream",
     "text": [
      "\r",
      " 44%|████▎     | 2621/6000 [01:06<01:42, 33.01it/s]"
     ]
    },
    {
     "name": "stdout",
     "output_type": "stream",
     "text": [
      "[1, 0]\n",
      "[1, 0]\n",
      "[1, 0]\n",
      "[1, 0]\n",
      "[1, 0]\n",
      "[1, 0]\n",
      "[1, 0]\n",
      "[1, 0]\n"
     ]
    },
    {
     "name": "stderr",
     "output_type": "stream",
     "text": [
      " 44%|████▍     | 2631/6000 [01:06<01:37, 34.59it/s]"
     ]
    },
    {
     "name": "stdout",
     "output_type": "stream",
     "text": [
      "[1, 0]\n",
      "[1, 0]\n",
      "[1, 0]\n",
      "[1, 0]\n",
      "[1, 0]\n",
      "[1, 0]\n",
      "[1, 0]\n",
      "[1, 0]\n"
     ]
    },
    {
     "name": "stderr",
     "output_type": "stream",
     "text": [
      "\r",
      " 44%|████▍     | 2636/6000 [01:06<01:38, 34.31it/s]"
     ]
    },
    {
     "name": "stdout",
     "output_type": "stream",
     "text": [
      "[1, 0]\n",
      "[1, 0]\n",
      "[1, 0]\n",
      "[1, 0]\n",
      "[1, 0]\n",
      "[1, 0]\n",
      "[1, 0]\n",
      "[1, 0]\n",
      "[1, 0]\n"
     ]
    },
    {
     "name": "stderr",
     "output_type": "stream",
     "text": [
      " 44%|████▍     | 2645/6000 [01:06<01:30, 37.00it/s]"
     ]
    },
    {
     "name": "stdout",
     "output_type": "stream",
     "text": [
      "[1, 0]\n",
      "[1, 0]\n",
      "[1, 0]\n",
      "[1, 0]\n",
      "[1, 0]\n",
      "[1, 0]\n"
     ]
    },
    {
     "name": "stderr",
     "output_type": "stream",
     "text": [
      " 44%|████▍     | 2655/6000 [01:07<01:27, 38.10it/s]"
     ]
    },
    {
     "name": "stdout",
     "output_type": "stream",
     "text": [
      "[1, 0]\n",
      "[1, 0]\n",
      "[1, 0]\n",
      "[1, 0]\n",
      "[1, 0]\n",
      "[1, 0]\n",
      "[1, 0]\n",
      "[1, 0]\n",
      "[1, 0]\n",
      "[1, 0]\n",
      "[1, 0]\n",
      "[1, 0]\n",
      "[1, 0]\n"
     ]
    },
    {
     "name": "stderr",
     "output_type": "stream",
     "text": [
      " 44%|████▍     | 2665/6000 [01:07<01:22, 40.53it/s]"
     ]
    },
    {
     "name": "stdout",
     "output_type": "stream",
     "text": [
      "[1, 0]\n",
      "[1, 0]\n",
      "[1, 0]\n",
      "[1, 0]\n",
      "[1, 0]\n",
      "[1, 0]\n",
      "[1, 0]\n",
      "[1, 0]\n"
     ]
    },
    {
     "name": "stderr",
     "output_type": "stream",
     "text": [
      "\r",
      " 44%|████▍     | 2670/6000 [01:07<01:25, 38.76it/s]"
     ]
    },
    {
     "name": "stdout",
     "output_type": "stream",
     "text": [
      "[1, 0]\n",
      "[1, 0]\n",
      "[1, 0]\n",
      "[1, 0]\n",
      "[1, 0]\n",
      "[1, 0]\n"
     ]
    },
    {
     "name": "stderr",
     "output_type": "stream",
     "text": [
      "\r",
      " 45%|████▍     | 2675/6000 [01:07<01:34, 35.15it/s]"
     ]
    },
    {
     "name": "stdout",
     "output_type": "stream",
     "text": [
      "[1, 0]\n",
      "[1, 0]\n",
      "[1, 0]\n",
      "[1, 0]\n"
     ]
    },
    {
     "name": "stderr",
     "output_type": "stream",
     "text": [
      " 45%|████▍     | 2685/6000 [01:07<01:40, 32.87it/s]"
     ]
    },
    {
     "name": "stdout",
     "output_type": "stream",
     "text": [
      "[1, 0]\n",
      "[1, 0]\n",
      "[1, 0]\n",
      "[1, 0]\n",
      "[1, 0]\n",
      "[1, 0]\n",
      "[1, 0]\n",
      "[1, 0]\n",
      "[1, 0]\n",
      "[1, 0]\n",
      "[1, 0]\n"
     ]
    },
    {
     "name": "stderr",
     "output_type": "stream",
     "text": [
      " 45%|████▍     | 2696/6000 [01:08<01:23, 39.74it/s]"
     ]
    },
    {
     "name": "stdout",
     "output_type": "stream",
     "text": [
      "[1, 0]\n",
      "[1, 0]\n",
      "[1, 0]\n",
      "[1, 0]\n",
      "[1, 0]\n",
      "[1, 0]\n",
      "[1, 0]\n",
      "[1, 0]\n",
      "[1, 0]\n"
     ]
    },
    {
     "name": "stderr",
     "output_type": "stream",
     "text": [
      " 45%|████▌     | 2706/6000 [01:08<01:26, 38.03it/s]"
     ]
    },
    {
     "name": "stdout",
     "output_type": "stream",
     "text": [
      "[1, 0]\n",
      "[1, 0]\n",
      "[1, 0]\n",
      "[1, 0]\n",
      "[1, 0]\n",
      "[1, 0]\n",
      "[1, 0]\n",
      "[1, 0]\n",
      "[1, 0]\n",
      "[1, 0]\n",
      "[1, 0]\n"
     ]
    },
    {
     "name": "stderr",
     "output_type": "stream",
     "text": [
      " 45%|████▌     | 2716/6000 [01:08<01:20, 40.96it/s]"
     ]
    },
    {
     "name": "stdout",
     "output_type": "stream",
     "text": [
      "[1, 0]\n",
      "[1, 0]\n",
      "[1, 0]\n",
      "[1, 0]\n",
      "[1, 0]\n",
      "[1, 0]\n",
      "[1, 0]\n",
      "[1, 0]\n",
      "[1, 0]\n",
      "[1, 0]\n",
      "[1, 0]\n"
     ]
    },
    {
     "name": "stderr",
     "output_type": "stream",
     "text": [
      " 45%|████▌     | 2728/6000 [01:08<01:09, 47.04it/s]"
     ]
    },
    {
     "name": "stdout",
     "output_type": "stream",
     "text": [
      "[1, 0]\n",
      "[1, 0]\n",
      "[1, 0]\n",
      "[1, 0]\n",
      "[1, 0]\n",
      "[1, 0]\n",
      "[1, 0]\n",
      "[1, 0]\n",
      "[1, 0]\n",
      "[1, 0]\n",
      "[1, 0]\n"
     ]
    },
    {
     "name": "stderr",
     "output_type": "stream",
     "text": [
      " 46%|████▌     | 2740/6000 [01:09<01:07, 48.21it/s]"
     ]
    },
    {
     "name": "stdout",
     "output_type": "stream",
     "text": [
      "[1, 0]\n",
      "[1, 0]\n",
      "[1, 0]\n",
      "[1, 0]\n",
      "[1, 0]\n",
      "[1, 0]\n",
      "[1, 0]\n",
      "[1, 0]\n",
      "[1, 0]\n",
      "[1, 0]\n"
     ]
    },
    {
     "name": "stderr",
     "output_type": "stream",
     "text": [
      " 46%|████▌     | 2751/6000 [01:09<01:07, 48.10it/s]"
     ]
    },
    {
     "name": "stdout",
     "output_type": "stream",
     "text": [
      "[1, 0]\n",
      "[1, 0]\n",
      "[1, 0]\n",
      "[1, 0]\n",
      "[1, 0]\n",
      "[1, 0]\n",
      "[1, 0]\n",
      "[1, 0]\n",
      "[1, 0]\n",
      "[1, 0]\n",
      "[1, 0]\n"
     ]
    },
    {
     "name": "stderr",
     "output_type": "stream",
     "text": [
      "\r",
      " 46%|████▌     | 2756/6000 [01:09<01:06, 48.57it/s]"
     ]
    },
    {
     "name": "stdout",
     "output_type": "stream",
     "text": [
      "[1, 0]\n",
      "[1, 0]\n",
      "[1, 0]\n",
      "[1, 0]\n",
      "[1, 0]\n",
      "[1, 0]\n",
      "[1, 0]\n"
     ]
    },
    {
     "name": "stderr",
     "output_type": "stream",
     "text": [
      "\r",
      " 46%|████▌     | 2761/6000 [01:09<01:20, 40.01it/s]"
     ]
    },
    {
     "name": "stdout",
     "output_type": "stream",
     "text": [
      "[1, 0]\n",
      "[1, 0]\n",
      "[1, 0]\n",
      "[1, 0]\n",
      "[1, 0]\n",
      "[1, 0]\n"
     ]
    },
    {
     "name": "stderr",
     "output_type": "stream",
     "text": [
      " 46%|████▌     | 2771/6000 [01:09<01:28, 36.43it/s]"
     ]
    },
    {
     "name": "stdout",
     "output_type": "stream",
     "text": [
      "[1, 0]\n",
      "[1, 0]\n",
      "[1, 0]\n",
      "[1, 0]\n",
      "[1, 0]\n",
      "[1, 0]\n",
      "[1, 0]\n",
      "[1, 0]\n",
      "[1, 0]\n"
     ]
    },
    {
     "name": "stderr",
     "output_type": "stream",
     "text": [
      " 46%|████▋     | 2783/6000 [01:10<01:18, 40.73it/s]"
     ]
    },
    {
     "name": "stdout",
     "output_type": "stream",
     "text": [
      "[1, 0]\n",
      "[1, 0]\n",
      "[1, 0]\n",
      "[1, 0]\n",
      "[1, 0]\n",
      "[1, 0]\n",
      "[1, 0]\n",
      "[1, 0]\n",
      "[1, 0]\n",
      "[1, 0]\n",
      "[1, 0]\n"
     ]
    },
    {
     "name": "stderr",
     "output_type": "stream",
     "text": [
      " 47%|████▋     | 2793/6000 [01:10<01:14, 43.30it/s]"
     ]
    },
    {
     "name": "stdout",
     "output_type": "stream",
     "text": [
      "[1, 0]\n",
      "[1, 0]\n",
      "[1, 0]\n",
      "[1, 0]\n",
      "[1, 0]\n",
      "[1, 0]\n",
      "[1, 0]\n",
      "[1, 0]\n",
      "[1, 0]\n",
      "[1, 0]\n",
      "[1, 0]\n"
     ]
    },
    {
     "name": "stderr",
     "output_type": "stream",
     "text": [
      " 47%|████▋     | 2805/6000 [01:10<01:05, 49.03it/s]"
     ]
    },
    {
     "name": "stdout",
     "output_type": "stream",
     "text": [
      "[1, 0]\n",
      "[1, 0]\n",
      "[1, 0]\n",
      "[1, 0]\n",
      "[1, 0]\n",
      "[1, 0]\n",
      "[1, 0]\n",
      "[1, 0]\n",
      "[1, 0]\n",
      "[1, 0]\n",
      "[1, 0]\n",
      "[1, 0]\n"
     ]
    },
    {
     "name": "stderr",
     "output_type": "stream",
     "text": [
      "\r",
      " 47%|████▋     | 2811/6000 [01:10<01:13, 43.40it/s]"
     ]
    },
    {
     "name": "stdout",
     "output_type": "stream",
     "text": [
      "[1, 0]\n",
      "[1, 0]\n",
      "[1, 0]\n",
      "[1, 0]\n",
      "[1, 0]\n",
      "[1, 0]\n",
      "[1, 0]\n",
      "[1, 0]\n",
      "[1, 0]\n"
     ]
    },
    {
     "name": "stderr",
     "output_type": "stream",
     "text": [
      "\r",
      " 47%|████▋     | 2817/6000 [01:10<01:14, 42.94it/s]"
     ]
    },
    {
     "name": "stdout",
     "output_type": "stream",
     "text": [
      "[1, 0]\n",
      "[1, 0]\n"
     ]
    },
    {
     "name": "stderr",
     "output_type": "stream",
     "text": [
      "\r",
      " 47%|████▋     | 2822/6000 [01:11<01:57, 27.06it/s]"
     ]
    },
    {
     "name": "stdout",
     "output_type": "stream",
     "text": [
      "[1, 0]\n",
      "[1, 0]\n",
      "[1, 0]\n",
      "[1, 0]\n"
     ]
    },
    {
     "name": "stderr",
     "output_type": "stream",
     "text": [
      "\r",
      " 47%|████▋     | 2826/6000 [01:11<02:03, 25.67it/s]"
     ]
    },
    {
     "name": "stdout",
     "output_type": "stream",
     "text": [
      "[1, 0]\n",
      "[1, 0]\n",
      "[1, 0]\n",
      "[1, 0]\n",
      "[1, 0]\n",
      "[1, 0]\n"
     ]
    },
    {
     "name": "stderr",
     "output_type": "stream",
     "text": [
      " 47%|████▋     | 2835/6000 [01:11<01:52, 28.22it/s]"
     ]
    },
    {
     "name": "stdout",
     "output_type": "stream",
     "text": [
      "[1, 0]\n",
      "[1, 0]\n",
      "[1, 0]\n",
      "[1, 0]\n",
      "[1, 0]\n",
      "[1, 0]\n",
      "[1, 0]\n",
      "[1, 0]\n",
      "[1, 0]\n"
     ]
    },
    {
     "name": "stderr",
     "output_type": "stream",
     "text": [
      "\r",
      " 47%|████▋     | 2841/6000 [01:11<01:35, 33.12it/s]"
     ]
    },
    {
     "name": "stdout",
     "output_type": "stream",
     "text": [
      "[1, 0]\n",
      "[1, 0]\n",
      "[1, 0]\n",
      "[1, 0]\n",
      "[1, 0]\n",
      "[1, 0]\n",
      "[1, 0]\n"
     ]
    },
    {
     "name": "stderr",
     "output_type": "stream",
     "text": [
      " 47%|████▋     | 2849/6000 [01:12<01:44, 30.01it/s]"
     ]
    },
    {
     "name": "stdout",
     "output_type": "stream",
     "text": [
      "[1, 0]\n",
      "[1, 0]\n",
      "[1, 0]\n",
      "[1, 0]\n",
      "[1, 0]\n",
      "[1, 0]\n",
      "[1, 0]\n"
     ]
    },
    {
     "name": "stderr",
     "output_type": "stream",
     "text": [
      "\r",
      " 48%|████▊     | 2854/6000 [01:12<01:32, 33.99it/s]"
     ]
    },
    {
     "name": "stdout",
     "output_type": "stream",
     "text": [
      "[1, 0]\n",
      "[1, 0]\n",
      "[1, 0]\n",
      "[1, 0]\n",
      "[1, 0]\n",
      "[1, 0]\n"
     ]
    },
    {
     "name": "stderr",
     "output_type": "stream",
     "text": [
      " 48%|████▊     | 2862/6000 [01:12<01:44, 29.95it/s]"
     ]
    },
    {
     "name": "stdout",
     "output_type": "stream",
     "text": [
      "[1, 0]\n",
      "[1, 0]\n",
      "[1, 0]\n",
      "[1, 0]\n",
      "[1, 0]\n",
      "[1, 0]\n"
     ]
    },
    {
     "name": "stderr",
     "output_type": "stream",
     "text": [
      "\r",
      " 48%|████▊     | 2866/6000 [01:12<01:57, 26.77it/s]"
     ]
    },
    {
     "name": "stdout",
     "output_type": "stream",
     "text": [
      "[1, 0]\n",
      "[1, 0]\n",
      "[1, 0]\n",
      "[1, 0]\n",
      "[1, 0]\n",
      "[1, 0]\n"
     ]
    },
    {
     "name": "stderr",
     "output_type": "stream",
     "text": [
      " 48%|████▊     | 2874/6000 [01:12<01:50, 28.20it/s]"
     ]
    },
    {
     "name": "stdout",
     "output_type": "stream",
     "text": [
      "[1, 0]\n",
      "[1, 0]\n",
      "[1, 0]\n",
      "[1, 0]\n",
      "[1, 0]\n",
      "[1, 0]\n"
     ]
    },
    {
     "name": "stderr",
     "output_type": "stream",
     "text": [
      " 48%|████▊     | 2882/6000 [01:13<01:38, 31.73it/s]"
     ]
    },
    {
     "name": "stdout",
     "output_type": "stream",
     "text": [
      "[1, 0]\n",
      "[1, 0]\n",
      "[1, 0]\n",
      "[1, 0]\n",
      "[1, 0]\n",
      "[1, 0]\n",
      "[1, 0]\n",
      "[1, 0]\n",
      "[1, 0]\n"
     ]
    },
    {
     "name": "stderr",
     "output_type": "stream",
     "text": [
      " 48%|████▊     | 2893/6000 [01:13<01:24, 36.75it/s]"
     ]
    },
    {
     "name": "stdout",
     "output_type": "stream",
     "text": [
      "[1, 0]\n",
      "[1, 0]\n",
      "[1, 0]\n",
      "[1, 0]\n",
      "[1, 0]\n",
      "[1, 0]\n",
      "[1, 0]\n",
      "[1, 0]\n",
      "[1, 0]\n"
     ]
    },
    {
     "name": "stderr",
     "output_type": "stream",
     "text": [
      "\r",
      " 48%|████▊     | 2898/6000 [01:13<01:18, 39.51it/s]"
     ]
    },
    {
     "name": "stdout",
     "output_type": "stream",
     "text": [
      "[1, 0]\n",
      "[1, 0]\n",
      "[1, 0]\n",
      "[1, 0]\n",
      "[1, 0]\n",
      "[1, 0]\n",
      "[1, 0]\n",
      "[1, 0]\n"
     ]
    },
    {
     "name": "stderr",
     "output_type": "stream",
     "text": [
      " 48%|████▊     | 2907/6000 [01:13<01:37, 31.72it/s]"
     ]
    },
    {
     "name": "stdout",
     "output_type": "stream",
     "text": [
      "[1, 0]\n",
      "[1, 0]\n",
      "[1, 0]\n",
      "[1, 0]\n",
      "[1, 0]\n",
      "[1, 0]\n"
     ]
    },
    {
     "name": "stderr",
     "output_type": "stream",
     "text": [
      "\r",
      " 49%|████▊     | 2911/6000 [01:14<01:59, 25.93it/s]"
     ]
    },
    {
     "name": "stdout",
     "output_type": "stream",
     "text": [
      "[1, 0]\n",
      "[1, 0]\n",
      "[1, 0]\n",
      "[1, 0]\n",
      "[1, 0]\n"
     ]
    },
    {
     "name": "stderr",
     "output_type": "stream",
     "text": [
      " 49%|████▊     | 2922/6000 [01:14<01:32, 33.38it/s]"
     ]
    },
    {
     "name": "stdout",
     "output_type": "stream",
     "text": [
      "[1, 0]\n",
      "[1, 0]\n",
      "[1, 0]\n",
      "[1, 0]\n",
      "[1, 0]\n",
      "[1, 0]\n",
      "[1, 0]\n",
      "[1, 0]\n",
      "[1, 0]\n",
      "[1, 0]\n"
     ]
    },
    {
     "name": "stderr",
     "output_type": "stream",
     "text": [
      "\r",
      " 49%|████▉     | 2926/6000 [01:14<01:46, 28.95it/s]"
     ]
    },
    {
     "name": "stdout",
     "output_type": "stream",
     "text": [
      "[1, 0]\n",
      "[1, 0]\n",
      "[1, 0]\n",
      "[1, 0]\n",
      "[1, 0]\n",
      "[1, 0]\n",
      "[1, 0]\n",
      "[1, 0]\n",
      "[1, 0]\n"
     ]
    },
    {
     "name": "stderr",
     "output_type": "stream",
     "text": [
      " 49%|████▉     | 2936/6000 [01:14<01:27, 35.15it/s]"
     ]
    },
    {
     "name": "stdout",
     "output_type": "stream",
     "text": [
      "[1, 0]\n",
      "[1, 0]\n",
      "[1, 0]\n",
      "[1, 0]\n",
      "[1, 0]\n",
      "[1, 0]\n"
     ]
    },
    {
     "name": "stderr",
     "output_type": "stream",
     "text": [
      " 49%|████▉     | 2944/6000 [01:15<01:40, 30.43it/s]"
     ]
    },
    {
     "name": "stdout",
     "output_type": "stream",
     "text": [
      "[1, 0]\n",
      "[1, 0]\n",
      "[1, 0]\n",
      "[1, 0]\n",
      "[1, 0]\n",
      "[1, 0]\n",
      "[1, 0]\n"
     ]
    },
    {
     "name": "stderr",
     "output_type": "stream",
     "text": [
      " 49%|████▉     | 2955/6000 [01:15<01:19, 38.50it/s]"
     ]
    },
    {
     "name": "stdout",
     "output_type": "stream",
     "text": [
      "[1, 0]\n",
      "[1, 0]\n",
      "[1, 0]\n",
      "[1, 0]\n",
      "[1, 0]\n",
      "[1, 0]\n",
      "[1, 0]\n",
      "[1, 0]\n",
      "[1, 0]\n",
      "[1, 0]\n",
      "[1, 0]\n",
      "[1, 0]\n"
     ]
    },
    {
     "name": "stderr",
     "output_type": "stream",
     "text": [
      " 49%|████▉     | 2966/6000 [01:15<01:09, 43.66it/s]"
     ]
    },
    {
     "name": "stdout",
     "output_type": "stream",
     "text": [
      "[1, 0]\n",
      "[1, 0]\n",
      "[1, 0]\n",
      "[1, 0]\n",
      "[1, 0]\n",
      "[1, 0]\n",
      "[1, 0]\n",
      "[1, 0]\n",
      "[1, 0]\n",
      "[1, 0]\n"
     ]
    },
    {
     "name": "stderr",
     "output_type": "stream",
     "text": [
      "\r",
      " 50%|████▉     | 2971/6000 [01:15<01:16, 39.40it/s]"
     ]
    },
    {
     "name": "stdout",
     "output_type": "stream",
     "text": [
      "[1, 0]\n",
      "[1, 0]\n",
      "[1, 0]\n",
      "[1, 0]\n",
      "[1, 0]\n",
      "[1, 0]\n",
      "[1, 0]\n",
      "[1, 0]\n"
     ]
    },
    {
     "name": "stderr",
     "output_type": "stream",
     "text": [
      " 50%|████▉     | 2981/6000 [01:15<01:18, 38.42it/s]"
     ]
    },
    {
     "name": "stdout",
     "output_type": "stream",
     "text": [
      "[1, 0]\n",
      "[1, 0]\n",
      "[1, 0]\n",
      "[1, 0]\n",
      "[1, 0]\n",
      "[1, 0]\n",
      "[1, 0]\n",
      "[1, 0]\n"
     ]
    },
    {
     "name": "stderr",
     "output_type": "stream",
     "text": [
      " 50%|████▉     | 2991/6000 [01:16<01:18, 38.36it/s]"
     ]
    },
    {
     "name": "stdout",
     "output_type": "stream",
     "text": [
      "[1, 0]\n",
      "[1, 0]\n",
      "[1, 0]\n",
      "[1, 0]\n",
      "[1, 0]\n",
      "[1, 0]\n",
      "[1, 0]\n",
      "[1, 0]\n",
      "[1, 0]\n"
     ]
    },
    {
     "name": "stderr",
     "output_type": "stream",
     "text": [
      "\r",
      " 50%|████▉     | 2997/6000 [01:16<01:12, 41.49it/s]"
     ]
    },
    {
     "name": "stdout",
     "output_type": "stream",
     "text": [
      "[1, 0]\n",
      "[1, 0]\n",
      "[1, 0]\n",
      "[1, 0]\n",
      "[1, 0]\n",
      "[1, 0]\n",
      "[1, 0]\n",
      "[1, 0]\n",
      "[1, 0]\n",
      "[0, 1]\n"
     ]
    },
    {
     "name": "stderr",
     "output_type": "stream",
     "text": [
      " 50%|█████     | 3006/6000 [01:16<01:29, 33.34it/s]"
     ]
    },
    {
     "name": "stdout",
     "output_type": "stream",
     "text": [
      "[0, 1]\n",
      "[0, 1]\n",
      "[0, 1]\n",
      "[0, 1]\n",
      "[0, 1]\n",
      "[0, 1]\n",
      "[0, 1]\n",
      "[0, 1]\n"
     ]
    },
    {
     "name": "stderr",
     "output_type": "stream",
     "text": [
      " 50%|█████     | 3015/6000 [01:16<01:21, 36.55it/s]"
     ]
    },
    {
     "name": "stdout",
     "output_type": "stream",
     "text": [
      "[0, 1]\n",
      "[0, 1]\n",
      "[0, 1]\n",
      "[0, 1]\n",
      "[0, 1]\n",
      "[0, 1]\n",
      "[0, 1]\n",
      "[0, 1]\n",
      "[0, 1]\n",
      "[0, 1]\n",
      "[0, 1]\n"
     ]
    },
    {
     "name": "stderr",
     "output_type": "stream",
     "text": [
      " 50%|█████     | 3028/6000 [01:17<01:08, 43.43it/s]"
     ]
    },
    {
     "name": "stdout",
     "output_type": "stream",
     "text": [
      "[0, 1]\n",
      "[0, 1]\n",
      "[0, 1]\n",
      "[0, 1]\n",
      "[0, 1]\n",
      "[0, 1]\n",
      "[0, 1]\n",
      "[0, 1]\n",
      "[0, 1]\n",
      "[0, 1]\n",
      "[0, 1]\n",
      "[0, 1]\n"
     ]
    },
    {
     "name": "stderr",
     "output_type": "stream",
     "text": [
      " 51%|█████     | 3041/6000 [01:17<01:01, 48.06it/s]"
     ]
    },
    {
     "name": "stdout",
     "output_type": "stream",
     "text": [
      "[0, 1]\n",
      "[0, 1]\n",
      "[0, 1]\n",
      "[0, 1]\n",
      "[0, 1]\n",
      "[0, 1]\n",
      "[0, 1]\n",
      "[0, 1]\n",
      "[0, 1]\n",
      "[0, 1]\n"
     ]
    },
    {
     "name": "stderr",
     "output_type": "stream",
     "text": [
      "\r",
      " 51%|█████     | 3047/6000 [01:17<01:16, 38.65it/s]"
     ]
    },
    {
     "name": "stdout",
     "output_type": "stream",
     "text": [
      "[0, 1]\n",
      "[0, 1]\n",
      "[0, 1]\n",
      "[0, 1]\n",
      "[0, 1]\n",
      "[0, 1]\n",
      "[0, 1]\n",
      "[0, 1]\n"
     ]
    },
    {
     "name": "stderr",
     "output_type": "stream",
     "text": [
      " 51%|█████     | 3058/6000 [01:17<01:11, 41.28it/s]"
     ]
    },
    {
     "name": "stdout",
     "output_type": "stream",
     "text": [
      "[0, 1]\n",
      "[0, 1]\n",
      "[0, 1]\n",
      "[0, 1]\n",
      "[0, 1]\n",
      "[0, 1]\n",
      "[0, 1]\n",
      "[0, 1]\n",
      "[0, 1]\n",
      "[0, 1]\n",
      "[0, 1]\n"
     ]
    },
    {
     "name": "stderr",
     "output_type": "stream",
     "text": [
      " 51%|█████     | 3068/6000 [01:18<01:21, 35.85it/s]"
     ]
    },
    {
     "name": "stdout",
     "output_type": "stream",
     "text": [
      "[0, 1]\n",
      "[0, 1]\n",
      "[0, 1]\n",
      "[0, 1]\n",
      "[0, 1]\n",
      "[0, 1]\n",
      "[0, 1]\n",
      "[0, 1]\n"
     ]
    },
    {
     "name": "stderr",
     "output_type": "stream",
     "text": [
      " 51%|█████▏    | 3076/6000 [01:18<01:22, 35.63it/s]"
     ]
    },
    {
     "name": "stdout",
     "output_type": "stream",
     "text": [
      "[0, 1]\n",
      "[0, 1]\n",
      "[0, 1]\n",
      "[0, 1]\n",
      "[0, 1]\n",
      "[0, 1]\n",
      "[0, 1]\n"
     ]
    },
    {
     "name": "stderr",
     "output_type": "stream",
     "text": [
      "\r",
      " 51%|█████▏    | 3080/6000 [01:18<01:30, 32.34it/s]"
     ]
    },
    {
     "name": "stdout",
     "output_type": "stream",
     "text": [
      "[0, 1]\n",
      "[0, 1]\n",
      "[0, 1]\n",
      "[0, 1]\n",
      "[0, 1]\n"
     ]
    },
    {
     "name": "stderr",
     "output_type": "stream",
     "text": [
      "\r",
      " 51%|█████▏    | 3084/6000 [01:18<02:02, 23.87it/s]"
     ]
    },
    {
     "name": "stdout",
     "output_type": "stream",
     "text": [
      "[0, 1]\n",
      "[0, 1]\n",
      "[0, 1]\n",
      "[0, 1]\n"
     ]
    },
    {
     "name": "stderr",
     "output_type": "stream",
     "text": [
      "\r",
      " 51%|█████▏    | 3089/6000 [01:18<01:52, 25.94it/s]"
     ]
    },
    {
     "name": "stdout",
     "output_type": "stream",
     "text": [
      "[0, 1]\n",
      "[0, 1]\n",
      "[0, 1]\n",
      "[0, 1]\n",
      "[0, 1]\n",
      "[0, 1]\n"
     ]
    },
    {
     "name": "stderr",
     "output_type": "stream",
     "text": [
      " 52%|█████▏    | 3096/6000 [01:19<01:45, 27.46it/s]"
     ]
    },
    {
     "name": "stdout",
     "output_type": "stream",
     "text": [
      "[0, 1]\n",
      "[0, 1]\n",
      "[0, 1]\n",
      "[0, 1]\n",
      "[0, 1]\n",
      "[0, 1]\n"
     ]
    },
    {
     "name": "stderr",
     "output_type": "stream",
     "text": [
      " 52%|█████▏    | 3105/6000 [01:19<01:39, 29.11it/s]"
     ]
    },
    {
     "name": "stdout",
     "output_type": "stream",
     "text": [
      "[0, 1]\n",
      "[0, 1]\n",
      "[0, 1]\n",
      "[0, 1]\n",
      "[0, 1]\n",
      "[0, 1]\n",
      "[0, 1]\n",
      "[0, 1]\n"
     ]
    },
    {
     "name": "stderr",
     "output_type": "stream",
     "text": [
      "\r",
      " 52%|█████▏    | 3109/6000 [01:19<01:40, 28.86it/s]"
     ]
    },
    {
     "name": "stdout",
     "output_type": "stream",
     "text": [
      "[0, 1]\n",
      "[0, 1]\n",
      "[0, 1]\n",
      "[0, 1]\n",
      "[0, 1]\n",
      "[0, 1]\n",
      "[0, 1]\n"
     ]
    },
    {
     "name": "stderr",
     "output_type": "stream",
     "text": [
      " 52%|█████▏    | 3117/6000 [01:19<01:31, 31.35it/s]"
     ]
    },
    {
     "name": "stdout",
     "output_type": "stream",
     "text": [
      "[0, 1]\n",
      "[0, 1]\n",
      "[0, 1]\n",
      "[0, 1]\n",
      "[0, 1]\n",
      "[0, 1]\n",
      "[0, 1]\n",
      "[0, 1]\n",
      "[0, 1]\n"
     ]
    },
    {
     "name": "stderr",
     "output_type": "stream",
     "text": [
      " 52%|█████▏    | 3126/6000 [01:20<01:35, 29.97it/s]"
     ]
    },
    {
     "name": "stdout",
     "output_type": "stream",
     "text": [
      "[0, 1]\n",
      "[0, 1]\n",
      "[0, 1]\n",
      "[0, 1]\n",
      "[0, 1]\n",
      "[0, 1]\n",
      "[0, 1]\n",
      "[0, 1]\n"
     ]
    },
    {
     "name": "stderr",
     "output_type": "stream",
     "text": [
      " 52%|█████▏    | 3137/6000 [01:20<01:14, 38.26it/s]"
     ]
    },
    {
     "name": "stdout",
     "output_type": "stream",
     "text": [
      "[0, 1]\n",
      "[0, 1]\n",
      "[0, 1]\n",
      "[0, 1]\n",
      "[0, 1]\n",
      "[0, 1]\n",
      "[0, 1]\n",
      "[0, 1]\n",
      "[0, 1]\n",
      "[0, 1]\n",
      "[0, 1]\n"
     ]
    },
    {
     "name": "stderr",
     "output_type": "stream",
     "text": [
      " 52%|█████▏    | 3149/6000 [01:20<01:05, 43.70it/s]"
     ]
    },
    {
     "name": "stdout",
     "output_type": "stream",
     "text": [
      "[0, 1]\n",
      "[0, 1]\n",
      "[0, 1]\n",
      "[0, 1]\n",
      "[0, 1]\n",
      "[0, 1]\n",
      "[0, 1]\n",
      "[0, 1]\n",
      "[0, 1]\n",
      "[0, 1]\n",
      "[0, 1]\n"
     ]
    },
    {
     "name": "stderr",
     "output_type": "stream",
     "text": [
      "\r",
      " 53%|█████▎    | 3154/6000 [01:20<01:13, 38.65it/s]"
     ]
    },
    {
     "name": "stdout",
     "output_type": "stream",
     "text": [
      "[0, 1]\n",
      "[0, 1]\n",
      "[0, 1]\n",
      "[0, 1]\n",
      "[0, 1]\n",
      "[0, 1]\n",
      "[0, 1]\n",
      "[0, 1]\n"
     ]
    },
    {
     "name": "stderr",
     "output_type": "stream",
     "text": [
      " 53%|█████▎    | 3163/6000 [01:20<01:17, 36.73it/s]"
     ]
    },
    {
     "name": "stdout",
     "output_type": "stream",
     "text": [
      "[0, 1]\n",
      "[0, 1]\n",
      "[0, 1]\n",
      "[0, 1]\n",
      "[0, 1]\n",
      "[0, 1]\n",
      "[0, 1]\n"
     ]
    },
    {
     "name": "stderr",
     "output_type": "stream",
     "text": [
      " 53%|█████▎    | 3171/6000 [01:21<01:33, 30.33it/s]"
     ]
    },
    {
     "name": "stdout",
     "output_type": "stream",
     "text": [
      "[0, 1]\n",
      "[0, 1]\n",
      "[0, 1]\n",
      "[0, 1]\n",
      "[0, 1]\n",
      "[0, 1]\n",
      "[0, 1]\n"
     ]
    },
    {
     "name": "stderr",
     "output_type": "stream",
     "text": [
      " 53%|█████▎    | 3180/6000 [01:21<01:20, 35.11it/s]"
     ]
    },
    {
     "name": "stdout",
     "output_type": "stream",
     "text": [
      "[0, 1]\n",
      "[0, 1]\n",
      "[0, 1]\n",
      "[0, 1]\n",
      "[0, 1]\n",
      "[0, 1]\n",
      "[0, 1]\n",
      "[0, 1]\n"
     ]
    },
    {
     "name": "stderr",
     "output_type": "stream",
     "text": [
      " 53%|█████▎    | 3188/6000 [01:21<01:24, 33.19it/s]"
     ]
    },
    {
     "name": "stdout",
     "output_type": "stream",
     "text": [
      "[0, 1]\n",
      "[0, 1]\n",
      "[0, 1]\n",
      "[0, 1]\n",
      "[0, 1]\n",
      "[0, 1]\n",
      "[0, 1]\n"
     ]
    },
    {
     "name": "stderr",
     "output_type": "stream",
     "text": [
      "\r",
      " 53%|█████▎    | 3192/6000 [01:21<01:23, 33.55it/s]"
     ]
    },
    {
     "name": "stdout",
     "output_type": "stream",
     "text": [
      "[0, 1]\n",
      "[0, 1]\n",
      "[0, 1]\n",
      "[0, 1]\n",
      "[0, 1]\n",
      "[0, 1]\n"
     ]
    },
    {
     "name": "stderr",
     "output_type": "stream",
     "text": [
      " 53%|█████▎    | 3202/6000 [01:22<01:21, 34.41it/s]"
     ]
    },
    {
     "name": "stdout",
     "output_type": "stream",
     "text": [
      "[0, 1]\n",
      "[0, 1]\n",
      "[0, 1]\n",
      "[0, 1]\n",
      "[0, 1]\n",
      "[0, 1]\n",
      "[0, 1]\n",
      "[0, 1]\n",
      "[0, 1]\n"
     ]
    },
    {
     "name": "stderr",
     "output_type": "stream",
     "text": [
      "\r",
      " 53%|█████▎    | 3206/6000 [01:22<01:25, 32.62it/s]"
     ]
    },
    {
     "name": "stdout",
     "output_type": "stream",
     "text": [
      "[0, 1]\n",
      "[0, 1]\n",
      "[0, 1]\n",
      "[0, 1]\n",
      "[0, 1]\n",
      "[0, 1]\n"
     ]
    },
    {
     "name": "stderr",
     "output_type": "stream",
     "text": [
      " 54%|█████▎    | 3214/6000 [01:22<01:27, 31.89it/s]"
     ]
    },
    {
     "name": "stdout",
     "output_type": "stream",
     "text": [
      "[0, 1]\n",
      "[0, 1]\n",
      "[0, 1]\n",
      "[0, 1]\n",
      "[0, 1]\n",
      "[0, 1]\n",
      "[0, 1]\n",
      "[0, 1]\n"
     ]
    },
    {
     "name": "stderr",
     "output_type": "stream",
     "text": [
      " 54%|█████▎    | 3224/6000 [01:22<01:16, 36.18it/s]"
     ]
    },
    {
     "name": "stdout",
     "output_type": "stream",
     "text": [
      "[0, 1]\n",
      "[0, 1]\n",
      "[0, 1]\n",
      "[0, 1]\n",
      "[0, 1]\n",
      "[0, 1]\n",
      "[0, 1]\n",
      "[0, 1]\n",
      "[0, 1]\n",
      "[0, 1]\n"
     ]
    },
    {
     "name": "stderr",
     "output_type": "stream",
     "text": [
      " 54%|█████▍    | 3233/6000 [01:23<01:14, 37.29it/s]"
     ]
    },
    {
     "name": "stdout",
     "output_type": "stream",
     "text": [
      "[0, 1]\n",
      "[0, 1]\n",
      "[0, 1]\n",
      "[0, 1]\n",
      "[0, 1]\n",
      "[0, 1]\n",
      "[0, 1]\n",
      "[0, 1]\n"
     ]
    },
    {
     "name": "stderr",
     "output_type": "stream",
     "text": [
      " 54%|█████▍    | 3242/6000 [01:23<01:09, 39.75it/s]"
     ]
    },
    {
     "name": "stdout",
     "output_type": "stream",
     "text": [
      "[0, 1]\n",
      "[0, 1]\n",
      "[0, 1]\n",
      "[0, 1]\n",
      "[0, 1]\n",
      "[0, 1]\n",
      "[0, 1]\n",
      "[0, 1]\n"
     ]
    },
    {
     "name": "stderr",
     "output_type": "stream",
     "text": [
      " 54%|█████▍    | 3252/6000 [01:23<01:13, 37.32it/s]"
     ]
    },
    {
     "name": "stdout",
     "output_type": "stream",
     "text": [
      "[0, 1]\n",
      "[0, 1]\n",
      "[0, 1]\n",
      "[0, 1]\n",
      "[0, 1]\n",
      "[0, 1]\n",
      "[0, 1]\n",
      "[0, 1]\n",
      "[0, 1]\n"
     ]
    },
    {
     "name": "stderr",
     "output_type": "stream",
     "text": [
      "\r",
      " 54%|█████▍    | 3256/6000 [01:23<01:28, 31.07it/s]"
     ]
    },
    {
     "name": "stdout",
     "output_type": "stream",
     "text": [
      "[0, 1]\n",
      "[0, 1]\n",
      "[0, 1]\n",
      "[0, 1]\n",
      "[0, 1]\n"
     ]
    },
    {
     "name": "stderr",
     "output_type": "stream",
     "text": [
      "\r",
      " 54%|█████▍    | 3261/6000 [01:23<01:26, 31.74it/s]"
     ]
    },
    {
     "name": "stdout",
     "output_type": "stream",
     "text": [
      "[0, 1]\n",
      "[0, 1]\n",
      "[0, 1]\n",
      "[0, 1]\n",
      "[0, 1]\n",
      "[0, 1]\n",
      "[0, 1]\n",
      "[0, 1]\n"
     ]
    },
    {
     "name": "stderr",
     "output_type": "stream",
     "text": [
      " 55%|█████▍    | 3270/6000 [01:24<01:25, 31.91it/s]"
     ]
    },
    {
     "name": "stdout",
     "output_type": "stream",
     "text": [
      "[0, 1]\n",
      "[0, 1]\n",
      "[0, 1]\n",
      "[0, 1]\n",
      "[0, 1]\n",
      "[0, 1]\n",
      "[0, 1]\n"
     ]
    },
    {
     "name": "stderr",
     "output_type": "stream",
     "text": [
      " 55%|█████▍    | 3279/6000 [01:24<01:20, 33.63it/s]"
     ]
    },
    {
     "name": "stdout",
     "output_type": "stream",
     "text": [
      "[0, 1]\n",
      "[0, 1]\n",
      "[0, 1]\n",
      "[0, 1]\n",
      "[0, 1]\n",
      "[0, 1]\n",
      "[0, 1]\n",
      "[0, 1]\n",
      "[0, 1]\n"
     ]
    },
    {
     "name": "stderr",
     "output_type": "stream",
     "text": [
      "\r",
      " 55%|█████▍    | 3283/6000 [01:24<01:17, 35.27it/s]"
     ]
    },
    {
     "name": "stdout",
     "output_type": "stream",
     "text": [
      "[0, 1]\n",
      "[0, 1]\n",
      "[0, 1]\n",
      "[0, 1]\n",
      "[0, 1]\n"
     ]
    },
    {
     "name": "stderr",
     "output_type": "stream",
     "text": [
      " 55%|█████▍    | 3292/6000 [01:24<01:20, 33.52it/s]"
     ]
    },
    {
     "name": "stdout",
     "output_type": "stream",
     "text": [
      "[0, 1]\n",
      "[0, 1]\n",
      "[0, 1]\n",
      "[0, 1]\n",
      "[0, 1]\n",
      "[0, 1]\n",
      "[0, 1]\n",
      "[0, 1]\n",
      "[0, 1]\n",
      "[0, 1]\n",
      "[0, 1]\n"
     ]
    },
    {
     "name": "stderr",
     "output_type": "stream",
     "text": [
      " 55%|█████▌    | 3303/6000 [01:25<01:20, 33.53it/s]"
     ]
    },
    {
     "name": "stdout",
     "output_type": "stream",
     "text": [
      "[0, 1]\n",
      "[0, 1]\n",
      "[0, 1]\n",
      "[0, 1]\n",
      "[0, 1]\n",
      "[0, 1]\n"
     ]
    },
    {
     "name": "stderr",
     "output_type": "stream",
     "text": [
      "\r",
      " 55%|█████▌    | 3309/6000 [01:25<01:11, 37.68it/s]"
     ]
    },
    {
     "name": "stdout",
     "output_type": "stream",
     "text": [
      "[0, 1]\n",
      "[0, 1]\n",
      "[0, 1]\n",
      "[0, 1]\n",
      "[0, 1]\n",
      "[0, 1]\n",
      "[0, 1]\n",
      "[0, 1]\n"
     ]
    },
    {
     "name": "stderr",
     "output_type": "stream",
     "text": [
      "\r",
      " 55%|█████▌    | 3314/6000 [01:25<01:18, 34.19it/s]"
     ]
    },
    {
     "name": "stdout",
     "output_type": "stream",
     "text": [
      "[0, 1]\n",
      "[0, 1]\n",
      "[0, 1]\n",
      "[0, 1]\n",
      "[0, 1]\n",
      "[0, 1]\n"
     ]
    },
    {
     "name": "stderr",
     "output_type": "stream",
     "text": [
      " 55%|█████▌    | 3322/6000 [01:25<01:37, 27.55it/s]"
     ]
    },
    {
     "name": "stdout",
     "output_type": "stream",
     "text": [
      "[0, 1]\n",
      "[0, 1]\n",
      "[0, 1]\n",
      "[0, 1]\n",
      "[0, 1]\n",
      "[0, 1]\n"
     ]
    },
    {
     "name": "stderr",
     "output_type": "stream",
     "text": [
      " 56%|█████▌    | 3332/6000 [01:25<01:18, 33.95it/s]"
     ]
    },
    {
     "name": "stdout",
     "output_type": "stream",
     "text": [
      "[0, 1]\n",
      "[0, 1]\n",
      "[0, 1]\n",
      "[0, 1]\n",
      "[0, 1]\n",
      "[0, 1]\n",
      "[0, 1]\n",
      "[0, 1]\n",
      "[0, 1]\n",
      "[0, 1]\n"
     ]
    },
    {
     "name": "stderr",
     "output_type": "stream",
     "text": [
      " 56%|█████▌    | 3341/6000 [01:26<01:11, 37.35it/s]"
     ]
    },
    {
     "name": "stdout",
     "output_type": "stream",
     "text": [
      "[0, 1]\n",
      "[0, 1]\n",
      "[0, 1]\n",
      "[0, 1]\n",
      "[0, 1]\n",
      "[0, 1]\n",
      "[0, 1]\n",
      "[0, 1]\n",
      "[0, 1]\n"
     ]
    },
    {
     "name": "stderr",
     "output_type": "stream",
     "text": [
      "\r",
      " 56%|█████▌    | 3345/6000 [01:26<01:35, 27.83it/s]"
     ]
    },
    {
     "name": "stdout",
     "output_type": "stream",
     "text": [
      "[0, 1]\n",
      "[0, 1]\n",
      "[0, 1]\n",
      "[0, 1]\n",
      "[0, 1]\n",
      "[0, 1]\n",
      "[0, 1]\n"
     ]
    },
    {
     "name": "stderr",
     "output_type": "stream",
     "text": [
      " 56%|█████▌    | 3355/6000 [01:26<01:23, 31.55it/s]"
     ]
    },
    {
     "name": "stdout",
     "output_type": "stream",
     "text": [
      "[0, 1]\n",
      "[0, 1]\n",
      "[0, 1]\n",
      "[0, 1]\n",
      "[0, 1]\n",
      "[0, 1]\n",
      "[0, 1]\n"
     ]
    },
    {
     "name": "stderr",
     "output_type": "stream",
     "text": [
      " 56%|█████▌    | 3363/6000 [01:26<01:27, 30.15it/s]"
     ]
    },
    {
     "name": "stdout",
     "output_type": "stream",
     "text": [
      "[0, 1]\n",
      "[0, 1]\n",
      "[0, 1]\n",
      "[0, 1]\n",
      "[0, 1]\n",
      "[0, 1]\n",
      "[0, 1]\n",
      "[0, 1]\n",
      "[0, 1]\n",
      "[0, 1]\n",
      "[0, 1]\n"
     ]
    },
    {
     "name": "stderr",
     "output_type": "stream",
     "text": [
      " 56%|█████▋    | 3376/6000 [01:27<01:08, 38.52it/s]"
     ]
    },
    {
     "name": "stdout",
     "output_type": "stream",
     "text": [
      "[0, 1]\n",
      "[0, 1]\n",
      "[0, 1]\n",
      "[0, 1]\n",
      "[0, 1]\n",
      "[0, 1]\n",
      "[0, 1]\n",
      "[0, 1]\n",
      "[0, 1]\n"
     ]
    },
    {
     "name": "stderr",
     "output_type": "stream",
     "text": [
      "\r",
      " 56%|█████▋    | 3382/6000 [01:27<01:01, 42.53it/s]"
     ]
    },
    {
     "name": "stdout",
     "output_type": "stream",
     "text": [
      "[0, 1]\n",
      "[0, 1]\n",
      "[0, 1]\n",
      "[0, 1]\n",
      "[0, 1]\n",
      "[0, 1]\n",
      "[0, 1]\n",
      "[0, 1]\n"
     ]
    },
    {
     "name": "stderr",
     "output_type": "stream",
     "text": [
      " 57%|█████▋    | 3394/6000 [01:27<01:02, 41.76it/s]"
     ]
    },
    {
     "name": "stdout",
     "output_type": "stream",
     "text": [
      "[0, 1]\n",
      "[0, 1]\n",
      "[0, 1]\n",
      "[0, 1]\n",
      "[0, 1]\n",
      "[0, 1]\n",
      "[0, 1]\n",
      "[0, 1]\n",
      "[0, 1]\n",
      "[0, 1]\n",
      "[0, 1]\n",
      "[0, 1]\n",
      "[0, 1]\n"
     ]
    },
    {
     "name": "stderr",
     "output_type": "stream",
     "text": [
      " 57%|█████▋    | 3406/6000 [01:27<00:54, 47.81it/s]"
     ]
    },
    {
     "name": "stdout",
     "output_type": "stream",
     "text": [
      "[0, 1]\n",
      "[0, 1]\n",
      "[0, 1]\n",
      "[0, 1]\n",
      "[0, 1]\n",
      "[0, 1]\n",
      "[0, 1]\n",
      "[0, 1]\n",
      "[0, 1]\n",
      "[0, 1]\n",
      "[0, 1]\n",
      "[0, 1]\n",
      "[0, 1]\n",
      "[0, 1]\n",
      "[0, 1]\n"
     ]
    },
    {
     "name": "stderr",
     "output_type": "stream",
     "text": [
      " 57%|█████▋    | 3420/6000 [01:28<00:51, 50.16it/s]"
     ]
    },
    {
     "name": "stdout",
     "output_type": "stream",
     "text": [
      "[0, 1]\n",
      "[0, 1]\n",
      "[0, 1]\n",
      "[0, 1]\n",
      "[0, 1]\n",
      "[0, 1]\n",
      "[0, 1]\n",
      "[0, 1]\n",
      "[0, 1]\n",
      "[0, 1]\n"
     ]
    },
    {
     "name": "stderr",
     "output_type": "stream",
     "text": [
      " 57%|█████▋    | 3431/6000 [01:28<00:58, 44.02it/s]"
     ]
    },
    {
     "name": "stdout",
     "output_type": "stream",
     "text": [
      "[0, 1]\n",
      "[0, 1]\n",
      "[0, 1]\n",
      "[0, 1]\n",
      "[0, 1]\n",
      "[0, 1]\n",
      "[0, 1]\n",
      "[0, 1]\n",
      "[0, 1]\n"
     ]
    },
    {
     "name": "stderr",
     "output_type": "stream",
     "text": [
      " 57%|█████▋    | 3443/6000 [01:28<00:55, 46.19it/s]"
     ]
    },
    {
     "name": "stdout",
     "output_type": "stream",
     "text": [
      "[0, 1]\n",
      "[0, 1]\n",
      "[0, 1]\n",
      "[0, 1]\n",
      "[0, 1]\n",
      "[0, 1]\n",
      "[0, 1]\n",
      "[0, 1]\n",
      "[0, 1]\n",
      "[0, 1]\n",
      "[0, 1]\n",
      "[0, 1]\n"
     ]
    },
    {
     "name": "stderr",
     "output_type": "stream",
     "text": [
      " 58%|█████▊    | 3454/6000 [01:28<00:53, 47.80it/s]"
     ]
    },
    {
     "name": "stdout",
     "output_type": "stream",
     "text": [
      "[0, 1]\n",
      "[0, 1]\n",
      "[0, 1]\n",
      "[0, 1]\n",
      "[0, 1]\n",
      "[0, 1]\n",
      "[0, 1]\n",
      "[0, 1]\n",
      "[0, 1]\n",
      "[0, 1]\n",
      "[0, 1]\n"
     ]
    },
    {
     "name": "stderr",
     "output_type": "stream",
     "text": [
      " 58%|█████▊    | 3466/6000 [01:29<00:51, 49.15it/s]"
     ]
    },
    {
     "name": "stdout",
     "output_type": "stream",
     "text": [
      "[0, 1]\n",
      "[0, 1]\n",
      "[0, 1]\n",
      "[0, 1]\n",
      "[0, 1]\n",
      "[0, 1]\n",
      "[0, 1]\n",
      "[0, 1]\n",
      "[0, 1]\n",
      "[0, 1]\n",
      "[0, 1]\n",
      "[0, 1]\n"
     ]
    },
    {
     "name": "stderr",
     "output_type": "stream",
     "text": [
      "\r",
      " 58%|█████▊    | 3472/6000 [01:29<00:54, 46.55it/s]"
     ]
    },
    {
     "name": "stdout",
     "output_type": "stream",
     "text": [
      "[0, 1]\n",
      "[0, 1]\n",
      "[0, 1]\n",
      "[0, 1]\n",
      "[0, 1]\n",
      "[0, 1]\n",
      "[0, 1]\n"
     ]
    },
    {
     "name": "stderr",
     "output_type": "stream",
     "text": [
      "\r",
      " 58%|█████▊    | 3477/6000 [01:29<01:14, 33.76it/s]"
     ]
    },
    {
     "name": "stdout",
     "output_type": "stream",
     "text": [
      "[0, 1]\n",
      "[0, 1]\n",
      "[0, 1]\n",
      "[0, 1]\n",
      "[0, 1]\n"
     ]
    },
    {
     "name": "stderr",
     "output_type": "stream",
     "text": [
      " 58%|█████▊    | 3485/6000 [01:29<01:22, 30.66it/s]"
     ]
    },
    {
     "name": "stdout",
     "output_type": "stream",
     "text": [
      "[0, 1]\n",
      "[0, 1]\n",
      "[0, 1]\n",
      "[0, 1]\n",
      "[0, 1]\n",
      "[0, 1]\n",
      "[0, 1]\n"
     ]
    },
    {
     "name": "stderr",
     "output_type": "stream",
     "text": [
      "\r",
      " 58%|█████▊    | 3492/6000 [01:29<01:09, 36.10it/s]"
     ]
    },
    {
     "name": "stdout",
     "output_type": "stream",
     "text": [
      "[0, 1]\n",
      "[0, 1]\n",
      "[0, 1]\n",
      "[0, 1]\n",
      "[0, 1]\n",
      "[0, 1]\n",
      "[0, 1]\n",
      "[0, 1]\n",
      "[0, 1]\n",
      "[0, 1]\n"
     ]
    },
    {
     "name": "stderr",
     "output_type": "stream",
     "text": [
      " 58%|█████▊    | 3503/6000 [01:30<01:02, 39.67it/s]"
     ]
    },
    {
     "name": "stdout",
     "output_type": "stream",
     "text": [
      "[0, 1]\n",
      "[0, 1]\n",
      "[0, 1]\n",
      "[0, 1]\n",
      "[0, 1]\n",
      "[0, 1]\n",
      "[0, 1]\n",
      "[0, 1]\n",
      "[0, 1]\n",
      "[0, 1]\n",
      "[0, 1]\n"
     ]
    },
    {
     "name": "stderr",
     "output_type": "stream",
     "text": [
      " 59%|█████▊    | 3515/6000 [01:30<00:55, 44.64it/s]"
     ]
    },
    {
     "name": "stdout",
     "output_type": "stream",
     "text": [
      "[0, 1]\n",
      "[0, 1]\n",
      "[0, 1]\n",
      "[0, 1]\n",
      "[0, 1]\n",
      "[0, 1]\n",
      "[0, 1]\n",
      "[0, 1]\n",
      "[0, 1]\n",
      "[0, 1]\n",
      "[0, 1]\n"
     ]
    },
    {
     "name": "stderr",
     "output_type": "stream",
     "text": [
      " 59%|█████▉    | 3527/6000 [01:30<00:49, 49.93it/s]"
     ]
    },
    {
     "name": "stdout",
     "output_type": "stream",
     "text": [
      "[0, 1]\n",
      "[0, 1]\n",
      "[0, 1]\n",
      "[0, 1]\n",
      "[0, 1]\n",
      "[0, 1]\n",
      "[0, 1]\n",
      "[0, 1]\n",
      "[0, 1]\n",
      "[0, 1]\n",
      "[0, 1]\n"
     ]
    },
    {
     "name": "stderr",
     "output_type": "stream",
     "text": [
      " 59%|█████▉    | 3539/6000 [01:30<00:46, 52.44it/s]"
     ]
    },
    {
     "name": "stdout",
     "output_type": "stream",
     "text": [
      "[0, 1]\n",
      "[0, 1]\n",
      "[0, 1]\n",
      "[0, 1]\n",
      "[0, 1]\n",
      "[0, 1]\n",
      "[0, 1]\n",
      "[0, 1]\n",
      "[0, 1]\n",
      "[0, 1]\n",
      "[0, 1]\n",
      "[0, 1]\n"
     ]
    },
    {
     "name": "stderr",
     "output_type": "stream",
     "text": [
      "\r",
      " 59%|█████▉    | 3545/6000 [01:30<00:48, 50.19it/s]"
     ]
    },
    {
     "name": "stdout",
     "output_type": "stream",
     "text": [
      "[0, 1]\n",
      "[0, 1]\n",
      "[0, 1]\n",
      "[0, 1]\n",
      "[0, 1]\n",
      "[0, 1]\n",
      "[0, 1]\n",
      "[0, 1]\n"
     ]
    },
    {
     "name": "stderr",
     "output_type": "stream",
     "text": [
      " 59%|█████▉    | 3557/6000 [01:31<00:50, 48.66it/s]"
     ]
    },
    {
     "name": "stdout",
     "output_type": "stream",
     "text": [
      "[0, 1]\n",
      "[0, 1]\n",
      "[0, 1]\n",
      "[0, 1]\n",
      "[0, 1]\n",
      "[0, 1]\n",
      "[0, 1]\n",
      "[0, 1]\n",
      "[0, 1]\n"
     ]
    },
    {
     "name": "stderr",
     "output_type": "stream",
     "text": [
      "\r",
      " 59%|█████▉    | 3562/6000 [01:31<00:59, 40.84it/s]"
     ]
    },
    {
     "name": "stdout",
     "output_type": "stream",
     "text": [
      "[0, 1]\n",
      "[0, 1]\n",
      "[0, 1]\n",
      "[0, 1]\n",
      "[0, 1]\n",
      "[0, 1]\n",
      "[0, 1]\n",
      "[0, 1]\n",
      "[0, 1]\n",
      "[0, 1]\n"
     ]
    },
    {
     "name": "stderr",
     "output_type": "stream",
     "text": [
      " 60%|█████▉    | 3572/6000 [01:31<01:14, 32.45it/s]"
     ]
    },
    {
     "name": "stdout",
     "output_type": "stream",
     "text": [
      "[0, 1]\n",
      "[0, 1]\n",
      "[0, 1]\n",
      "[0, 1]\n",
      "[0, 1]\n"
     ]
    },
    {
     "name": "stderr",
     "output_type": "stream",
     "text": [
      " 60%|█████▉    | 3581/6000 [01:31<01:07, 36.02it/s]"
     ]
    },
    {
     "name": "stdout",
     "output_type": "stream",
     "text": [
      "[0, 1]\n",
      "[0, 1]\n",
      "[0, 1]\n",
      "[0, 1]\n",
      "[0, 1]\n",
      "[0, 1]\n",
      "[0, 1]\n",
      "[0, 1]\n",
      "[0, 1]\n"
     ]
    },
    {
     "name": "stderr",
     "output_type": "stream",
     "text": [
      " 60%|█████▉    | 3589/6000 [01:32<01:09, 34.70it/s]"
     ]
    },
    {
     "name": "stdout",
     "output_type": "stream",
     "text": [
      "[0, 1]\n",
      "[0, 1]\n",
      "[0, 1]\n",
      "[0, 1]\n",
      "[0, 1]\n",
      "[0, 1]\n",
      "[0, 1]\n",
      "[0, 1]\n"
     ]
    },
    {
     "name": "stderr",
     "output_type": "stream",
     "text": [
      "\r",
      " 60%|█████▉    | 3595/6000 [01:32<01:02, 38.62it/s]"
     ]
    },
    {
     "name": "stdout",
     "output_type": "stream",
     "text": [
      "[0, 1]\n",
      "[0, 1]\n",
      "[0, 1]\n",
      "[0, 1]\n",
      "[0, 1]\n",
      "[0, 1]\n",
      "[0, 1]\n",
      "[0, 1]\n",
      "[0, 1]\n",
      "[0, 1]\n"
     ]
    },
    {
     "name": "stderr",
     "output_type": "stream",
     "text": [
      " 60%|██████    | 3606/6000 [01:32<00:55, 43.23it/s]"
     ]
    },
    {
     "name": "stdout",
     "output_type": "stream",
     "text": [
      "[0, 1]\n",
      "[0, 1]\n",
      "[0, 1]\n",
      "[0, 1]\n",
      "[0, 1]\n",
      "[0, 1]\n",
      "[0, 1]\n",
      "[0, 1]\n",
      "[0, 1]\n",
      "[0, 1]\n",
      "[0, 1]\n",
      "[0, 1]\n",
      "[0, 1]\n"
     ]
    },
    {
     "name": "stderr",
     "output_type": "stream",
     "text": [
      " 60%|██████    | 3620/6000 [01:32<00:47, 50.25it/s]"
     ]
    },
    {
     "name": "stdout",
     "output_type": "stream",
     "text": [
      "[0, 1]\n",
      "[0, 1]\n",
      "[0, 1]\n",
      "[0, 1]\n",
      "[0, 1]\n",
      "[0, 1]\n",
      "[0, 1]\n",
      "[0, 1]\n",
      "[0, 1]\n",
      "[0, 1]\n",
      "[0, 1]\n",
      "[0, 1]\n"
     ]
    },
    {
     "name": "stderr",
     "output_type": "stream",
     "text": [
      " 61%|██████    | 3632/6000 [01:32<00:45, 52.02it/s]"
     ]
    },
    {
     "name": "stdout",
     "output_type": "stream",
     "text": [
      "[0, 1]\n",
      "[0, 1]\n",
      "[0, 1]\n",
      "[0, 1]\n",
      "[0, 1]\n",
      "[0, 1]\n",
      "[0, 1]\n",
      "[0, 1]\n",
      "[0, 1]\n"
     ]
    },
    {
     "name": "stderr",
     "output_type": "stream",
     "text": [
      " 61%|██████    | 3645/6000 [01:33<00:45, 51.39it/s]"
     ]
    },
    {
     "name": "stdout",
     "output_type": "stream",
     "text": [
      "[0, 1]\n",
      "[0, 1]\n",
      "[0, 1]\n",
      "[0, 1]\n",
      "[0, 1]\n",
      "[0, 1]\n",
      "[0, 1]\n",
      "[0, 1]\n",
      "[0, 1]\n",
      "[0, 1]\n",
      "[0, 1]\n",
      "[0, 1]\n"
     ]
    },
    {
     "name": "stderr",
     "output_type": "stream",
     "text": [
      "\r",
      " 61%|██████    | 3651/6000 [01:33<00:52, 45.13it/s]"
     ]
    },
    {
     "name": "stdout",
     "output_type": "stream",
     "text": [
      "[0, 1]\n",
      "[0, 1]\n",
      "[0, 1]\n",
      "[0, 1]\n",
      "[0, 1]\n",
      "[0, 1]\n",
      "[0, 1]\n",
      "[0, 1]\n",
      "[0, 1]\n",
      "[0, 1]\n"
     ]
    },
    {
     "name": "stderr",
     "output_type": "stream",
     "text": [
      " 61%|██████    | 3664/6000 [01:33<00:45, 51.76it/s]"
     ]
    },
    {
     "name": "stdout",
     "output_type": "stream",
     "text": [
      "[0, 1]\n",
      "[0, 1]\n",
      "[0, 1]\n",
      "[0, 1]\n",
      "[0, 1]\n",
      "[0, 1]\n",
      "[0, 1]\n",
      "[0, 1]\n",
      "[0, 1]\n",
      "[0, 1]\n",
      "[0, 1]\n",
      "[0, 1]\n",
      "[0, 1]\n",
      "[0, 1]\n"
     ]
    },
    {
     "name": "stderr",
     "output_type": "stream",
     "text": [
      " 61%|██████▏   | 3676/6000 [01:33<00:45, 51.02it/s]"
     ]
    },
    {
     "name": "stdout",
     "output_type": "stream",
     "text": [
      "[0, 1]\n",
      "[0, 1]\n",
      "[0, 1]\n",
      "[0, 1]\n",
      "[0, 1]\n",
      "[0, 1]\n",
      "[0, 1]\n",
      "[0, 1]\n",
      "[0, 1]\n",
      "[0, 1]\n"
     ]
    },
    {
     "name": "stderr",
     "output_type": "stream",
     "text": [
      " 61%|██████▏   | 3687/6000 [01:34<00:50, 46.12it/s]"
     ]
    },
    {
     "name": "stdout",
     "output_type": "stream",
     "text": [
      "[0, 1]\n",
      "[0, 1]\n",
      "[0, 1]\n",
      "[0, 1]\n",
      "[0, 1]\n",
      "[0, 1]\n",
      "[0, 1]\n",
      "[0, 1]\n",
      "[0, 1]\n",
      "[0, 1]\n"
     ]
    },
    {
     "name": "stderr",
     "output_type": "stream",
     "text": [
      "\r",
      " 62%|██████▏   | 3693/6000 [01:34<00:46, 49.44it/s]"
     ]
    },
    {
     "name": "stdout",
     "output_type": "stream",
     "text": [
      "[0, 1]\n",
      "[0, 1]\n",
      "[0, 1]\n",
      "[0, 1]\n",
      "[0, 1]\n",
      "[0, 1]\n",
      "[0, 1]\n",
      "[0, 1]\n",
      "[0, 1]\n"
     ]
    },
    {
     "name": "stderr",
     "output_type": "stream",
     "text": [
      " 62%|██████▏   | 3706/6000 [01:34<00:48, 47.66it/s]"
     ]
    },
    {
     "name": "stdout",
     "output_type": "stream",
     "text": [
      "[0, 1]\n",
      "[0, 1]\n",
      "[0, 1]\n",
      "[0, 1]\n",
      "[0, 1]\n",
      "[0, 1]\n",
      "[0, 1]\n",
      "[0, 1]\n",
      "[0, 1]\n",
      "[0, 1]\n",
      "[0, 1]\n"
     ]
    },
    {
     "name": "stderr",
     "output_type": "stream",
     "text": [
      " 62%|██████▏   | 3718/6000 [01:34<00:51, 44.18it/s]"
     ]
    },
    {
     "name": "stdout",
     "output_type": "stream",
     "text": [
      "[0, 1]\n",
      "[0, 1]\n",
      "[0, 1]\n",
      "[0, 1]\n",
      "[0, 1]\n",
      "[0, 1]\n",
      "[0, 1]\n",
      "[0, 1]\n",
      "[0, 1]\n",
      "[0, 1]\n",
      "[0, 1]\n",
      "[0, 1]\n"
     ]
    },
    {
     "name": "stderr",
     "output_type": "stream",
     "text": [
      " 62%|██████▏   | 3730/6000 [01:35<00:47, 47.42it/s]"
     ]
    },
    {
     "name": "stdout",
     "output_type": "stream",
     "text": [
      "[0, 1]\n",
      "[0, 1]\n",
      "[0, 1]\n",
      "[0, 1]\n",
      "[0, 1]\n",
      "[0, 1]\n",
      "[0, 1]\n",
      "[0, 1]\n",
      "[0, 1]\n",
      "[0, 1]\n"
     ]
    },
    {
     "name": "stderr",
     "output_type": "stream",
     "text": [
      " 62%|██████▏   | 3742/6000 [01:35<00:46, 48.87it/s]"
     ]
    },
    {
     "name": "stdout",
     "output_type": "stream",
     "text": [
      "[0, 1]\n",
      "[0, 1]\n",
      "[0, 1]\n",
      "[0, 1]\n",
      "[0, 1]\n",
      "[0, 1]\n",
      "[0, 1]\n",
      "[0, 1]\n",
      "[0, 1]\n",
      "[0, 1]\n",
      "[0, 1]\n"
     ]
    },
    {
     "name": "stderr",
     "output_type": "stream",
     "text": [
      "\r",
      " 62%|██████▏   | 3748/6000 [01:35<00:49, 45.80it/s]"
     ]
    },
    {
     "name": "stdout",
     "output_type": "stream",
     "text": [
      "[0, 1]\n",
      "[0, 1]\n",
      "[0, 1]\n",
      "[0, 1]\n",
      "[0, 1]\n",
      "[0, 1]\n",
      "[0, 1]\n",
      "[0, 1]\n"
     ]
    },
    {
     "name": "stderr",
     "output_type": "stream",
     "text": [
      " 63%|██████▎   | 3758/6000 [01:35<00:53, 41.83it/s]"
     ]
    },
    {
     "name": "stdout",
     "output_type": "stream",
     "text": [
      "[0, 1]\n",
      "[0, 1]\n",
      "[0, 1]\n",
      "[0, 1]\n",
      "[0, 1]\n",
      "[0, 1]\n",
      "[0, 1]\n",
      "[0, 1]\n",
      "[0, 1]\n"
     ]
    },
    {
     "name": "stderr",
     "output_type": "stream",
     "text": [
      " 63%|██████▎   | 3771/6000 [01:35<00:44, 49.56it/s]"
     ]
    },
    {
     "name": "stdout",
     "output_type": "stream",
     "text": [
      "[0, 1]\n",
      "[0, 1]\n",
      "[0, 1]\n",
      "[0, 1]\n",
      "[0, 1]\n",
      "[0, 1]\n",
      "[0, 1]\n",
      "[0, 1]\n",
      "[0, 1]\n",
      "[0, 1]\n",
      "[0, 1]\n",
      "[0, 1]\n",
      "[0, 1]\n"
     ]
    },
    {
     "name": "stderr",
     "output_type": "stream",
     "text": [
      "\r",
      " 63%|██████▎   | 3777/6000 [01:36<00:49, 45.26it/s]"
     ]
    },
    {
     "name": "stdout",
     "output_type": "stream",
     "text": [
      "[0, 1]\n",
      "[0, 1]\n",
      "[0, 1]\n",
      "[0, 1]\n",
      "[0, 1]\n",
      "[0, 1]\n",
      "[0, 1]\n",
      "[0, 1]\n"
     ]
    },
    {
     "name": "stderr",
     "output_type": "stream",
     "text": [
      " 63%|██████▎   | 3787/6000 [01:36<00:56, 39.40it/s]"
     ]
    },
    {
     "name": "stdout",
     "output_type": "stream",
     "text": [
      "[0, 1]\n",
      "[0, 1]\n",
      "[0, 1]\n",
      "[0, 1]\n",
      "[0, 1]\n",
      "[0, 1]\n",
      "[0, 1]\n",
      "[0, 1]\n",
      "[0, 1]\n",
      "[0, 1]\n"
     ]
    },
    {
     "name": "stderr",
     "output_type": "stream",
     "text": [
      " 63%|██████▎   | 3798/6000 [01:36<00:51, 42.70it/s]"
     ]
    },
    {
     "name": "stdout",
     "output_type": "stream",
     "text": [
      "[0, 1]\n",
      "[0, 1]\n",
      "[0, 1]\n",
      "[0, 1]\n",
      "[0, 1]\n",
      "[0, 1]\n",
      "[0, 1]\n",
      "[0, 1]\n",
      "[0, 1]\n"
     ]
    },
    {
     "name": "stderr",
     "output_type": "stream",
     "text": [
      " 64%|██████▎   | 3812/6000 [01:36<00:44, 49.12it/s]"
     ]
    },
    {
     "name": "stdout",
     "output_type": "stream",
     "text": [
      "[0, 1]\n",
      "[0, 1]\n",
      "[0, 1]\n",
      "[0, 1]\n",
      "[0, 1]\n",
      "[0, 1]\n",
      "[0, 1]\n",
      "[0, 1]\n",
      "[0, 1]\n",
      "[0, 1]\n",
      "[0, 1]\n",
      "[0, 1]\n",
      "[0, 1]\n"
     ]
    },
    {
     "name": "stderr",
     "output_type": "stream",
     "text": [
      "\r",
      " 64%|██████▎   | 3818/6000 [01:36<00:47, 45.66it/s]"
     ]
    },
    {
     "name": "stdout",
     "output_type": "stream",
     "text": [
      "[0, 1]\n",
      "[0, 1]\n",
      "[0, 1]\n",
      "[0, 1]\n",
      "[0, 1]\n",
      "[0, 1]\n",
      "[0, 1]\n",
      "[0, 1]\n",
      "[0, 1]\n",
      "[0, 1]\n",
      "[0, 1]\n"
     ]
    },
    {
     "name": "stderr",
     "output_type": "stream",
     "text": [
      " 64%|██████▍   | 3832/6000 [01:37<00:40, 53.78it/s]"
     ]
    },
    {
     "name": "stdout",
     "output_type": "stream",
     "text": [
      "[0, 1]\n",
      "[0, 1]\n",
      "[0, 1]\n",
      "[0, 1]\n",
      "[0, 1]\n",
      "[0, 1]\n",
      "[0, 1]\n",
      "[0, 1]\n",
      "[0, 1]\n",
      "[0, 1]\n",
      "[0, 1]\n",
      "[0, 1]\n",
      "[0, 1]\n"
     ]
    },
    {
     "name": "stderr",
     "output_type": "stream",
     "text": [
      " 64%|██████▍   | 3845/6000 [01:37<00:40, 53.24it/s]"
     ]
    },
    {
     "name": "stdout",
     "output_type": "stream",
     "text": [
      "[0, 1]\n",
      "[0, 1]\n",
      "[0, 1]\n",
      "[0, 1]\n",
      "[0, 1]\n",
      "[0, 1]\n",
      "[0, 1]\n",
      "[0, 1]\n",
      "[0, 1]\n",
      "[0, 1]\n",
      "[0, 1]\n",
      "[0, 1]\n",
      "[0, 1]\n"
     ]
    },
    {
     "name": "stderr",
     "output_type": "stream",
     "text": [
      " 64%|██████▍   | 3857/6000 [01:37<00:42, 50.90it/s]"
     ]
    },
    {
     "name": "stdout",
     "output_type": "stream",
     "text": [
      "[0, 1]\n",
      "[0, 1]\n",
      "[0, 1]\n",
      "[0, 1]\n",
      "[0, 1]\n",
      "[0, 1]\n",
      "[0, 1]\n",
      "[0, 1]\n",
      "[0, 1]\n",
      "[0, 1]\n"
     ]
    },
    {
     "name": "stderr",
     "output_type": "stream",
     "text": [
      " 64%|██████▍   | 3869/6000 [01:37<00:40, 52.36it/s]"
     ]
    },
    {
     "name": "stdout",
     "output_type": "stream",
     "text": [
      "[0, 1]\n",
      "[0, 1]\n",
      "[0, 1]\n",
      "[0, 1]\n",
      "[0, 1]\n",
      "[0, 1]\n",
      "[0, 1]\n",
      "[0, 1]\n",
      "[0, 1]\n",
      "[0, 1]\n",
      "[0, 1]\n"
     ]
    },
    {
     "name": "stderr",
     "output_type": "stream",
     "text": [
      " 65%|██████▍   | 3881/6000 [01:38<00:40, 52.03it/s]"
     ]
    },
    {
     "name": "stdout",
     "output_type": "stream",
     "text": [
      "[0, 1]\n",
      "[0, 1]\n",
      "[0, 1]\n",
      "[0, 1]\n",
      "[0, 1]\n",
      "[0, 1]\n",
      "[0, 1]\n",
      "[0, 1]\n",
      "[0, 1]\n",
      "[0, 1]\n",
      "[0, 1]\n",
      "[0, 1]\n"
     ]
    },
    {
     "name": "stderr",
     "output_type": "stream",
     "text": [
      " 65%|██████▍   | 3894/6000 [01:38<00:40, 52.54it/s]"
     ]
    },
    {
     "name": "stdout",
     "output_type": "stream",
     "text": [
      "[0, 1]\n",
      "[0, 1]\n",
      "[0, 1]\n",
      "[0, 1]\n",
      "[0, 1]\n",
      "[0, 1]\n",
      "[0, 1]\n",
      "[0, 1]\n",
      "[0, 1]\n",
      "[0, 1]\n",
      "[0, 1]\n",
      "[0, 1]\n"
     ]
    },
    {
     "name": "stderr",
     "output_type": "stream",
     "text": [
      " 65%|██████▌   | 3906/6000 [01:38<00:39, 53.04it/s]"
     ]
    },
    {
     "name": "stdout",
     "output_type": "stream",
     "text": [
      "[0, 1]\n",
      "[0, 1]\n",
      "[0, 1]\n",
      "[0, 1]\n",
      "[0, 1]\n",
      "[0, 1]\n",
      "[0, 1]\n",
      "[0, 1]\n",
      "[0, 1]\n",
      "[0, 1]\n",
      "[0, 1]\n",
      "[0, 1]\n"
     ]
    },
    {
     "name": "stderr",
     "output_type": "stream",
     "text": [
      "\r",
      " 65%|██████▌   | 3912/6000 [01:38<00:39, 53.49it/s]"
     ]
    },
    {
     "name": "stdout",
     "output_type": "stream",
     "text": [
      "[0, 1]\n",
      "[0, 1]\n",
      "[0, 1]\n",
      "[0, 1]\n",
      "[0, 1]\n",
      "[0, 1]\n",
      "[0, 1]\n",
      "[0, 1]\n",
      "[0, 1]\n",
      "[0, 1]\n",
      "[0, 1]\n",
      "[0, 1]\n",
      "[0, 1]\n"
     ]
    },
    {
     "name": "stderr",
     "output_type": "stream",
     "text": [
      " 65%|██████▌   | 3926/6000 [01:38<00:37, 55.28it/s]"
     ]
    },
    {
     "name": "stdout",
     "output_type": "stream",
     "text": [
      "[0, 1]\n",
      "[0, 1]\n",
      "[0, 1]\n",
      "[0, 1]\n",
      "[0, 1]\n",
      "[0, 1]\n",
      "[0, 1]\n",
      "[0, 1]\n",
      "[0, 1]\n",
      "[0, 1]\n",
      "[0, 1]\n"
     ]
    },
    {
     "name": "stderr",
     "output_type": "stream",
     "text": [
      " 66%|██████▌   | 3938/6000 [01:39<00:39, 51.73it/s]"
     ]
    },
    {
     "name": "stdout",
     "output_type": "stream",
     "text": [
      "[0, 1]\n",
      "[0, 1]\n",
      "[0, 1]\n",
      "[0, 1]\n",
      "[0, 1]\n",
      "[0, 1]\n",
      "[0, 1]\n",
      "[0, 1]\n",
      "[0, 1]\n",
      "[0, 1]\n",
      "[0, 1]\n"
     ]
    },
    {
     "name": "stderr",
     "output_type": "stream",
     "text": [
      " 66%|██████▌   | 3950/6000 [01:39<00:40, 51.18it/s]"
     ]
    },
    {
     "name": "stdout",
     "output_type": "stream",
     "text": [
      "[0, 1]\n",
      "[0, 1]\n",
      "[0, 1]\n",
      "[0, 1]\n",
      "[0, 1]\n",
      "[0, 1]\n",
      "[0, 1]\n",
      "[0, 1]\n",
      "[0, 1]\n",
      "[0, 1]\n",
      "[0, 1]\n",
      "[0, 1]\n",
      "[0, 1]\n"
     ]
    },
    {
     "name": "stderr",
     "output_type": "stream",
     "text": [
      "\r",
      " 66%|██████▌   | 3958/6000 [01:39<00:36, 55.99it/s]"
     ]
    },
    {
     "name": "stdout",
     "output_type": "stream",
     "text": [
      "[0, 1]\n",
      "[0, 1]\n",
      "[0, 1]\n",
      "[0, 1]\n",
      "[0, 1]\n",
      "[0, 1]\n",
      "[0, 1]\n",
      "[0, 1]\n",
      "[0, 1]\n"
     ]
    },
    {
     "name": "stderr",
     "output_type": "stream",
     "text": [
      " 66%|██████▌   | 3970/6000 [01:39<00:43, 46.25it/s]"
     ]
    },
    {
     "name": "stdout",
     "output_type": "stream",
     "text": [
      "[0, 1]\n",
      "[0, 1]\n",
      "[0, 1]\n",
      "[0, 1]\n",
      "[0, 1]\n",
      "[0, 1]\n",
      "[0, 1]\n",
      "[0, 1]\n",
      "[0, 1]\n"
     ]
    },
    {
     "name": "stderr",
     "output_type": "stream",
     "text": [
      " 66%|██████▋   | 3981/6000 [01:40<00:42, 48.05it/s]"
     ]
    },
    {
     "name": "stdout",
     "output_type": "stream",
     "text": [
      "[0, 1]\n",
      "[0, 1]\n",
      "[0, 1]\n",
      "[0, 1]\n",
      "[0, 1]\n",
      "[0, 1]\n",
      "[0, 1]\n",
      "[0, 1]\n",
      "[0, 1]\n",
      "[0, 1]\n",
      "[0, 1]\n",
      "[0, 1]\n",
      "[0, 1]\n"
     ]
    },
    {
     "name": "stderr",
     "output_type": "stream",
     "text": [
      " 67%|██████▋   | 3992/6000 [01:40<00:41, 47.99it/s]"
     ]
    },
    {
     "name": "stdout",
     "output_type": "stream",
     "text": [
      "[0, 1]\n",
      "[0, 1]\n",
      "[0, 1]\n",
      "[0, 1]\n",
      "[0, 1]\n",
      "[0, 1]\n",
      "[0, 1]\n",
      "[0, 1]\n",
      "[0, 1]\n"
     ]
    },
    {
     "name": "stderr",
     "output_type": "stream",
     "text": [
      " 67%|██████▋   | 4010/6000 [01:40<00:32, 61.84it/s]"
     ]
    },
    {
     "name": "stdout",
     "output_type": "stream",
     "text": [
      "[0, 1]\n",
      "[0, 1]\n",
      "[0, 1]\n",
      "[0, 1]\n",
      "[0, 1]\n",
      "[0, 1]\n",
      "[0, 1]\n",
      "[0, 1]\n",
      "[0, 1]\n",
      "[0, 1]\n",
      "[0, 1]\n",
      "[0, 1]\n",
      "[0, 1]\n",
      "[0, 1]\n",
      "[0, 1]\n",
      "[0, 1]\n",
      "[0, 1]\n",
      "[0, 1]\n"
     ]
    },
    {
     "name": "stderr",
     "output_type": "stream",
     "text": [
      "\r",
      " 67%|██████▋   | 4017/6000 [01:40<00:35, 55.20it/s]"
     ]
    },
    {
     "name": "stdout",
     "output_type": "stream",
     "text": [
      "[0, 1]\n",
      "[0, 1]\n",
      "[0, 1]\n",
      "[0, 1]\n",
      "[0, 1]\n",
      "[0, 1]\n",
      "[0, 1]\n",
      "[0, 1]\n",
      "[0, 1]\n",
      "[0, 1]\n",
      "[0, 1]\n"
     ]
    },
    {
     "name": "stderr",
     "output_type": "stream",
     "text": [
      " 67%|██████▋   | 4031/6000 [01:40<00:35, 55.78it/s]"
     ]
    },
    {
     "name": "stdout",
     "output_type": "stream",
     "text": [
      "[0, 1]\n",
      "[0, 1]\n",
      "[0, 1]\n",
      "[0, 1]\n",
      "[0, 1]\n",
      "[0, 1]\n",
      "[0, 1]\n",
      "[0, 1]\n",
      "[0, 1]\n",
      "[0, 1]\n",
      "[0, 1]\n",
      "[0, 1]\n"
     ]
    },
    {
     "name": "stderr",
     "output_type": "stream",
     "text": [
      " 67%|██████▋   | 4044/6000 [01:41<00:34, 56.05it/s]"
     ]
    },
    {
     "name": "stdout",
     "output_type": "stream",
     "text": [
      "[0, 1]\n",
      "[0, 1]\n",
      "[0, 1]\n",
      "[0, 1]\n",
      "[0, 1]\n",
      "[0, 1]\n",
      "[0, 1]\n",
      "[0, 1]\n",
      "[0, 1]\n",
      "[0, 1]\n"
     ]
    },
    {
     "name": "stderr",
     "output_type": "stream",
     "text": [
      "\r",
      " 68%|██████▊   | 4050/6000 [01:41<00:42, 45.96it/s]"
     ]
    },
    {
     "name": "stdout",
     "output_type": "stream",
     "text": [
      "[0, 1]\n",
      "[0, 1]\n",
      "[0, 1]\n",
      "[0, 1]\n",
      "[0, 1]\n",
      "[0, 1]\n",
      "[0, 1]\n",
      "[0, 1]\n",
      "[0, 1]\n"
     ]
    },
    {
     "name": "stderr",
     "output_type": "stream",
     "text": [
      " 68%|██████▊   | 4062/6000 [01:41<00:40, 48.17it/s]"
     ]
    },
    {
     "name": "stdout",
     "output_type": "stream",
     "text": [
      "[0, 1]\n",
      "[0, 1]\n",
      "[0, 1]\n",
      "[0, 1]\n",
      "[0, 1]\n",
      "[0, 1]\n",
      "[0, 1]\n",
      "[0, 1]\n",
      "[0, 1]\n",
      "[0, 1]\n",
      "[0, 1]\n",
      "[0, 1]\n",
      "[0, 1]\n"
     ]
    },
    {
     "name": "stderr",
     "output_type": "stream",
     "text": [
      " 68%|██████▊   | 4075/6000 [01:41<00:36, 52.72it/s]"
     ]
    },
    {
     "name": "stdout",
     "output_type": "stream",
     "text": [
      "[0, 1]\n",
      "[0, 1]\n",
      "[0, 1]\n",
      "[0, 1]\n",
      "[0, 1]\n",
      "[0, 1]\n",
      "[0, 1]\n",
      "[0, 1]\n",
      "[0, 1]\n",
      "[0, 1]\n",
      "[0, 1]\n",
      "[0, 1]\n",
      "[0, 1]\n"
     ]
    },
    {
     "name": "stderr",
     "output_type": "stream",
     "text": [
      " 68%|██████▊   | 4089/6000 [01:41<00:33, 56.72it/s]"
     ]
    },
    {
     "name": "stdout",
     "output_type": "stream",
     "text": [
      "[0, 1]\n",
      "[0, 1]\n",
      "[0, 1]\n",
      "[0, 1]\n",
      "[0, 1]\n",
      "[0, 1]\n",
      "[0, 1]\n",
      "[0, 1]\n",
      "[0, 1]\n",
      "[0, 1]\n",
      "[0, 1]\n"
     ]
    },
    {
     "name": "stderr",
     "output_type": "stream",
     "text": [
      " 68%|██████▊   | 4101/6000 [01:42<00:36, 51.33it/s]"
     ]
    },
    {
     "name": "stdout",
     "output_type": "stream",
     "text": [
      "[0, 1]\n",
      "[0, 1]\n",
      "[0, 1]\n",
      "[0, 1]\n",
      "[0, 1]\n",
      "[0, 1]\n",
      "[0, 1]\n",
      "[0, 1]\n",
      "[0, 1]\n",
      "[0, 1]\n"
     ]
    },
    {
     "name": "stderr",
     "output_type": "stream",
     "text": [
      " 69%|██████▊   | 4114/6000 [01:42<00:34, 54.22it/s]"
     ]
    },
    {
     "name": "stdout",
     "output_type": "stream",
     "text": [
      "[0, 1]\n",
      "[0, 1]\n",
      "[0, 1]\n",
      "[0, 1]\n",
      "[0, 1]\n",
      "[0, 1]\n",
      "[0, 1]\n",
      "[0, 1]\n",
      "[0, 1]\n",
      "[0, 1]\n",
      "[0, 1]\n",
      "[0, 1]\n",
      "[0, 1]\n"
     ]
    },
    {
     "name": "stderr",
     "output_type": "stream",
     "text": [
      " 69%|██████▉   | 4127/6000 [01:42<00:32, 58.20it/s]"
     ]
    },
    {
     "name": "stdout",
     "output_type": "stream",
     "text": [
      "[0, 1]\n",
      "[0, 1]\n",
      "[0, 1]\n",
      "[0, 1]\n",
      "[0, 1]\n",
      "[0, 1]\n",
      "[0, 1]\n",
      "[0, 1]\n",
      "[0, 1]\n",
      "[0, 1]\n",
      "[0, 1]\n",
      "[0, 1]\n",
      "[0, 1]\n"
     ]
    },
    {
     "name": "stderr",
     "output_type": "stream",
     "text": [
      "\r",
      " 69%|██████▉   | 4133/6000 [01:42<00:34, 53.75it/s]"
     ]
    },
    {
     "name": "stdout",
     "output_type": "stream",
     "text": [
      "[0, 1]\n",
      "[0, 1]\n",
      "[0, 1]\n",
      "[0, 1]\n",
      "[0, 1]\n",
      "[0, 1]\n",
      "[0, 1]\n",
      "[0, 1]\n",
      "[0, 1]\n",
      "[0, 1]\n"
     ]
    },
    {
     "name": "stderr",
     "output_type": "stream",
     "text": [
      " 69%|██████▉   | 4146/6000 [01:43<00:32, 56.21it/s]"
     ]
    },
    {
     "name": "stdout",
     "output_type": "stream",
     "text": [
      "[0, 1]\n",
      "[0, 1]\n",
      "[0, 1]\n",
      "[0, 1]\n",
      "[0, 1]\n",
      "[0, 1]\n",
      "[0, 1]\n",
      "[0, 1]\n",
      "[0, 1]\n",
      "[0, 1]\n",
      "[0, 1]\n",
      "[0, 1]\n",
      "[0, 1]\n",
      "[0, 1]\n"
     ]
    },
    {
     "name": "stderr",
     "output_type": "stream",
     "text": [
      " 69%|██████▉   | 4160/6000 [01:43<00:33, 55.72it/s]"
     ]
    },
    {
     "name": "stdout",
     "output_type": "stream",
     "text": [
      "[0, 1]\n",
      "[0, 1]\n",
      "[0, 1]\n",
      "[0, 1]\n",
      "[0, 1]\n",
      "[0, 1]\n",
      "[0, 1]\n",
      "[0, 1]\n",
      "[0, 1]\n"
     ]
    },
    {
     "name": "stderr",
     "output_type": "stream",
     "text": [
      "\r",
      " 69%|██████▉   | 4166/6000 [01:43<00:40, 45.61it/s]"
     ]
    },
    {
     "name": "stdout",
     "output_type": "stream",
     "text": [
      "[0, 1]\n",
      "[0, 1]\n",
      "[0, 1]\n",
      "[0, 1]\n",
      "[0, 1]\n",
      "[0, 1]\n",
      "[0, 1]\n",
      "[0, 1]\n",
      "[0, 1]\n",
      "[0, 1]\n"
     ]
    },
    {
     "name": "stderr",
     "output_type": "stream",
     "text": [
      " 70%|██████▉   | 4179/6000 [01:43<00:36, 49.22it/s]"
     ]
    },
    {
     "name": "stdout",
     "output_type": "stream",
     "text": [
      "[0, 1]\n",
      "[0, 1]\n",
      "[0, 1]\n",
      "[0, 1]\n",
      "[0, 1]\n",
      "[0, 1]\n",
      "[0, 1]\n",
      "[0, 1]\n",
      "[0, 1]\n",
      "[0, 1]\n"
     ]
    },
    {
     "name": "stderr",
     "output_type": "stream",
     "text": [
      " 70%|██████▉   | 4191/6000 [01:43<00:35, 50.26it/s]"
     ]
    },
    {
     "name": "stdout",
     "output_type": "stream",
     "text": [
      "[0, 1]\n",
      "[0, 1]\n",
      "[0, 1]\n",
      "[0, 1]\n",
      "[0, 1]\n",
      "[0, 1]\n",
      "[0, 1]\n",
      "[0, 1]\n",
      "[0, 1]\n",
      "[0, 1]\n",
      "[0, 1]\n"
     ]
    },
    {
     "name": "stderr",
     "output_type": "stream",
     "text": [
      " 70%|███████   | 4202/6000 [01:44<00:38, 46.11it/s]"
     ]
    },
    {
     "name": "stdout",
     "output_type": "stream",
     "text": [
      "[0, 1]\n",
      "[0, 1]\n",
      "[0, 1]\n",
      "[0, 1]\n",
      "[0, 1]\n",
      "[0, 1]\n",
      "[0, 1]\n",
      "[0, 1]\n",
      "[0, 1]\n",
      "[0, 1]\n",
      "[0, 1]\n"
     ]
    },
    {
     "name": "stderr",
     "output_type": "stream",
     "text": [
      "\r",
      " 70%|███████   | 4207/6000 [01:44<00:38, 46.20it/s]"
     ]
    },
    {
     "name": "stdout",
     "output_type": "stream",
     "text": [
      "[0, 1]\n",
      "[0, 1]\n",
      "[0, 1]\n",
      "[0, 1]\n",
      "[0, 1]\n",
      "[0, 1]\n",
      "[0, 1]\n",
      "[0, 1]\n",
      "[0, 1]\n",
      "[0, 1]\n"
     ]
    },
    {
     "name": "stderr",
     "output_type": "stream",
     "text": [
      " 70%|███████   | 4218/6000 [01:44<00:36, 48.60it/s]"
     ]
    },
    {
     "name": "stdout",
     "output_type": "stream",
     "text": [
      "[0, 1]\n",
      "[0, 1]\n",
      "[0, 1]\n",
      "[0, 1]\n",
      "[0, 1]\n",
      "[0, 1]\n",
      "[0, 1]\n",
      "[0, 1]\n",
      "[0, 1]\n",
      "[0, 1]\n"
     ]
    },
    {
     "name": "stderr",
     "output_type": "stream",
     "text": [
      " 70%|███████   | 4228/6000 [01:44<00:37, 47.77it/s]"
     ]
    },
    {
     "name": "stdout",
     "output_type": "stream",
     "text": [
      "[0, 1]\n",
      "[0, 1]\n",
      "[0, 1]\n",
      "[0, 1]\n",
      "[0, 1]\n",
      "[0, 1]\n",
      "[0, 1]\n",
      "[0, 1]\n",
      "[0, 1]\n",
      "[0, 1]\n"
     ]
    },
    {
     "name": "stderr",
     "output_type": "stream",
     "text": [
      " 71%|███████   | 4238/6000 [01:45<00:41, 41.99it/s]"
     ]
    },
    {
     "name": "stdout",
     "output_type": "stream",
     "text": [
      "[0, 1]\n",
      "[0, 1]\n",
      "[0, 1]\n",
      "[0, 1]\n",
      "[0, 1]\n",
      "[0, 1]\n",
      "[0, 1]\n",
      "[0, 1]\n"
     ]
    },
    {
     "name": "stderr",
     "output_type": "stream",
     "text": [
      " 71%|███████   | 4247/6000 [01:45<00:53, 32.61it/s]"
     ]
    },
    {
     "name": "stdout",
     "output_type": "stream",
     "text": [
      "[0, 1]\n",
      "[0, 1]\n",
      "[0, 1]\n",
      "[0, 1]\n",
      "[0, 1]\n",
      "[0, 1]\n",
      "[0, 1]\n"
     ]
    },
    {
     "name": "stderr",
     "output_type": "stream",
     "text": [
      "\r",
      " 71%|███████   | 4251/6000 [01:45<00:54, 31.97it/s]"
     ]
    },
    {
     "name": "stdout",
     "output_type": "stream",
     "text": [
      "[0, 1]\n",
      "[0, 1]\n",
      "[0, 1]\n",
      "[0, 1]\n",
      "[0, 1]\n",
      "[0, 1]\n",
      "[0, 1]\n",
      "[0, 1]\n",
      "[0, 1]\n"
     ]
    },
    {
     "name": "stderr",
     "output_type": "stream",
     "text": [
      "\r",
      " 71%|███████   | 4257/6000 [01:45<00:47, 36.64it/s]"
     ]
    },
    {
     "name": "stdout",
     "output_type": "stream",
     "text": [
      "[0, 1]\n",
      "[0, 1]\n",
      "[0, 1]\n",
      "[0, 1]\n",
      "[0, 1]\n"
     ]
    },
    {
     "name": "stderr",
     "output_type": "stream",
     "text": [
      " 71%|███████   | 4267/6000 [01:45<00:51, 33.64it/s]"
     ]
    },
    {
     "name": "stdout",
     "output_type": "stream",
     "text": [
      "[0, 1]\n",
      "[0, 1]\n",
      "[0, 1]\n",
      "[0, 1]\n",
      "[0, 1]\n",
      "[0, 1]\n"
     ]
    },
    {
     "name": "stderr",
     "output_type": "stream",
     "text": [
      " 71%|███████▏  | 4275/6000 [01:46<00:52, 32.62it/s]"
     ]
    },
    {
     "name": "stdout",
     "output_type": "stream",
     "text": [
      "[0, 1]\n",
      "[0, 1]\n",
      "[0, 1]\n",
      "[0, 1]\n",
      "[0, 1]\n",
      "[0, 1]\n",
      "[0, 1]\n",
      "[0, 1]\n"
     ]
    },
    {
     "name": "stderr",
     "output_type": "stream",
     "text": [
      "\r",
      " 71%|███████▏  | 4279/6000 [01:46<01:03, 27.26it/s]"
     ]
    },
    {
     "name": "stdout",
     "output_type": "stream",
     "text": [
      "[0, 1]\n",
      "[0, 1]\n",
      "[0, 1]\n",
      "[0, 1]\n",
      "[0, 1]\n"
     ]
    },
    {
     "name": "stderr",
     "output_type": "stream",
     "text": [
      " 71%|███████▏  | 4285/6000 [01:46<01:01, 27.98it/s]"
     ]
    },
    {
     "name": "stdout",
     "output_type": "stream",
     "text": [
      "[0, 1]\n",
      "[0, 1]\n",
      "[0, 1]\n",
      "[0, 1]\n",
      "[0, 1]\n",
      "[0, 1]\n",
      "[0, 1]\n",
      "[0, 1]\n"
     ]
    },
    {
     "name": "stderr",
     "output_type": "stream",
     "text": [
      " 72%|███████▏  | 4293/6000 [01:46<00:56, 30.47it/s]"
     ]
    },
    {
     "name": "stdout",
     "output_type": "stream",
     "text": [
      "[0, 1]\n",
      "[0, 1]\n",
      "[0, 1]\n",
      "[0, 1]\n",
      "[0, 1]\n",
      "[0, 1]\n"
     ]
    },
    {
     "name": "stderr",
     "output_type": "stream",
     "text": [
      "\r",
      " 72%|███████▏  | 4297/6000 [01:46<00:58, 29.08it/s]"
     ]
    },
    {
     "name": "stdout",
     "output_type": "stream",
     "text": [
      "[0, 1]\n",
      "[0, 1]\n",
      "[0, 1]\n",
      "[0, 1]\n",
      "[0, 1]\n",
      "[0, 1]\n"
     ]
    },
    {
     "name": "stderr",
     "output_type": "stream",
     "text": [
      " 72%|███████▏  | 4305/6000 [01:47<00:56, 29.84it/s]"
     ]
    },
    {
     "name": "stdout",
     "output_type": "stream",
     "text": [
      "[0, 1]\n",
      "[0, 1]\n",
      "[0, 1]\n",
      "[0, 1]\n",
      "[0, 1]\n",
      "[0, 1]\n",
      "[0, 1]\n"
     ]
    },
    {
     "name": "stderr",
     "output_type": "stream",
     "text": [
      " 72%|███████▏  | 4314/6000 [01:47<00:51, 32.98it/s]"
     ]
    },
    {
     "name": "stdout",
     "output_type": "stream",
     "text": [
      "[0, 1]\n",
      "[0, 1]\n",
      "[0, 1]\n",
      "[0, 1]\n",
      "[0, 1]\n",
      "[0, 1]\n",
      "[0, 1]\n",
      "[0, 1]\n",
      "[0, 1]\n"
     ]
    },
    {
     "name": "stderr",
     "output_type": "stream",
     "text": [
      "\r",
      " 72%|███████▏  | 4319/6000 [01:47<00:46, 35.89it/s]"
     ]
    },
    {
     "name": "stdout",
     "output_type": "stream",
     "text": [
      "[0, 1]\n",
      "[0, 1]\n",
      "[0, 1]\n",
      "[0, 1]\n",
      "[0, 1]\n",
      "[0, 1]\n",
      "[0, 1]\n",
      "[0, 1]\n"
     ]
    },
    {
     "name": "stderr",
     "output_type": "stream",
     "text": [
      " 72%|███████▏  | 4329/6000 [01:47<00:49, 33.70it/s]"
     ]
    },
    {
     "name": "stdout",
     "output_type": "stream",
     "text": [
      "[0, 1]\n",
      "[0, 1]\n",
      "[0, 1]\n",
      "[0, 1]\n",
      "[0, 1]\n",
      "[0, 1]\n",
      "[0, 1]\n"
     ]
    },
    {
     "name": "stderr",
     "output_type": "stream",
     "text": [
      " 72%|███████▏  | 4337/6000 [01:48<00:53, 31.24it/s]"
     ]
    },
    {
     "name": "stdout",
     "output_type": "stream",
     "text": [
      "[0, 1]\n",
      "[0, 1]\n",
      "[0, 1]\n",
      "[0, 1]\n",
      "[0, 1]\n",
      "[0, 1]\n"
     ]
    },
    {
     "name": "stderr",
     "output_type": "stream",
     "text": [
      "\r",
      " 72%|███████▏  | 4342/6000 [01:48<00:47, 34.75it/s]"
     ]
    },
    {
     "name": "stdout",
     "output_type": "stream",
     "text": [
      "[0, 1]\n",
      "[0, 1]\n",
      "[0, 1]\n",
      "[0, 1]\n",
      "[0, 1]\n",
      "[0, 1]\n",
      "[0, 1]\n"
     ]
    },
    {
     "name": "stderr",
     "output_type": "stream",
     "text": [
      " 72%|███████▎  | 4350/6000 [01:48<00:49, 33.21it/s]"
     ]
    },
    {
     "name": "stdout",
     "output_type": "stream",
     "text": [
      "[0, 1]\n",
      "[0, 1]\n",
      "[0, 1]\n",
      "[0, 1]\n",
      "[0, 1]\n",
      "[0, 1]\n",
      "[0, 1]\n",
      "[0, 1]\n"
     ]
    },
    {
     "name": "stderr",
     "output_type": "stream",
     "text": [
      " 73%|███████▎  | 4359/6000 [01:48<00:45, 35.94it/s]"
     ]
    },
    {
     "name": "stdout",
     "output_type": "stream",
     "text": [
      "[0, 1]\n",
      "[0, 1]\n",
      "[0, 1]\n",
      "[0, 1]\n",
      "[0, 1]\n",
      "[0, 1]\n",
      "[0, 1]\n",
      "[0, 1]\n"
     ]
    },
    {
     "name": "stderr",
     "output_type": "stream",
     "text": [
      " 73%|███████▎  | 4367/6000 [01:49<00:51, 31.48it/s]"
     ]
    },
    {
     "name": "stdout",
     "output_type": "stream",
     "text": [
      "[0, 1]\n",
      "[0, 1]\n",
      "[0, 1]\n",
      "[0, 1]\n",
      "[0, 1]\n",
      "[0, 1]\n",
      "[0, 1]\n"
     ]
    },
    {
     "name": "stderr",
     "output_type": "stream",
     "text": [
      " 73%|███████▎  | 4375/6000 [01:49<00:48, 33.74it/s]"
     ]
    },
    {
     "name": "stdout",
     "output_type": "stream",
     "text": [
      "[0, 1]\n",
      "[0, 1]\n",
      "[0, 1]\n",
      "[0, 1]\n",
      "[0, 1]\n",
      "[0, 1]\n",
      "[0, 1]\n",
      "[0, 1]\n"
     ]
    },
    {
     "name": "stderr",
     "output_type": "stream",
     "text": [
      "\r",
      " 73%|███████▎  | 4379/6000 [01:49<00:46, 34.76it/s]"
     ]
    },
    {
     "name": "stdout",
     "output_type": "stream",
     "text": [
      "[0, 1]\n",
      "[0, 1]\n",
      "[0, 1]\n",
      "[0, 1]\n",
      "[0, 1]\n",
      "[0, 1]\n",
      "[0, 1]\n",
      "[0, 1]\n"
     ]
    },
    {
     "name": "stderr",
     "output_type": "stream",
     "text": [
      " 73%|███████▎  | 4388/6000 [01:49<00:45, 35.70it/s]"
     ]
    },
    {
     "name": "stdout",
     "output_type": "stream",
     "text": [
      "[0, 1]\n",
      "[0, 1]\n",
      "[0, 1]\n",
      "[0, 1]\n",
      "[0, 1]\n",
      "[0, 1]\n",
      "[0, 1]\n"
     ]
    },
    {
     "name": "stderr",
     "output_type": "stream",
     "text": [
      " 73%|███████▎  | 4396/6000 [01:49<00:47, 33.45it/s]"
     ]
    },
    {
     "name": "stdout",
     "output_type": "stream",
     "text": [
      "[0, 1]\n",
      "[0, 1]\n",
      "[0, 1]\n",
      "[0, 1]\n",
      "[0, 1]\n",
      "[0, 1]\n",
      "[0, 1]\n"
     ]
    },
    {
     "name": "stderr",
     "output_type": "stream",
     "text": [
      "\r",
      " 73%|███████▎  | 4402/6000 [01:49<00:44, 36.28it/s]"
     ]
    },
    {
     "name": "stdout",
     "output_type": "stream",
     "text": [
      "[0, 1]\n",
      "[0, 1]\n",
      "[0, 1]\n",
      "[0, 1]\n",
      "[0, 1]\n",
      "[0, 1]\n",
      "[0, 1]\n",
      "[0, 1]\n"
     ]
    },
    {
     "name": "stderr",
     "output_type": "stream",
     "text": [
      " 74%|███████▎  | 4411/6000 [01:50<00:42, 37.71it/s]"
     ]
    },
    {
     "name": "stdout",
     "output_type": "stream",
     "text": [
      "[0, 1]\n",
      "[0, 1]\n",
      "[0, 1]\n",
      "[0, 1]\n",
      "[0, 1]\n",
      "[0, 1]\n",
      "[0, 1]\n",
      "[0, 1]\n",
      "[0, 1]\n",
      "[0, 1]\n"
     ]
    },
    {
     "name": "stderr",
     "output_type": "stream",
     "text": [
      "\r",
      " 74%|███████▎  | 4416/6000 [01:50<00:39, 40.30it/s]"
     ]
    },
    {
     "name": "stdout",
     "output_type": "stream",
     "text": [
      "[0, 1]\n",
      "[0, 1]\n",
      "[0, 1]\n",
      "[0, 1]\n",
      "[0, 1]\n"
     ]
    },
    {
     "name": "stderr",
     "output_type": "stream",
     "text": [
      " 74%|███████▍  | 4426/6000 [01:50<00:45, 34.69it/s]"
     ]
    },
    {
     "name": "stdout",
     "output_type": "stream",
     "text": [
      "[0, 1]\n",
      "[0, 1]\n",
      "[0, 1]\n",
      "[0, 1]\n",
      "[0, 1]\n",
      "[0, 1]\n",
      "[0, 1]\n",
      "[0, 1]\n",
      "[0, 1]\n"
     ]
    },
    {
     "name": "stderr",
     "output_type": "stream",
     "text": [
      " 74%|███████▍  | 4434/6000 [01:50<00:43, 36.36it/s]"
     ]
    },
    {
     "name": "stdout",
     "output_type": "stream",
     "text": [
      "[0, 1]\n",
      "[0, 1]\n",
      "[0, 1]\n",
      "[0, 1]\n",
      "[0, 1]\n",
      "[0, 1]\n",
      "[0, 1]\n",
      "[0, 1]\n",
      "[0, 1]\n"
     ]
    },
    {
     "name": "stderr",
     "output_type": "stream",
     "text": [
      " 74%|███████▍  | 4443/6000 [01:51<00:42, 36.54it/s]"
     ]
    },
    {
     "name": "stdout",
     "output_type": "stream",
     "text": [
      "[0, 1]\n",
      "[0, 1]\n",
      "[0, 1]\n",
      "[0, 1]\n",
      "[0, 1]\n",
      "[0, 1]\n",
      "[0, 1]\n",
      "[0, 1]\n"
     ]
    },
    {
     "name": "stderr",
     "output_type": "stream",
     "text": [
      " 74%|███████▍  | 4451/6000 [01:51<00:47, 32.53it/s]"
     ]
    },
    {
     "name": "stdout",
     "output_type": "stream",
     "text": [
      "[0, 1]\n",
      "[0, 1]\n",
      "[0, 1]\n",
      "[0, 1]\n",
      "[0, 1]\n",
      "[0, 1]\n"
     ]
    },
    {
     "name": "stderr",
     "output_type": "stream",
     "text": [
      "\r",
      " 74%|███████▍  | 4455/6000 [01:51<00:48, 31.92it/s]"
     ]
    },
    {
     "name": "stdout",
     "output_type": "stream",
     "text": [
      "[0, 1]\n",
      "[0, 1]\n",
      "[0, 1]\n",
      "[0, 1]\n",
      "[0, 1]\n",
      "[0, 1]\n"
     ]
    },
    {
     "name": "stderr",
     "output_type": "stream",
     "text": [
      " 74%|███████▍  | 4464/6000 [01:51<00:47, 32.58it/s]"
     ]
    },
    {
     "name": "stdout",
     "output_type": "stream",
     "text": [
      "[0, 1]\n",
      "[0, 1]\n",
      "[0, 1]\n",
      "[0, 1]\n",
      "[0, 1]\n",
      "[0, 1]\n",
      "[0, 1]\n"
     ]
    },
    {
     "name": "stderr",
     "output_type": "stream",
     "text": [
      "\r",
      " 74%|███████▍  | 4468/6000 [01:52<01:01, 25.09it/s]"
     ]
    },
    {
     "name": "stdout",
     "output_type": "stream",
     "text": [
      "[0, 1]\n",
      "[0, 1]\n",
      "[0, 1]\n",
      "[0, 1]\n"
     ]
    },
    {
     "name": "stderr",
     "output_type": "stream",
     "text": [
      "\r",
      " 75%|███████▍  | 4474/6000 [01:52<00:53, 28.47it/s]"
     ]
    },
    {
     "name": "stdout",
     "output_type": "stream",
     "text": [
      "[0, 1]\n",
      "[0, 1]\n",
      "[0, 1]\n",
      "[0, 1]\n",
      "[0, 1]\n",
      "[0, 1]\n",
      "[0, 1]\n",
      "[0, 1]\n"
     ]
    },
    {
     "name": "stderr",
     "output_type": "stream",
     "text": [
      " 75%|███████▍  | 4482/6000 [01:52<00:47, 31.82it/s]"
     ]
    },
    {
     "name": "stdout",
     "output_type": "stream",
     "text": [
      "[0, 1]\n",
      "[0, 1]\n",
      "[0, 1]\n",
      "[0, 1]\n",
      "[0, 1]\n",
      "[0, 1]\n",
      "[0, 1]\n",
      "[0, 1]\n",
      "[0, 1]\n",
      "[0, 1]\n"
     ]
    },
    {
     "name": "stderr",
     "output_type": "stream",
     "text": [
      " 75%|███████▍  | 4493/6000 [01:52<00:39, 37.95it/s]"
     ]
    },
    {
     "name": "stdout",
     "output_type": "stream",
     "text": [
      "[0, 1]\n",
      "[0, 1]\n",
      "[0, 1]\n",
      "[0, 1]\n",
      "[0, 1]\n",
      "[0, 1]\n",
      "[0, 1]\n",
      "[0, 1]\n",
      "[0, 1]\n",
      "[0, 1]\n"
     ]
    },
    {
     "name": "stderr",
     "output_type": "stream",
     "text": [
      " 75%|███████▌  | 4503/6000 [01:52<00:40, 36.92it/s]"
     ]
    },
    {
     "name": "stdout",
     "output_type": "stream",
     "text": [
      "[0, 1]\n",
      "[0, 1]\n",
      "[0, 1]\n",
      "[0, 1]\n",
      "[0, 1]\n",
      "[0, 1]\n",
      "[0, 1]\n",
      "[0, 1]\n",
      "[0, 1]\n",
      "[0, 1]\n"
     ]
    },
    {
     "name": "stderr",
     "output_type": "stream",
     "text": [
      " 75%|███████▌  | 4512/6000 [01:53<00:41, 35.62it/s]"
     ]
    },
    {
     "name": "stdout",
     "output_type": "stream",
     "text": [
      "[0, 1]\n",
      "[0, 1]\n",
      "[0, 1]\n",
      "[0, 1]\n",
      "[0, 1]\n",
      "[0, 1]\n",
      "[0, 1]\n"
     ]
    },
    {
     "name": "stderr",
     "output_type": "stream",
     "text": [
      " 75%|███████▌  | 4523/6000 [01:53<00:39, 37.09it/s]"
     ]
    },
    {
     "name": "stdout",
     "output_type": "stream",
     "text": [
      "[0, 1]\n",
      "[0, 1]\n",
      "[0, 1]\n",
      "[0, 1]\n",
      "[0, 1]\n",
      "[0, 1]\n",
      "[0, 1]\n",
      "[0, 1]\n",
      "[0, 1]\n",
      "[0, 1]\n"
     ]
    },
    {
     "name": "stderr",
     "output_type": "stream",
     "text": [
      "\r",
      " 75%|███████▌  | 4528/6000 [01:53<00:43, 33.96it/s]"
     ]
    },
    {
     "name": "stdout",
     "output_type": "stream",
     "text": [
      "[0, 1]\n",
      "[0, 1]\n",
      "[0, 1]\n",
      "[0, 1]\n",
      "[0, 1]\n",
      "[0, 1]\n"
     ]
    },
    {
     "name": "stderr",
     "output_type": "stream",
     "text": [
      " 76%|███████▌  | 4537/6000 [01:53<00:44, 32.62it/s]"
     ]
    },
    {
     "name": "stdout",
     "output_type": "stream",
     "text": [
      "[0, 1]\n",
      "[0, 1]\n",
      "[0, 1]\n",
      "[0, 1]\n",
      "[0, 1]\n",
      "[0, 1]\n",
      "[0, 1]\n"
     ]
    },
    {
     "name": "stderr",
     "output_type": "stream",
     "text": [
      "\r",
      " 76%|███████▌  | 4542/6000 [01:54<00:45, 32.26it/s]"
     ]
    },
    {
     "name": "stdout",
     "output_type": "stream",
     "text": [
      "[0, 1]\n",
      "[0, 1]\n",
      "[0, 1]\n",
      "[0, 1]\n",
      "[0, 1]\n"
     ]
    },
    {
     "name": "stderr",
     "output_type": "stream",
     "text": [
      " 76%|███████▌  | 4550/6000 [01:54<00:50, 28.94it/s]"
     ]
    },
    {
     "name": "stdout",
     "output_type": "stream",
     "text": [
      "[0, 1]\n",
      "[0, 1]\n",
      "[0, 1]\n",
      "[0, 1]\n",
      "[0, 1]\n",
      "[0, 1]\n",
      "[0, 1]\n",
      "[0, 1]\n"
     ]
    },
    {
     "name": "stderr",
     "output_type": "stream",
     "text": [
      "\r",
      " 76%|███████▌  | 4554/6000 [01:54<00:52, 27.31it/s]"
     ]
    },
    {
     "name": "stdout",
     "output_type": "stream",
     "text": [
      "[0, 1]\n",
      "[0, 1]\n",
      "[0, 1]\n",
      "[0, 1]\n",
      "[0, 1]\n",
      "[0, 1]\n",
      "[0, 1]\n"
     ]
    },
    {
     "name": "stderr",
     "output_type": "stream",
     "text": [
      " 76%|███████▌  | 4564/6000 [01:54<00:46, 30.95it/s]"
     ]
    },
    {
     "name": "stdout",
     "output_type": "stream",
     "text": [
      "[0, 1]\n",
      "[0, 1]\n",
      "[0, 1]\n",
      "[0, 1]\n",
      "[0, 1]\n",
      "[0, 1]\n",
      "[0, 1]\n",
      "[0, 1]\n"
     ]
    },
    {
     "name": "stderr",
     "output_type": "stream",
     "text": [
      " 76%|███████▌  | 4572/6000 [01:55<00:43, 32.71it/s]"
     ]
    },
    {
     "name": "stdout",
     "output_type": "stream",
     "text": [
      "[0, 1]\n",
      "[0, 1]\n",
      "[0, 1]\n",
      "[0, 1]\n",
      "[0, 1]\n",
      "[0, 1]\n",
      "[0, 1]\n",
      "[0, 1]\n"
     ]
    },
    {
     "name": "stderr",
     "output_type": "stream",
     "text": [
      " 76%|███████▋  | 4581/6000 [01:55<00:40, 34.93it/s]"
     ]
    },
    {
     "name": "stdout",
     "output_type": "stream",
     "text": [
      "[0, 1]\n",
      "[0, 1]\n",
      "[0, 1]\n",
      "[0, 1]\n",
      "[0, 1]\n",
      "[0, 1]\n",
      "[0, 1]\n",
      "[0, 1]\n"
     ]
    },
    {
     "name": "stderr",
     "output_type": "stream",
     "text": [
      "\r",
      " 76%|███████▋  | 4589/6000 [01:55<00:34, 41.15it/s]"
     ]
    },
    {
     "name": "stdout",
     "output_type": "stream",
     "text": [
      "[0, 1]\n",
      "[0, 1]\n",
      "[0, 1]\n",
      "[0, 1]\n",
      "[0, 1]\n",
      "[0, 1]\n",
      "[0, 1]\n",
      "[0, 1]\n",
      "[0, 1]\n"
     ]
    },
    {
     "name": "stderr",
     "output_type": "stream",
     "text": [
      "\r",
      " 77%|███████▋  | 4594/6000 [01:55<00:42, 33.17it/s]"
     ]
    },
    {
     "name": "stdout",
     "output_type": "stream",
     "text": [
      "[0, 1]\n",
      "[0, 1]\n",
      "[0, 1]\n",
      "[0, 1]\n",
      "[0, 1]\n",
      "[0, 1]\n",
      "[0, 1]\n",
      "[0, 1]\n"
     ]
    },
    {
     "name": "stderr",
     "output_type": "stream",
     "text": [
      " 77%|███████▋  | 4604/6000 [01:55<00:40, 34.41it/s]"
     ]
    },
    {
     "name": "stdout",
     "output_type": "stream",
     "text": [
      "[0, 1]\n",
      "[0, 1]\n",
      "[0, 1]\n",
      "[0, 1]\n",
      "[0, 1]\n",
      "[0, 1]\n",
      "[0, 1]\n"
     ]
    },
    {
     "name": "stderr",
     "output_type": "stream",
     "text": [
      " 77%|███████▋  | 4613/6000 [01:56<00:38, 35.99it/s]"
     ]
    },
    {
     "name": "stdout",
     "output_type": "stream",
     "text": [
      "[0, 1]\n",
      "[0, 1]\n",
      "[0, 1]\n",
      "[0, 1]\n",
      "[0, 1]\n",
      "[0, 1]\n",
      "[0, 1]\n",
      "[0, 1]\n"
     ]
    },
    {
     "name": "stderr",
     "output_type": "stream",
     "text": [
      "\r",
      " 77%|███████▋  | 4617/6000 [01:56<00:38, 35.96it/s]"
     ]
    },
    {
     "name": "stdout",
     "output_type": "stream",
     "text": [
      "[0, 1]\n",
      "[0, 1]\n",
      "[0, 1]\n",
      "[0, 1]\n",
      "[0, 1]\n",
      "[0, 1]\n",
      "[0, 1]\n"
     ]
    },
    {
     "name": "stderr",
     "output_type": "stream",
     "text": [
      " 77%|███████▋  | 4625/6000 [01:56<00:42, 32.38it/s]"
     ]
    },
    {
     "name": "stdout",
     "output_type": "stream",
     "text": [
      "[0, 1]\n",
      "[0, 1]\n",
      "[0, 1]\n",
      "[0, 1]\n",
      "[0, 1]\n",
      "[0, 1]\n",
      "[0, 1]\n"
     ]
    },
    {
     "name": "stderr",
     "output_type": "stream",
     "text": [
      " 77%|███████▋  | 4634/6000 [01:56<00:45, 30.30it/s]"
     ]
    },
    {
     "name": "stdout",
     "output_type": "stream",
     "text": [
      "[0, 1]\n",
      "[0, 1]\n",
      "[0, 1]\n",
      "[0, 1]\n",
      "[0, 1]\n",
      "[0, 1]\n",
      "[0, 1]\n",
      "[0, 1]\n"
     ]
    },
    {
     "name": "stderr",
     "output_type": "stream",
     "text": [
      " 77%|███████▋  | 4648/6000 [01:57<00:32, 41.42it/s]"
     ]
    },
    {
     "name": "stdout",
     "output_type": "stream",
     "text": [
      "[0, 1]\n",
      "[0, 1]\n",
      "[0, 1]\n",
      "[0, 1]\n",
      "[0, 1]\n",
      "[0, 1]\n",
      "[0, 1]\n",
      "[0, 1]\n",
      "[0, 1]\n",
      "[0, 1]\n",
      "[0, 1]\n",
      "[0, 1]\n",
      "[0, 1]\n",
      "[0, 1]\n",
      "[0, 1]\n"
     ]
    },
    {
     "name": "stderr",
     "output_type": "stream",
     "text": [
      " 78%|███████▊  | 4659/6000 [01:57<00:30, 43.54it/s]"
     ]
    },
    {
     "name": "stdout",
     "output_type": "stream",
     "text": [
      "[0, 1]\n",
      "[0, 1]\n",
      "[0, 1]\n",
      "[0, 1]\n",
      "[0, 1]\n",
      "[0, 1]\n",
      "[0, 1]\n",
      "[0, 1]\n",
      "[0, 1]\n"
     ]
    },
    {
     "name": "stderr",
     "output_type": "stream",
     "text": [
      "\r",
      " 78%|███████▊  | 4666/6000 [01:57<00:28, 46.77it/s]"
     ]
    },
    {
     "name": "stdout",
     "output_type": "stream",
     "text": [
      "[0, 1]\n",
      "[0, 1]\n",
      "[0, 1]\n",
      "[0, 1]\n",
      "[0, 1]\n",
      "[0, 1]\n",
      "[0, 1]\n",
      "[0, 1]\n",
      "[0, 1]\n"
     ]
    },
    {
     "name": "stderr",
     "output_type": "stream",
     "text": [
      " 78%|███████▊  | 4676/6000 [01:57<00:31, 42.14it/s]"
     ]
    },
    {
     "name": "stdout",
     "output_type": "stream",
     "text": [
      "[0, 1]\n",
      "[0, 1]\n",
      "[0, 1]\n",
      "[0, 1]\n",
      "[0, 1]\n",
      "[0, 1]\n",
      "[0, 1]\n",
      "[0, 1]\n"
     ]
    },
    {
     "name": "stderr",
     "output_type": "stream",
     "text": [
      " 78%|███████▊  | 4688/6000 [01:57<00:26, 48.99it/s]"
     ]
    },
    {
     "name": "stdout",
     "output_type": "stream",
     "text": [
      "[0, 1]\n",
      "[0, 1]\n",
      "[0, 1]\n",
      "[0, 1]\n",
      "[0, 1]\n",
      "[0, 1]\n",
      "[0, 1]\n",
      "[0, 1]\n",
      "[0, 1]\n",
      "[0, 1]\n",
      "[0, 1]\n",
      "[0, 1]\n"
     ]
    },
    {
     "name": "stderr",
     "output_type": "stream",
     "text": [
      " 78%|███████▊  | 4700/6000 [01:58<00:26, 48.79it/s]"
     ]
    },
    {
     "name": "stdout",
     "output_type": "stream",
     "text": [
      "[0, 1]\n",
      "[0, 1]\n",
      "[0, 1]\n",
      "[0, 1]\n",
      "[0, 1]\n",
      "[0, 1]\n",
      "[0, 1]\n",
      "[0, 1]\n",
      "[0, 1]\n",
      "[0, 1]\n",
      "[0, 1]\n",
      "[0, 1]\n"
     ]
    },
    {
     "name": "stderr",
     "output_type": "stream",
     "text": [
      "\r",
      " 78%|███████▊  | 4706/6000 [01:58<00:26, 49.57it/s]"
     ]
    },
    {
     "name": "stdout",
     "output_type": "stream",
     "text": [
      "[0, 1]\n",
      "[0, 1]\n",
      "[0, 1]\n",
      "[0, 1]\n",
      "[0, 1]\n",
      "[0, 1]\n",
      "[0, 1]\n",
      "[0, 1]\n",
      "[0, 1]\n"
     ]
    },
    {
     "name": "stderr",
     "output_type": "stream",
     "text": [
      " 79%|███████▊  | 4717/6000 [01:58<00:32, 39.50it/s]"
     ]
    },
    {
     "name": "stdout",
     "output_type": "stream",
     "text": [
      "[0, 1]\n",
      "[0, 1]\n",
      "[0, 1]\n",
      "[0, 1]\n",
      "[0, 1]\n",
      "[0, 1]\n",
      "[0, 1]\n",
      "[0, 1]\n",
      "[0, 1]\n",
      "[0, 1]\n"
     ]
    },
    {
     "name": "stderr",
     "output_type": "stream",
     "text": [
      " 79%|███████▉  | 4728/6000 [01:58<00:28, 44.30it/s]"
     ]
    },
    {
     "name": "stdout",
     "output_type": "stream",
     "text": [
      "[0, 1]\n",
      "[0, 1]\n",
      "[0, 1]\n",
      "[0, 1]\n",
      "[0, 1]\n",
      "[0, 1]\n",
      "[0, 1]\n",
      "[0, 1]\n",
      "[0, 1]\n",
      "[0, 1]\n",
      "[0, 1]\n",
      "[0, 1]\n"
     ]
    },
    {
     "name": "stderr",
     "output_type": "stream",
     "text": [
      "\r",
      " 79%|███████▉  | 4735/6000 [01:58<00:25, 49.08it/s]"
     ]
    },
    {
     "name": "stdout",
     "output_type": "stream",
     "text": [
      "[0, 1]\n",
      "[0, 1]\n",
      "[0, 1]\n",
      "[0, 1]\n",
      "[0, 1]\n",
      "[0, 1]\n",
      "[0, 1]\n",
      "[0, 1]\n"
     ]
    },
    {
     "name": "stderr",
     "output_type": "stream",
     "text": [
      " 79%|███████▉  | 4748/6000 [01:59<00:25, 48.53it/s]"
     ]
    },
    {
     "name": "stdout",
     "output_type": "stream",
     "text": [
      "[0, 1]\n",
      "[0, 1]\n",
      "[0, 1]\n",
      "[0, 1]\n",
      "[0, 1]\n",
      "[0, 1]\n",
      "[0, 1]\n",
      "[0, 1]\n",
      "[0, 1]\n",
      "[0, 1]\n",
      "[0, 1]\n",
      "[0, 1]\n"
     ]
    },
    {
     "name": "stderr",
     "output_type": "stream",
     "text": [
      " 79%|███████▉  | 4760/6000 [01:59<00:26, 46.87it/s]"
     ]
    },
    {
     "name": "stdout",
     "output_type": "stream",
     "text": [
      "[0, 1]\n",
      "[0, 1]\n",
      "[0, 1]\n",
      "[0, 1]\n",
      "[0, 1]\n",
      "[0, 1]\n",
      "[0, 1]\n",
      "[0, 1]\n",
      "[0, 1]\n",
      "[0, 1]\n"
     ]
    },
    {
     "name": "stderr",
     "output_type": "stream",
     "text": [
      "\r",
      " 79%|███████▉  | 4765/6000 [01:59<00:34, 36.26it/s]"
     ]
    },
    {
     "name": "stdout",
     "output_type": "stream",
     "text": [
      "[0, 1]\n",
      "[0, 1]\n",
      "[0, 1]\n",
      "[0, 1]\n"
     ]
    },
    {
     "name": "stderr",
     "output_type": "stream",
     "text": [
      "\r",
      " 80%|███████▉  | 4770/6000 [01:59<00:33, 36.38it/s]"
     ]
    },
    {
     "name": "stdout",
     "output_type": "stream",
     "text": [
      "[0, 1]\n",
      "[0, 1]\n",
      "[0, 1]\n",
      "[0, 1]\n",
      "[0, 1]\n",
      "[0, 1]\n",
      "[0, 1]\n",
      "[0, 1]\n",
      "[0, 1]\n"
     ]
    },
    {
     "name": "stderr",
     "output_type": "stream",
     "text": [
      " 80%|███████▉  | 4780/6000 [02:00<00:30, 40.13it/s]"
     ]
    },
    {
     "name": "stdout",
     "output_type": "stream",
     "text": [
      "[0, 1]\n",
      "[0, 1]\n",
      "[0, 1]\n",
      "[0, 1]\n",
      "[0, 1]\n",
      "[0, 1]\n",
      "[0, 1]\n",
      "[0, 1]\n",
      "[0, 1]\n",
      "[0, 1]\n"
     ]
    },
    {
     "name": "stderr",
     "output_type": "stream",
     "text": [
      " 80%|███████▉  | 4791/6000 [02:00<00:27, 43.89it/s]"
     ]
    },
    {
     "name": "stdout",
     "output_type": "stream",
     "text": [
      "[0, 1]\n",
      "[0, 1]\n",
      "[0, 1]\n",
      "[0, 1]\n",
      "[0, 1]\n",
      "[0, 1]\n",
      "[0, 1]\n",
      "[0, 1]\n"
     ]
    },
    {
     "name": "stderr",
     "output_type": "stream",
     "text": [
      " 80%|████████  | 4802/6000 [02:00<00:27, 44.17it/s]"
     ]
    },
    {
     "name": "stdout",
     "output_type": "stream",
     "text": [
      "[0, 1]\n",
      "[0, 1]\n",
      "[0, 1]\n",
      "[0, 1]\n",
      "[0, 1]\n",
      "[0, 1]\n",
      "[0, 1]\n",
      "[0, 1]\n",
      "[0, 1]\n",
      "[0, 1]\n"
     ]
    },
    {
     "name": "stderr",
     "output_type": "stream",
     "text": [
      "\r",
      " 80%|████████  | 4807/6000 [02:00<00:34, 35.09it/s]"
     ]
    },
    {
     "name": "stdout",
     "output_type": "stream",
     "text": [
      "[0, 1]\n",
      "[0, 1]\n",
      "[0, 1]\n",
      "[0, 1]\n",
      "[0, 1]\n",
      "[0, 1]\n"
     ]
    },
    {
     "name": "stderr",
     "output_type": "stream",
     "text": [
      "\r",
      " 80%|████████  | 4813/6000 [02:00<00:30, 38.98it/s]"
     ]
    },
    {
     "name": "stdout",
     "output_type": "stream",
     "text": [
      "[0, 1]\n",
      "[0, 1]\n",
      "[0, 1]\n",
      "[0, 1]\n",
      "[0, 1]\n",
      "[0, 1]\n",
      "[0, 1]\n"
     ]
    },
    {
     "name": "stderr",
     "output_type": "stream",
     "text": [
      "\r",
      " 80%|████████  | 4818/6000 [02:01<00:35, 33.25it/s]"
     ]
    },
    {
     "name": "stdout",
     "output_type": "stream",
     "text": [
      "[0, 1]\n",
      "[0, 1]\n",
      "[0, 1]\n",
      "[0, 1]\n",
      "[0, 1]\n",
      "[0, 1]\n"
     ]
    },
    {
     "name": "stderr",
     "output_type": "stream",
     "text": [
      " 80%|████████  | 4826/6000 [02:01<00:38, 30.50it/s]"
     ]
    },
    {
     "name": "stdout",
     "output_type": "stream",
     "text": [
      "[0, 1]\n",
      "[0, 1]\n",
      "[0, 1]\n",
      "[0, 1]\n",
      "[0, 1]\n",
      "[0, 1]\n",
      "[0, 1]\n"
     ]
    },
    {
     "name": "stderr",
     "output_type": "stream",
     "text": [
      " 81%|████████  | 4835/6000 [02:01<00:33, 34.79it/s]"
     ]
    },
    {
     "name": "stdout",
     "output_type": "stream",
     "text": [
      "[0, 1]\n",
      "[0, 1]\n",
      "[0, 1]\n",
      "[0, 1]\n",
      "[0, 1]\n",
      "[0, 1]\n",
      "[0, 1]\n"
     ]
    },
    {
     "name": "stderr",
     "output_type": "stream",
     "text": [
      " 81%|████████  | 4845/6000 [02:01<00:28, 40.81it/s]"
     ]
    },
    {
     "name": "stdout",
     "output_type": "stream",
     "text": [
      "[0, 1]\n",
      "[0, 1]\n",
      "[0, 1]\n",
      "[0, 1]\n",
      "[0, 1]\n",
      "[0, 1]\n",
      "[0, 1]\n",
      "[0, 1]\n",
      "[0, 1]\n",
      "[0, 1]\n",
      "[0, 1]\n",
      "[0, 1]\n",
      "[0, 1]\n"
     ]
    },
    {
     "name": "stderr",
     "output_type": "stream",
     "text": [
      " 81%|████████  | 4858/6000 [02:02<00:25, 44.82it/s]"
     ]
    },
    {
     "name": "stdout",
     "output_type": "stream",
     "text": [
      "[0, 1]\n",
      "[0, 1]\n",
      "[0, 1]\n",
      "[0, 1]\n",
      "[0, 1]\n",
      "[0, 1]\n",
      "[0, 1]\n",
      "[0, 1]\n",
      "[0, 1]\n",
      "[0, 1]\n"
     ]
    },
    {
     "name": "stderr",
     "output_type": "stream",
     "text": [
      "\r",
      " 81%|████████  | 4863/6000 [02:02<00:27, 42.05it/s]"
     ]
    },
    {
     "name": "stdout",
     "output_type": "stream",
     "text": [
      "[0, 1]\n",
      "[0, 1]\n",
      "[0, 1]\n",
      "[0, 1]\n",
      "[0, 1]\n",
      "[0, 1]\n",
      "[0, 1]\n",
      "[0, 1]\n",
      "[0, 1]\n"
     ]
    },
    {
     "name": "stderr",
     "output_type": "stream",
     "text": [
      " 81%|████████  | 4873/6000 [02:02<00:28, 40.25it/s]"
     ]
    },
    {
     "name": "stdout",
     "output_type": "stream",
     "text": [
      "[0, 1]\n",
      "[0, 1]\n",
      "[0, 1]\n",
      "[0, 1]\n",
      "[0, 1]\n",
      "[0, 1]\n",
      "[0, 1]\n",
      "[0, 1]\n",
      "[0, 1]\n",
      "[0, 1]\n"
     ]
    },
    {
     "name": "stderr",
     "output_type": "stream",
     "text": [
      " 81%|████████▏ | 4884/6000 [02:02<00:26, 41.96it/s]"
     ]
    },
    {
     "name": "stdout",
     "output_type": "stream",
     "text": [
      "[0, 1]\n",
      "[0, 1]\n",
      "[0, 1]\n",
      "[0, 1]\n",
      "[0, 1]\n",
      "[0, 1]\n",
      "[0, 1]\n",
      "[0, 1]\n",
      "[0, 1]\n"
     ]
    },
    {
     "name": "stderr",
     "output_type": "stream",
     "text": [
      " 82%|████████▏ | 4894/6000 [02:02<00:26, 41.10it/s]"
     ]
    },
    {
     "name": "stdout",
     "output_type": "stream",
     "text": [
      "[0, 1]\n",
      "[0, 1]\n",
      "[0, 1]\n",
      "[0, 1]\n",
      "[0, 1]\n",
      "[0, 1]\n",
      "[0, 1]\n",
      "[0, 1]\n",
      "[0, 1]\n"
     ]
    },
    {
     "name": "stderr",
     "output_type": "stream",
     "text": [
      "\r",
      " 82%|████████▏ | 4899/6000 [02:03<00:25, 42.50it/s]"
     ]
    },
    {
     "name": "stdout",
     "output_type": "stream",
     "text": [
      "[0, 1]\n",
      "[0, 1]\n",
      "[0, 1]\n",
      "[0, 1]\n",
      "[0, 1]\n",
      "[0, 1]\n",
      "[0, 1]\n",
      "[0, 1]\n"
     ]
    },
    {
     "name": "stderr",
     "output_type": "stream",
     "text": [
      " 82%|████████▏ | 4910/6000 [02:03<00:28, 37.91it/s]"
     ]
    },
    {
     "name": "stdout",
     "output_type": "stream",
     "text": [
      "[0, 1]\n",
      "[0, 1]\n",
      "[0, 1]\n",
      "[0, 1]\n",
      "[0, 1]\n",
      "[0, 1]\n",
      "[0, 1]\n",
      "[0, 1]\n"
     ]
    },
    {
     "name": "stderr",
     "output_type": "stream",
     "text": [
      "\r",
      " 82%|████████▏ | 4915/6000 [02:03<00:27, 39.76it/s]"
     ]
    },
    {
     "name": "stdout",
     "output_type": "stream",
     "text": [
      "[0, 1]\n",
      "[0, 1]\n",
      "[0, 1]\n",
      "[0, 1]\n",
      "[0, 1]\n",
      "[0, 1]\n",
      "[0, 1]\n",
      "[0, 1]\n"
     ]
    },
    {
     "name": "stderr",
     "output_type": "stream",
     "text": [
      " 82%|████████▏ | 4924/6000 [02:03<00:31, 34.15it/s]"
     ]
    },
    {
     "name": "stdout",
     "output_type": "stream",
     "text": [
      "[0, 1]\n",
      "[0, 1]\n",
      "[0, 1]\n",
      "[0, 1]\n",
      "[0, 1]\n",
      "[0, 1]\n"
     ]
    },
    {
     "name": "stderr",
     "output_type": "stream",
     "text": [
      " 82%|████████▏ | 4932/6000 [02:04<00:32, 32.77it/s]"
     ]
    },
    {
     "name": "stdout",
     "output_type": "stream",
     "text": [
      "[0, 1]\n",
      "[0, 1]\n",
      "[0, 1]\n",
      "[0, 1]\n",
      "[0, 1]\n",
      "[0, 1]\n",
      "[0, 1]\n"
     ]
    },
    {
     "name": "stderr",
     "output_type": "stream",
     "text": [
      " 82%|████████▏ | 4942/6000 [02:04<00:29, 35.99it/s]"
     ]
    },
    {
     "name": "stdout",
     "output_type": "stream",
     "text": [
      "[0, 1]\n",
      "[0, 1]\n",
      "[0, 1]\n",
      "[0, 1]\n",
      "[0, 1]\n",
      "[0, 1]\n",
      "[0, 1]\n",
      "[0, 1]\n",
      "[0, 1]\n",
      "[0, 1]\n"
     ]
    },
    {
     "name": "stderr",
     "output_type": "stream",
     "text": [
      "\r",
      " 82%|████████▏ | 4946/6000 [02:04<00:31, 33.29it/s]"
     ]
    },
    {
     "name": "stdout",
     "output_type": "stream",
     "text": [
      "[0, 1]\n",
      "[0, 1]\n",
      "[0, 1]\n",
      "[0, 1]\n",
      "[0, 1]\n",
      "[0, 1]\n"
     ]
    },
    {
     "name": "stderr",
     "output_type": "stream",
     "text": [
      " 83%|████████▎ | 4954/6000 [02:04<00:34, 30.61it/s]"
     ]
    },
    {
     "name": "stdout",
     "output_type": "stream",
     "text": [
      "[0, 1]\n",
      "[0, 1]\n",
      "[0, 1]\n",
      "[0, 1]\n",
      "[0, 1]\n",
      "[0, 1]\n"
     ]
    },
    {
     "name": "stderr",
     "output_type": "stream",
     "text": [
      " 83%|████████▎ | 4962/6000 [02:04<00:31, 32.80it/s]"
     ]
    },
    {
     "name": "stdout",
     "output_type": "stream",
     "text": [
      "[0, 1]\n",
      "[0, 1]\n",
      "[0, 1]\n",
      "[0, 1]\n",
      "[0, 1]\n",
      "[0, 1]\n",
      "[0, 1]\n",
      "[0, 1]\n"
     ]
    },
    {
     "name": "stderr",
     "output_type": "stream",
     "text": [
      " 83%|████████▎ | 4971/6000 [02:05<00:29, 34.85it/s]"
     ]
    },
    {
     "name": "stdout",
     "output_type": "stream",
     "text": [
      "[0, 1]\n",
      "[0, 1]\n",
      "[0, 1]\n",
      "[0, 1]\n",
      "[0, 1]\n",
      "[0, 1]\n",
      "[0, 1]\n",
      "[0, 1]\n",
      "[0, 1]\n"
     ]
    },
    {
     "name": "stderr",
     "output_type": "stream",
     "text": [
      " 83%|████████▎ | 4979/6000 [02:05<00:28, 35.74it/s]"
     ]
    },
    {
     "name": "stdout",
     "output_type": "stream",
     "text": [
      "[0, 1]\n",
      "[0, 1]\n",
      "[0, 1]\n",
      "[0, 1]\n",
      "[0, 1]\n",
      "[0, 1]\n",
      "[0, 1]\n",
      "[0, 1]\n",
      "[0, 1]\n",
      "[0, 1]\n",
      "[0, 1]\n"
     ]
    },
    {
     "name": "stderr",
     "output_type": "stream",
     "text": [
      " 83%|████████▎ | 4987/6000 [02:05<00:27, 36.22it/s]"
     ]
    },
    {
     "name": "stdout",
     "output_type": "stream",
     "text": [
      "[0, 1]\n",
      "[0, 1]\n",
      "[0, 1]\n",
      "[0, 1]\n",
      "[0, 1]\n",
      "[0, 1]\n",
      "[0, 1]\n"
     ]
    },
    {
     "name": "stderr",
     "output_type": "stream",
     "text": [
      " 83%|████████▎ | 4995/6000 [02:05<00:29, 34.28it/s]"
     ]
    },
    {
     "name": "stdout",
     "output_type": "stream",
     "text": [
      "[0, 1]\n",
      "[0, 1]\n",
      "[0, 1]\n",
      "[0, 1]\n",
      "[0, 1]\n",
      "[0, 1]\n",
      "[0, 1]\n",
      "[0, 1]\n",
      "[0, 1]\n"
     ]
    },
    {
     "name": "stderr",
     "output_type": "stream",
     "text": [
      " 83%|████████▎ | 5004/6000 [02:06<00:30, 32.67it/s]"
     ]
    },
    {
     "name": "stdout",
     "output_type": "stream",
     "text": [
      "[0, 1]\n",
      "[0, 1]\n",
      "[0, 1]\n",
      "[0, 1]\n",
      "[0, 1]\n",
      "[0, 1]\n"
     ]
    },
    {
     "name": "stderr",
     "output_type": "stream",
     "text": [
      " 84%|████████▎ | 5013/6000 [02:06<00:27, 35.92it/s]"
     ]
    },
    {
     "name": "stdout",
     "output_type": "stream",
     "text": [
      "[0, 1]\n",
      "[0, 1]\n",
      "[0, 1]\n",
      "[0, 1]\n",
      "[0, 1]\n",
      "[0, 1]\n",
      "[0, 1]\n",
      "[0, 1]\n",
      "[0, 1]\n",
      "[0, 1]\n"
     ]
    },
    {
     "name": "stderr",
     "output_type": "stream",
     "text": [
      " 84%|████████▎ | 5024/6000 [02:06<00:23, 40.80it/s]"
     ]
    },
    {
     "name": "stdout",
     "output_type": "stream",
     "text": [
      "[0, 1]\n",
      "[0, 1]\n",
      "[0, 1]\n",
      "[0, 1]\n",
      "[0, 1]\n",
      "[0, 1]\n",
      "[0, 1]\n",
      "[0, 1]\n",
      "[0, 1]\n",
      "[0, 1]\n"
     ]
    },
    {
     "name": "stderr",
     "output_type": "stream",
     "text": [
      "\r",
      " 84%|████████▍ | 5031/6000 [02:06<00:21, 45.46it/s]"
     ]
    },
    {
     "name": "stdout",
     "output_type": "stream",
     "text": [
      "[0, 1]\n",
      "[0, 1]\n",
      "[0, 1]\n",
      "[0, 1]\n",
      "[0, 1]\n",
      "[0, 1]\n",
      "[0, 1]\n",
      "[0, 1]\n",
      "[0, 1]\n",
      "[0, 1]\n",
      "[0, 1]\n"
     ]
    },
    {
     "name": "stderr",
     "output_type": "stream",
     "text": [
      " 84%|████████▍ | 5041/6000 [02:07<00:23, 40.41it/s]"
     ]
    },
    {
     "name": "stdout",
     "output_type": "stream",
     "text": [
      "[0, 1]\n",
      "[0, 1]\n",
      "[0, 1]\n",
      "[0, 1]\n",
      "[0, 1]\n",
      "[0, 1]\n"
     ]
    },
    {
     "name": "stderr",
     "output_type": "stream",
     "text": [
      "\r",
      " 84%|████████▍ | 5046/6000 [02:07<00:27, 34.40it/s]"
     ]
    },
    {
     "name": "stdout",
     "output_type": "stream",
     "text": [
      "[0, 1]\n",
      "[0, 1]\n",
      "[0, 1]\n",
      "[0, 1]\n",
      "[0, 1]\n",
      "[0, 1]\n",
      "[0, 1]\n",
      "[0, 1]\n",
      "[0, 1]\n"
     ]
    },
    {
     "name": "stderr",
     "output_type": "stream",
     "text": [
      " 84%|████████▍ | 5056/6000 [02:07<00:24, 38.80it/s]"
     ]
    },
    {
     "name": "stdout",
     "output_type": "stream",
     "text": [
      "[0, 1]\n",
      "[0, 1]\n",
      "[0, 1]\n",
      "[0, 1]\n",
      "[0, 1]\n",
      "[0, 1]\n",
      "[0, 1]\n",
      "[0, 1]\n",
      "[0, 1]\n",
      "[0, 1]\n",
      "[0, 1]\n"
     ]
    },
    {
     "name": "stderr",
     "output_type": "stream",
     "text": [
      " 84%|████████▍ | 5068/6000 [02:07<00:21, 43.91it/s]"
     ]
    },
    {
     "name": "stdout",
     "output_type": "stream",
     "text": [
      "[0, 1]\n",
      "[0, 1]\n",
      "[0, 1]\n",
      "[0, 1]\n",
      "[0, 1]\n",
      "[0, 1]\n",
      "[0, 1]\n",
      "[0, 1]\n",
      "[0, 1]\n",
      "[0, 1]\n"
     ]
    },
    {
     "name": "stderr",
     "output_type": "stream",
     "text": [
      " 85%|████████▍ | 5079/6000 [02:07<00:19, 47.13it/s]"
     ]
    },
    {
     "name": "stdout",
     "output_type": "stream",
     "text": [
      "[0, 1]\n",
      "[0, 1]\n",
      "[0, 1]\n",
      "[0, 1]\n",
      "[0, 1]\n",
      "[0, 1]\n",
      "[0, 1]\n",
      "[0, 1]\n",
      "[0, 1]\n",
      "[0, 1]\n",
      "[0, 1]\n"
     ]
    },
    {
     "name": "stderr",
     "output_type": "stream",
     "text": [
      " 85%|████████▍ | 5090/6000 [02:08<00:18, 48.13it/s]"
     ]
    },
    {
     "name": "stdout",
     "output_type": "stream",
     "text": [
      "[0, 1]\n",
      "[0, 1]\n",
      "[0, 1]\n",
      "[0, 1]\n",
      "[0, 1]\n",
      "[0, 1]\n",
      "[0, 1]\n",
      "[0, 1]\n",
      "[0, 1]\n",
      "[0, 1]\n",
      "[0, 1]\n"
     ]
    },
    {
     "name": "stderr",
     "output_type": "stream",
     "text": [
      " 85%|████████▌ | 5102/6000 [02:08<00:17, 50.10it/s]"
     ]
    },
    {
     "name": "stdout",
     "output_type": "stream",
     "text": [
      "[0, 1]\n",
      "[0, 1]\n",
      "[0, 1]\n",
      "[0, 1]\n",
      "[0, 1]\n",
      "[0, 1]\n",
      "[0, 1]\n",
      "[0, 1]\n",
      "[0, 1]\n",
      "[0, 1]\n"
     ]
    },
    {
     "name": "stderr",
     "output_type": "stream",
     "text": [
      "\r",
      " 85%|████████▌ | 5109/6000 [02:08<00:16, 53.87it/s]"
     ]
    },
    {
     "name": "stdout",
     "output_type": "stream",
     "text": [
      "[0, 1]\n",
      "[0, 1]\n",
      "[0, 1]\n",
      "[0, 1]\n",
      "[0, 1]\n",
      "[0, 1]\n",
      "[0, 1]\n",
      "[0, 1]\n",
      "[0, 1]\n",
      "[0, 1]\n",
      "[0, 1]\n"
     ]
    },
    {
     "name": "stderr",
     "output_type": "stream",
     "text": [
      " 85%|████████▌ | 5120/6000 [02:08<00:20, 43.52it/s]"
     ]
    },
    {
     "name": "stdout",
     "output_type": "stream",
     "text": [
      "[0, 1]\n",
      "[0, 1]\n",
      "[0, 1]\n",
      "[0, 1]\n",
      "[0, 1]\n",
      "[0, 1]\n",
      "[0, 1]\n",
      "[0, 1]\n",
      "[0, 1]\n",
      "[0, 1]\n",
      "[0, 1]\n"
     ]
    },
    {
     "name": "stderr",
     "output_type": "stream",
     "text": [
      " 86%|████████▌ | 5134/6000 [02:09<00:18, 47.12it/s]"
     ]
    },
    {
     "name": "stdout",
     "output_type": "stream",
     "text": [
      "[0, 1]\n",
      "[0, 1]\n",
      "[0, 1]\n",
      "[0, 1]\n",
      "[0, 1]\n",
      "[0, 1]\n",
      "[0, 1]\n",
      "[0, 1]\n",
      "[0, 1]\n"
     ]
    },
    {
     "name": "stderr",
     "output_type": "stream",
     "text": [
      "\r",
      " 86%|████████▌ | 5139/6000 [02:09<00:19, 43.73it/s]"
     ]
    },
    {
     "name": "stdout",
     "output_type": "stream",
     "text": [
      "[0, 1]\n",
      "[0, 1]\n",
      "[0, 1]\n",
      "[0, 1]\n",
      "[0, 1]\n",
      "[0, 1]\n",
      "[0, 1]\n",
      "[0, 1]\n",
      "[0, 1]\n",
      "[0, 1]\n"
     ]
    },
    {
     "name": "stderr",
     "output_type": "stream",
     "text": [
      " 86%|████████▌ | 5150/6000 [02:09<00:19, 44.43it/s]"
     ]
    },
    {
     "name": "stdout",
     "output_type": "stream",
     "text": [
      "[0, 1]\n",
      "[0, 1]\n",
      "[0, 1]\n",
      "[0, 1]\n",
      "[0, 1]\n",
      "[0, 1]\n",
      "[0, 1]\n",
      "[0, 1]\n",
      "[0, 1]\n"
     ]
    },
    {
     "name": "stderr",
     "output_type": "stream",
     "text": [
      " 86%|████████▌ | 5160/6000 [02:09<00:18, 44.82it/s]"
     ]
    },
    {
     "name": "stdout",
     "output_type": "stream",
     "text": [
      "[0, 1]\n",
      "[0, 1]\n",
      "[0, 1]\n",
      "[0, 1]\n",
      "[0, 1]\n",
      "[0, 1]\n",
      "[0, 1]\n",
      "[0, 1]\n",
      "[0, 1]\n"
     ]
    },
    {
     "name": "stderr",
     "output_type": "stream",
     "text": [
      " 86%|████████▌ | 5171/6000 [02:09<00:17, 48.73it/s]"
     ]
    },
    {
     "name": "stdout",
     "output_type": "stream",
     "text": [
      "[0, 1]\n",
      "[0, 1]\n",
      "[0, 1]\n",
      "[0, 1]\n",
      "[0, 1]\n",
      "[0, 1]\n",
      "[0, 1]\n",
      "[0, 1]\n",
      "[0, 1]\n",
      "[0, 1]\n",
      "[0, 1]\n"
     ]
    },
    {
     "name": "stderr",
     "output_type": "stream",
     "text": [
      " 86%|████████▋ | 5181/6000 [02:10<00:18, 44.65it/s]"
     ]
    },
    {
     "name": "stdout",
     "output_type": "stream",
     "text": [
      "[0, 1]\n",
      "[0, 1]\n",
      "[0, 1]\n",
      "[0, 1]\n",
      "[0, 1]\n",
      "[0, 1]\n",
      "[0, 1]\n",
      "[0, 1]\n"
     ]
    },
    {
     "name": "stderr",
     "output_type": "stream",
     "text": [
      "\r",
      " 86%|████████▋ | 5186/6000 [02:10<00:19, 41.46it/s]"
     ]
    },
    {
     "name": "stdout",
     "output_type": "stream",
     "text": [
      "[0, 1]\n",
      "[0, 1]\n",
      "[0, 1]\n",
      "[0, 1]\n",
      "[0, 1]\n",
      "[0, 1]\n",
      "[0, 1]\n",
      "[0, 1]\n"
     ]
    },
    {
     "name": "stderr",
     "output_type": "stream",
     "text": [
      " 87%|████████▋ | 5197/6000 [02:10<00:18, 44.58it/s]"
     ]
    },
    {
     "name": "stdout",
     "output_type": "stream",
     "text": [
      "[0, 1]\n",
      "[0, 1]\n",
      "[0, 1]\n",
      "[0, 1]\n",
      "[0, 1]\n",
      "[0, 1]\n",
      "[0, 1]\n",
      "[0, 1]\n",
      "[0, 1]\n",
      "[0, 1]\n",
      "[0, 1]\n",
      "[0, 1]\n"
     ]
    },
    {
     "name": "stderr",
     "output_type": "stream",
     "text": [
      " 87%|████████▋ | 5209/6000 [02:10<00:16, 49.24it/s]"
     ]
    },
    {
     "name": "stdout",
     "output_type": "stream",
     "text": [
      "[0, 1]\n",
      "[0, 1]\n",
      "[0, 1]\n",
      "[0, 1]\n",
      "[0, 1]\n",
      "[0, 1]\n",
      "[0, 1]\n",
      "[0, 1]\n",
      "[0, 1]\n",
      "[0, 1]\n",
      "[0, 1]\n"
     ]
    },
    {
     "name": "stderr",
     "output_type": "stream",
     "text": [
      " 87%|████████▋ | 5221/6000 [02:10<00:15, 51.80it/s]"
     ]
    },
    {
     "name": "stdout",
     "output_type": "stream",
     "text": [
      "[0, 1]\n",
      "[0, 1]\n",
      "[0, 1]\n",
      "[0, 1]\n",
      "[0, 1]\n",
      "[0, 1]\n",
      "[0, 1]\n",
      "[0, 1]\n",
      "[0, 1]\n",
      "[0, 1]\n",
      "[0, 1]\n",
      "[0, 1]\n"
     ]
    },
    {
     "name": "stderr",
     "output_type": "stream",
     "text": [
      " 87%|████████▋ | 5233/6000 [02:11<00:14, 51.38it/s]"
     ]
    },
    {
     "name": "stdout",
     "output_type": "stream",
     "text": [
      "[0, 1]\n",
      "[0, 1]\n",
      "[0, 1]\n",
      "[0, 1]\n",
      "[0, 1]\n",
      "[0, 1]\n",
      "[0, 1]\n",
      "[0, 1]\n",
      "[0, 1]\n",
      "[0, 1]\n",
      "[0, 1]\n",
      "[0, 1]\n"
     ]
    },
    {
     "name": "stderr",
     "output_type": "stream",
     "text": [
      " 87%|████████▋ | 5248/6000 [02:11<00:12, 58.13it/s]"
     ]
    },
    {
     "name": "stdout",
     "output_type": "stream",
     "text": [
      "[0, 1]\n",
      "[0, 1]\n",
      "[0, 1]\n",
      "[0, 1]\n",
      "[0, 1]\n",
      "[0, 1]\n",
      "[0, 1]\n",
      "[0, 1]\n",
      "[0, 1]\n",
      "[0, 1]\n",
      "[0, 1]\n",
      "[0, 1]\n",
      "[0, 1]\n"
     ]
    },
    {
     "name": "stderr",
     "output_type": "stream",
     "text": [
      " 88%|████████▊ | 5260/6000 [02:11<00:13, 54.95it/s]"
     ]
    },
    {
     "name": "stdout",
     "output_type": "stream",
     "text": [
      "[0, 1]\n",
      "[0, 1]\n",
      "[0, 1]\n",
      "[0, 1]\n",
      "[0, 1]\n",
      "[0, 1]\n",
      "[0, 1]\n",
      "[0, 1]\n",
      "[0, 1]\n",
      "[0, 1]\n",
      "[0, 1]\n",
      "[0, 1]\n"
     ]
    },
    {
     "name": "stderr",
     "output_type": "stream",
     "text": [
      " 88%|████████▊ | 5273/6000 [02:11<00:13, 55.78it/s]"
     ]
    },
    {
     "name": "stdout",
     "output_type": "stream",
     "text": [
      "[0, 1]\n",
      "[0, 1]\n",
      "[0, 1]\n",
      "[0, 1]\n",
      "[0, 1]\n",
      "[0, 1]\n",
      "[0, 1]\n",
      "[0, 1]\n",
      "[0, 1]\n",
      "[0, 1]\n",
      "[0, 1]\n",
      "[0, 1]\n"
     ]
    },
    {
     "name": "stderr",
     "output_type": "stream",
     "text": [
      "\r",
      " 88%|████████▊ | 5280/6000 [02:11<00:12, 58.92it/s]"
     ]
    },
    {
     "name": "stdout",
     "output_type": "stream",
     "text": [
      "[0, 1]\n",
      "[0, 1]\n",
      "[0, 1]\n",
      "[0, 1]\n",
      "[0, 1]\n",
      "[0, 1]\n",
      "[0, 1]\n",
      "[0, 1]\n",
      "[0, 1]\n",
      "[0, 1]\n",
      "[0, 1]\n",
      "[0, 1]\n",
      "[0, 1]\n"
     ]
    },
    {
     "name": "stderr",
     "output_type": "stream",
     "text": [
      " 88%|████████▊ | 5293/6000 [02:12<00:12, 56.12it/s]"
     ]
    },
    {
     "name": "stdout",
     "output_type": "stream",
     "text": [
      "[0, 1]\n",
      "[0, 1]\n",
      "[0, 1]\n",
      "[0, 1]\n",
      "[0, 1]\n",
      "[0, 1]\n",
      "[0, 1]\n",
      "[0, 1]\n",
      "[0, 1]\n",
      "[0, 1]\n"
     ]
    },
    {
     "name": "stderr",
     "output_type": "stream",
     "text": [
      " 88%|████████▊ | 5305/6000 [02:12<00:13, 51.06it/s]"
     ]
    },
    {
     "name": "stdout",
     "output_type": "stream",
     "text": [
      "[0, 1]\n",
      "[0, 1]\n",
      "[0, 1]\n",
      "[0, 1]\n",
      "[0, 1]\n",
      "[0, 1]\n",
      "[0, 1]\n",
      "[0, 1]\n",
      "[0, 1]\n",
      "[0, 1]\n",
      "[0, 1]\n"
     ]
    },
    {
     "name": "stderr",
     "output_type": "stream",
     "text": [
      " 89%|████████▊ | 5317/6000 [02:12<00:13, 50.09it/s]"
     ]
    },
    {
     "name": "stdout",
     "output_type": "stream",
     "text": [
      "[0, 1]\n",
      "[0, 1]\n",
      "[0, 1]\n",
      "[0, 1]\n",
      "[0, 1]\n",
      "[0, 1]\n",
      "[0, 1]\n",
      "[0, 1]\n",
      "[0, 1]\n",
      "[0, 1]\n"
     ]
    },
    {
     "name": "stderr",
     "output_type": "stream",
     "text": [
      "\r",
      " 89%|████████▊ | 5323/6000 [02:12<00:14, 45.31it/s]"
     ]
    },
    {
     "name": "stdout",
     "output_type": "stream",
     "text": [
      "[0, 1]\n",
      "[0, 1]\n",
      "[0, 1]\n",
      "[0, 1]\n",
      "[0, 1]\n",
      "[0, 1]\n",
      "[0, 1]\n",
      "[0, 1]\n"
     ]
    },
    {
     "name": "stderr",
     "output_type": "stream",
     "text": [
      " 89%|████████▉ | 5334/6000 [02:13<00:14, 47.30it/s]"
     ]
    },
    {
     "name": "stdout",
     "output_type": "stream",
     "text": [
      "[0, 1]\n",
      "[0, 1]\n",
      "[0, 1]\n",
      "[0, 1]\n",
      "[0, 1]\n",
      "[0, 1]\n",
      "[0, 1]\n",
      "[0, 1]\n",
      "[0, 1]\n",
      "[0, 1]\n",
      "[0, 1]\n",
      "[0, 1]\n",
      "[0, 1]\n"
     ]
    },
    {
     "name": "stderr",
     "output_type": "stream",
     "text": [
      " 89%|████████▉ | 5349/6000 [02:13<00:11, 56.58it/s]"
     ]
    },
    {
     "name": "stdout",
     "output_type": "stream",
     "text": [
      "[0, 1]\n",
      "[0, 1]\n",
      "[0, 1]\n",
      "[0, 1]\n",
      "[0, 1]\n",
      "[0, 1]\n",
      "[0, 1]\n",
      "[0, 1]\n",
      "[0, 1]\n",
      "[0, 1]\n",
      "[0, 1]\n",
      "[0, 1]\n",
      "[0, 1]\n",
      "[0, 1]\n"
     ]
    },
    {
     "name": "stderr",
     "output_type": "stream",
     "text": [
      " 89%|████████▉ | 5363/6000 [02:13<00:11, 57.13it/s]"
     ]
    },
    {
     "name": "stdout",
     "output_type": "stream",
     "text": [
      "[0, 1]\n",
      "[0, 1]\n",
      "[0, 1]\n",
      "[0, 1]\n",
      "[0, 1]\n",
      "[0, 1]\n",
      "[0, 1]\n",
      "[0, 1]\n",
      "[0, 1]\n",
      "[0, 1]\n",
      "[0, 1]\n"
     ]
    },
    {
     "name": "stderr",
     "output_type": "stream",
     "text": [
      " 90%|████████▉ | 5376/6000 [02:13<00:10, 60.65it/s]"
     ]
    },
    {
     "name": "stdout",
     "output_type": "stream",
     "text": [
      "[0, 1]\n",
      "[0, 1]\n",
      "[0, 1]\n",
      "[0, 1]\n",
      "[0, 1]\n",
      "[0, 1]\n",
      "[0, 1]\n",
      "[0, 1]\n",
      "[0, 1]\n",
      "[0, 1]\n",
      "[0, 1]\n",
      "[0, 1]\n",
      "[0, 1]\n"
     ]
    },
    {
     "name": "stderr",
     "output_type": "stream",
     "text": [
      "\r",
      " 90%|████████▉ | 5383/6000 [02:13<00:11, 54.02it/s]"
     ]
    },
    {
     "name": "stdout",
     "output_type": "stream",
     "text": [
      "[0, 1]\n",
      "[0, 1]\n",
      "[0, 1]\n",
      "[0, 1]\n",
      "[0, 1]\n",
      "[0, 1]\n",
      "[0, 1]\n",
      "[0, 1]\n",
      "[0, 1]\n"
     ]
    },
    {
     "name": "stderr",
     "output_type": "stream",
     "text": [
      "\r",
      " 90%|████████▉ | 5389/6000 [02:14<00:13, 45.34it/s]"
     ]
    },
    {
     "name": "stdout",
     "output_type": "stream",
     "text": [
      "[0, 1]\n",
      "[0, 1]\n",
      "[0, 1]\n",
      "[0, 1]\n",
      "[0, 1]\n",
      "[0, 1]\n",
      "[0, 1]\n"
     ]
    },
    {
     "name": "stderr",
     "output_type": "stream",
     "text": [
      " 90%|████████▉ | 5399/6000 [02:14<00:14, 42.60it/s]"
     ]
    },
    {
     "name": "stdout",
     "output_type": "stream",
     "text": [
      "[0, 1]\n",
      "[0, 1]\n",
      "[0, 1]\n",
      "[0, 1]\n",
      "[0, 1]\n",
      "[0, 1]\n",
      "[0, 1]\n",
      "[0, 1]\n",
      "[0, 1]\n",
      "[0, 1]\n"
     ]
    },
    {
     "name": "stderr",
     "output_type": "stream",
     "text": [
      " 90%|█████████ | 5410/6000 [02:14<00:12, 46.40it/s]"
     ]
    },
    {
     "name": "stdout",
     "output_type": "stream",
     "text": [
      "[0, 1]\n",
      "[0, 1]\n",
      "[0, 1]\n",
      "[0, 1]\n",
      "[0, 1]\n",
      "[0, 1]\n",
      "[0, 1]\n",
      "[0, 1]\n",
      "[0, 1]\n",
      "[0, 1]\n",
      "[0, 1]\n",
      "[0, 1]\n"
     ]
    },
    {
     "name": "stderr",
     "output_type": "stream",
     "text": [
      " 90%|█████████ | 5420/6000 [02:14<00:13, 44.42it/s]"
     ]
    },
    {
     "name": "stdout",
     "output_type": "stream",
     "text": [
      "[0, 1]\n",
      "[0, 1]\n",
      "[0, 1]\n",
      "[0, 1]\n",
      "[0, 1]\n",
      "[0, 1]\n",
      "[0, 1]\n",
      "[0, 1]\n",
      "[0, 1]\n"
     ]
    },
    {
     "name": "stderr",
     "output_type": "stream",
     "text": [
      " 91%|█████████ | 5433/6000 [02:14<00:11, 49.91it/s]"
     ]
    },
    {
     "name": "stdout",
     "output_type": "stream",
     "text": [
      "[0, 1]\n",
      "[0, 1]\n",
      "[0, 1]\n",
      "[0, 1]\n",
      "[0, 1]\n",
      "[0, 1]\n",
      "[0, 1]\n",
      "[0, 1]\n",
      "[0, 1]\n",
      "[0, 1]\n",
      "[0, 1]\n",
      "[0, 1]\n",
      "[0, 1]\n"
     ]
    },
    {
     "name": "stderr",
     "output_type": "stream",
     "text": [
      " 91%|█████████ | 5445/6000 [02:15<00:11, 49.97it/s]"
     ]
    },
    {
     "name": "stdout",
     "output_type": "stream",
     "text": [
      "[0, 1]\n",
      "[0, 1]\n",
      "[0, 1]\n",
      "[0, 1]\n",
      "[0, 1]\n",
      "[0, 1]\n",
      "[0, 1]\n",
      "[0, 1]\n",
      "[0, 1]\n",
      "[0, 1]\n",
      "[0, 1]\n",
      "[0, 1]\n"
     ]
    },
    {
     "name": "stderr",
     "output_type": "stream",
     "text": [
      " 91%|█████████ | 5458/6000 [02:15<00:10, 53.19it/s]"
     ]
    },
    {
     "name": "stdout",
     "output_type": "stream",
     "text": [
      "[0, 1]\n",
      "[0, 1]\n",
      "[0, 1]\n",
      "[0, 1]\n",
      "[0, 1]\n",
      "[0, 1]\n",
      "[0, 1]\n",
      "[0, 1]\n",
      "[0, 1]\n",
      "[0, 1]\n",
      "[0, 1]\n"
     ]
    },
    {
     "name": "stderr",
     "output_type": "stream",
     "text": [
      " 91%|█████████ | 5471/6000 [02:15<00:09, 52.98it/s]"
     ]
    },
    {
     "name": "stdout",
     "output_type": "stream",
     "text": [
      "[0, 1]\n",
      "[0, 1]\n",
      "[0, 1]\n",
      "[0, 1]\n",
      "[0, 1]\n",
      "[0, 1]\n",
      "[0, 1]\n",
      "[0, 1]\n",
      "[0, 1]\n",
      "[0, 1]\n",
      "[0, 1]\n",
      "[0, 1]\n"
     ]
    },
    {
     "name": "stderr",
     "output_type": "stream",
     "text": [
      "\r",
      " 91%|█████████▏| 5477/6000 [02:15<00:09, 53.67it/s]"
     ]
    },
    {
     "name": "stdout",
     "output_type": "stream",
     "text": [
      "[0, 1]\n",
      "[0, 1]\n",
      "[0, 1]\n",
      "[0, 1]\n",
      "[0, 1]\n",
      "[0, 1]\n",
      "[0, 1]\n",
      "[0, 1]\n",
      "[0, 1]\n",
      "[0, 1]\n",
      "[0, 1]\n",
      "[0, 1]\n"
     ]
    },
    {
     "name": "stderr",
     "output_type": "stream",
     "text": [
      " 92%|█████████▏| 5490/6000 [02:16<00:09, 51.57it/s]"
     ]
    },
    {
     "name": "stdout",
     "output_type": "stream",
     "text": [
      "[0, 1]\n",
      "[0, 1]\n",
      "[0, 1]\n",
      "[0, 1]\n",
      "[0, 1]\n",
      "[0, 1]\n",
      "[0, 1]\n",
      "[0, 1]\n",
      "[0, 1]\n",
      "[0, 1]\n"
     ]
    },
    {
     "name": "stderr",
     "output_type": "stream",
     "text": [
      " 92%|█████████▏| 5503/6000 [02:16<00:09, 54.88it/s]"
     ]
    },
    {
     "name": "stdout",
     "output_type": "stream",
     "text": [
      "[0, 1]\n",
      "[0, 1]\n",
      "[0, 1]\n",
      "[0, 1]\n",
      "[0, 1]\n",
      "[0, 1]\n",
      "[0, 1]\n",
      "[0, 1]\n",
      "[0, 1]\n",
      "[0, 1]\n",
      "[0, 1]\n",
      "[0, 1]\n",
      "[0, 1]\n"
     ]
    },
    {
     "name": "stderr",
     "output_type": "stream",
     "text": [
      " 92%|█████████▏| 5516/6000 [02:16<00:08, 55.97it/s]"
     ]
    },
    {
     "name": "stdout",
     "output_type": "stream",
     "text": [
      "[0, 1]\n",
      "[0, 1]\n",
      "[0, 1]\n",
      "[0, 1]\n",
      "[0, 1]\n",
      "[0, 1]\n",
      "[0, 1]\n",
      "[0, 1]\n",
      "[0, 1]\n",
      "[0, 1]\n",
      "[0, 1]\n",
      "[0, 1]\n"
     ]
    },
    {
     "name": "stderr",
     "output_type": "stream",
     "text": [
      " 92%|█████████▏| 5528/6000 [02:16<00:08, 55.21it/s]"
     ]
    },
    {
     "name": "stdout",
     "output_type": "stream",
     "text": [
      "[0, 1]\n",
      "[0, 1]\n",
      "[0, 1]\n",
      "[0, 1]\n",
      "[0, 1]\n",
      "[0, 1]\n",
      "[0, 1]\n",
      "[0, 1]\n",
      "[0, 1]\n",
      "[0, 1]\n",
      "[0, 1]\n",
      "[0, 1]\n",
      "[0, 1]\n",
      "[0, 1]\n"
     ]
    },
    {
     "name": "stderr",
     "output_type": "stream",
     "text": [
      " 92%|█████████▏| 5545/6000 [02:16<00:07, 63.93it/s]"
     ]
    },
    {
     "name": "stdout",
     "output_type": "stream",
     "text": [
      "[0, 1]\n",
      "[0, 1]\n",
      "[0, 1]\n",
      "[0, 1]\n",
      "[0, 1]\n",
      "[0, 1]\n",
      "[0, 1]\n",
      "[0, 1]\n",
      "[0, 1]\n",
      "[0, 1]\n",
      "[0, 1]\n",
      "[0, 1]\n",
      "[0, 1]\n",
      "[0, 1]\n"
     ]
    },
    {
     "name": "stderr",
     "output_type": "stream",
     "text": [
      "\r",
      " 93%|█████████▎| 5552/6000 [02:17<00:08, 52.40it/s]"
     ]
    },
    {
     "name": "stdout",
     "output_type": "stream",
     "text": [
      "[0, 1]\n",
      "[0, 1]\n",
      "[0, 1]\n",
      "[0, 1]\n",
      "[0, 1]\n",
      "[0, 1]\n",
      "[0, 1]\n",
      "[0, 1]\n"
     ]
    },
    {
     "name": "stderr",
     "output_type": "stream",
     "text": [
      " 93%|█████████▎| 5564/6000 [02:17<00:08, 50.09it/s]"
     ]
    },
    {
     "name": "stdout",
     "output_type": "stream",
     "text": [
      "[0, 1]\n",
      "[0, 1]\n",
      "[0, 1]\n",
      "[0, 1]\n",
      "[0, 1]\n",
      "[0, 1]\n",
      "[0, 1]\n",
      "[0, 1]\n",
      "[0, 1]\n",
      "[0, 1]\n",
      "[0, 1]\n"
     ]
    },
    {
     "name": "stderr",
     "output_type": "stream",
     "text": [
      " 93%|█████████▎| 5576/6000 [02:17<00:08, 50.96it/s]"
     ]
    },
    {
     "name": "stdout",
     "output_type": "stream",
     "text": [
      "[0, 1]\n",
      "[0, 1]\n",
      "[0, 1]\n",
      "[0, 1]\n",
      "[0, 1]\n",
      "[0, 1]\n",
      "[0, 1]\n",
      "[0, 1]\n",
      "[0, 1]\n",
      "[0, 1]\n",
      "[0, 1]\n"
     ]
    },
    {
     "name": "stderr",
     "output_type": "stream",
     "text": [
      "\r",
      " 93%|█████████▎| 5582/6000 [02:17<00:08, 47.49it/s]"
     ]
    },
    {
     "name": "stdout",
     "output_type": "stream",
     "text": [
      "[0, 1]\n",
      "[0, 1]\n",
      "[0, 1]\n",
      "[0, 1]\n",
      "[0, 1]\n",
      "[0, 1]\n",
      "[0, 1]\n",
      "[0, 1]\n",
      "[0, 1]\n",
      "[0, 1]\n"
     ]
    },
    {
     "name": "stderr",
     "output_type": "stream",
     "text": [
      " 93%|█████████▎| 5593/6000 [02:18<00:08, 45.53it/s]"
     ]
    },
    {
     "name": "stdout",
     "output_type": "stream",
     "text": [
      "[0, 1]\n",
      "[0, 1]\n",
      "[0, 1]\n",
      "[0, 1]\n",
      "[0, 1]\n",
      "[0, 1]\n",
      "[0, 1]\n"
     ]
    },
    {
     "name": "stderr",
     "output_type": "stream",
     "text": [
      " 93%|█████████▎| 5604/6000 [02:18<00:09, 43.07it/s]"
     ]
    },
    {
     "name": "stdout",
     "output_type": "stream",
     "text": [
      "[0, 1]\n",
      "[0, 1]\n",
      "[0, 1]\n",
      "[0, 1]\n",
      "[0, 1]\n",
      "[0, 1]\n",
      "[0, 1]\n",
      "[0, 1]\n",
      "[0, 1]\n",
      "[0, 1]\n",
      "[0, 1]\n"
     ]
    },
    {
     "name": "stderr",
     "output_type": "stream",
     "text": [
      " 94%|█████████▎| 5615/6000 [02:18<00:08, 46.17it/s]"
     ]
    },
    {
     "name": "stdout",
     "output_type": "stream",
     "text": [
      "[0, 1]\n",
      "[0, 1]\n",
      "[0, 1]\n",
      "[0, 1]\n",
      "[0, 1]\n",
      "[0, 1]\n",
      "[0, 1]\n",
      "[0, 1]\n",
      "[0, 1]\n",
      "[0, 1]\n",
      "[0, 1]\n"
     ]
    },
    {
     "name": "stderr",
     "output_type": "stream",
     "text": [
      "\r",
      " 94%|█████████▎| 5620/6000 [02:18<00:08, 43.33it/s]"
     ]
    },
    {
     "name": "stdout",
     "output_type": "stream",
     "text": [
      "[0, 1]\n",
      "[0, 1]\n",
      "[0, 1]\n",
      "[0, 1]\n",
      "[0, 1]\n",
      "[0, 1]\n",
      "[0, 1]\n",
      "[0, 1]\n"
     ]
    },
    {
     "name": "stderr",
     "output_type": "stream",
     "text": [
      " 94%|█████████▍| 5631/6000 [02:18<00:08, 42.56it/s]"
     ]
    },
    {
     "name": "stdout",
     "output_type": "stream",
     "text": [
      "[0, 1]\n",
      "[0, 1]\n",
      "[0, 1]\n",
      "[0, 1]\n",
      "[0, 1]\n",
      "[0, 1]\n",
      "[0, 1]\n",
      "[0, 1]\n",
      "[0, 1]\n",
      "[0, 1]\n"
     ]
    },
    {
     "name": "stderr",
     "output_type": "stream",
     "text": [
      " 94%|█████████▍| 5641/6000 [02:19<00:08, 40.88it/s]"
     ]
    },
    {
     "name": "stdout",
     "output_type": "stream",
     "text": [
      "[0, 1]\n",
      "[0, 1]\n",
      "[0, 1]\n",
      "[0, 1]\n",
      "[0, 1]\n",
      "[0, 1]\n",
      "[0, 1]\n",
      "[0, 1]\n",
      "[0, 1]\n",
      "[0, 1]\n"
     ]
    },
    {
     "name": "stderr",
     "output_type": "stream",
     "text": [
      " 94%|█████████▍| 5652/6000 [02:19<00:07, 45.75it/s]"
     ]
    },
    {
     "name": "stdout",
     "output_type": "stream",
     "text": [
      "[0, 1]\n",
      "[0, 1]\n",
      "[0, 1]\n",
      "[0, 1]\n",
      "[0, 1]\n",
      "[0, 1]\n",
      "[0, 1]\n",
      "[0, 1]\n",
      "[0, 1]\n",
      "[0, 1]\n",
      "[0, 1]\n",
      "[0, 1]\n"
     ]
    },
    {
     "name": "stderr",
     "output_type": "stream",
     "text": [
      " 94%|█████████▍| 5663/6000 [02:19<00:07, 42.67it/s]"
     ]
    },
    {
     "name": "stdout",
     "output_type": "stream",
     "text": [
      "[0, 1]\n",
      "[0, 1]\n",
      "[0, 1]\n",
      "[0, 1]\n",
      "[0, 1]\n",
      "[0, 1]\n",
      "[0, 1]\n",
      "[0, 1]\n"
     ]
    },
    {
     "name": "stderr",
     "output_type": "stream",
     "text": [
      " 95%|█████████▍| 5674/6000 [02:19<00:07, 41.38it/s]"
     ]
    },
    {
     "name": "stdout",
     "output_type": "stream",
     "text": [
      "[0, 1]\n",
      "[0, 1]\n",
      "[0, 1]\n",
      "[0, 1]\n",
      "[0, 1]\n",
      "[0, 1]\n",
      "[0, 1]\n",
      "[0, 1]\n",
      "[0, 1]\n",
      "[0, 1]\n",
      "[0, 1]\n"
     ]
    },
    {
     "name": "stderr",
     "output_type": "stream",
     "text": [
      " 95%|█████████▍| 5684/6000 [02:20<00:06, 45.15it/s]"
     ]
    },
    {
     "name": "stdout",
     "output_type": "stream",
     "text": [
      "[0, 1]\n",
      "[0, 1]\n",
      "[0, 1]\n",
      "[0, 1]\n",
      "[0, 1]\n",
      "[0, 1]\n",
      "[0, 1]\n",
      "[0, 1]\n",
      "[0, 1]\n",
      "[0, 1]\n"
     ]
    },
    {
     "name": "stderr",
     "output_type": "stream",
     "text": [
      " 95%|█████████▍| 5696/6000 [02:20<00:06, 50.45it/s]"
     ]
    },
    {
     "name": "stdout",
     "output_type": "stream",
     "text": [
      "[0, 1]\n",
      "[0, 1]\n",
      "[0, 1]\n",
      "[0, 1]\n",
      "[0, 1]\n",
      "[0, 1]\n",
      "[0, 1]\n",
      "[0, 1]\n",
      "[0, 1]\n",
      "[0, 1]\n",
      "[0, 1]\n",
      "[0, 1]\n"
     ]
    },
    {
     "name": "stderr",
     "output_type": "stream",
     "text": [
      "\r",
      " 95%|█████████▌| 5702/6000 [02:20<00:06, 48.17it/s]"
     ]
    },
    {
     "name": "stdout",
     "output_type": "stream",
     "text": [
      "[0, 1]\n",
      "[0, 1]\n",
      "[0, 1]\n",
      "[0, 1]\n",
      "[0, 1]\n",
      "[0, 1]\n",
      "[0, 1]\n",
      "[0, 1]\n",
      "[0, 1]\n",
      "[0, 1]\n",
      "[0, 1]\n"
     ]
    },
    {
     "name": "stderr",
     "output_type": "stream",
     "text": [
      " 95%|█████████▌| 5715/6000 [02:20<00:05, 52.58it/s]"
     ]
    },
    {
     "name": "stdout",
     "output_type": "stream",
     "text": [
      "[0, 1]\n",
      "[0, 1]\n",
      "[0, 1]\n",
      "[0, 1]\n",
      "[0, 1]\n",
      "[0, 1]\n",
      "[0, 1]\n",
      "[0, 1]\n",
      "[0, 1]\n"
     ]
    },
    {
     "name": "stderr",
     "output_type": "stream",
     "text": [
      " 95%|█████████▌| 5726/6000 [02:20<00:06, 43.38it/s]"
     ]
    },
    {
     "name": "stdout",
     "output_type": "stream",
     "text": [
      "[0, 1]\n",
      "[0, 1]\n",
      "[0, 1]\n",
      "[0, 1]\n",
      "[0, 1]\n",
      "[0, 1]\n",
      "[0, 1]\n",
      "[0, 1]\n",
      "[0, 1]\n",
      "[0, 1]\n"
     ]
    },
    {
     "name": "stderr",
     "output_type": "stream",
     "text": [
      " 96%|█████████▌| 5738/6000 [02:21<00:05, 49.54it/s]"
     ]
    },
    {
     "name": "stdout",
     "output_type": "stream",
     "text": [
      "[0, 1]\n",
      "[0, 1]\n",
      "[0, 1]\n",
      "[0, 1]\n",
      "[0, 1]\n",
      "[0, 1]\n",
      "[0, 1]\n",
      "[0, 1]\n",
      "[0, 1]\n",
      "[0, 1]\n",
      "[0, 1]\n",
      "[0, 1]\n",
      "[0, 1]\n"
     ]
    },
    {
     "name": "stderr",
     "output_type": "stream",
     "text": [
      " 96%|█████████▌| 5751/6000 [02:21<00:04, 54.72it/s]"
     ]
    },
    {
     "name": "stdout",
     "output_type": "stream",
     "text": [
      "[0, 1]\n",
      "[0, 1]\n",
      "[0, 1]\n",
      "[0, 1]\n",
      "[0, 1]\n",
      "[0, 1]\n",
      "[0, 1]\n",
      "[0, 1]\n",
      "[0, 1]\n",
      "[0, 1]\n",
      "[0, 1]\n",
      "[0, 1]\n",
      "[0, 1]\n"
     ]
    },
    {
     "name": "stderr",
     "output_type": "stream",
     "text": [
      "\r",
      " 96%|█████████▌| 5757/6000 [02:21<00:04, 54.34it/s]"
     ]
    },
    {
     "name": "stdout",
     "output_type": "stream",
     "text": [
      "[0, 1]\n",
      "[0, 1]\n",
      "[0, 1]\n",
      "[0, 1]\n",
      "[0, 1]\n",
      "[0, 1]\n",
      "[0, 1]\n",
      "[0, 1]\n",
      "[0, 1]\n",
      "[0, 1]\n"
     ]
    },
    {
     "name": "stderr",
     "output_type": "stream",
     "text": [
      " 96%|█████████▌| 5769/6000 [02:21<00:04, 51.89it/s]"
     ]
    },
    {
     "name": "stdout",
     "output_type": "stream",
     "text": [
      "[0, 1]\n",
      "[0, 1]\n",
      "[0, 1]\n",
      "[0, 1]\n",
      "[0, 1]\n",
      "[0, 1]\n",
      "[0, 1]\n",
      "[0, 1]\n",
      "[0, 1]\n",
      "[0, 1]\n",
      "[0, 1]\n",
      "[0, 1]\n",
      "[0, 1]\n"
     ]
    },
    {
     "name": "stderr",
     "output_type": "stream",
     "text": [
      " 96%|█████████▋| 5782/6000 [02:22<00:04, 52.62it/s]"
     ]
    },
    {
     "name": "stdout",
     "output_type": "stream",
     "text": [
      "[0, 1]\n",
      "[0, 1]\n",
      "[0, 1]\n",
      "[0, 1]\n",
      "[0, 1]\n",
      "[0, 1]\n",
      "[0, 1]\n",
      "[0, 1]\n",
      "[0, 1]\n",
      "[0, 1]\n"
     ]
    },
    {
     "name": "stderr",
     "output_type": "stream",
     "text": [
      " 97%|█████████▋| 5794/6000 [02:22<00:04, 51.17it/s]"
     ]
    },
    {
     "name": "stdout",
     "output_type": "stream",
     "text": [
      "[0, 1]\n",
      "[0, 1]\n",
      "[0, 1]\n",
      "[0, 1]\n",
      "[0, 1]\n",
      "[0, 1]\n",
      "[0, 1]\n",
      "[0, 1]\n",
      "[0, 1]\n",
      "[0, 1]\n",
      "[0, 1]\n"
     ]
    },
    {
     "name": "stderr",
     "output_type": "stream",
     "text": [
      " 97%|█████████▋| 5806/6000 [02:22<00:03, 52.33it/s]"
     ]
    },
    {
     "name": "stdout",
     "output_type": "stream",
     "text": [
      "[0, 1]\n",
      "[0, 1]\n",
      "[0, 1]\n",
      "[0, 1]\n",
      "[0, 1]\n",
      "[0, 1]\n",
      "[0, 1]\n",
      "[0, 1]\n",
      "[0, 1]\n",
      "[0, 1]\n",
      "[0, 1]\n",
      "[0, 1]\n",
      "[0, 1]\n"
     ]
    },
    {
     "name": "stderr",
     "output_type": "stream",
     "text": [
      "\r",
      " 97%|█████████▋| 5813/6000 [02:22<00:03, 54.91it/s]"
     ]
    },
    {
     "name": "stdout",
     "output_type": "stream",
     "text": [
      "[0, 1]\n",
      "[0, 1]\n",
      "[0, 1]\n",
      "[0, 1]\n",
      "[0, 1]\n",
      "[0, 1]\n",
      "[0, 1]\n",
      "[0, 1]\n",
      "[0, 1]\n"
     ]
    },
    {
     "name": "stderr",
     "output_type": "stream",
     "text": [
      " 97%|█████████▋| 5824/6000 [02:22<00:04, 41.81it/s]"
     ]
    },
    {
     "name": "stdout",
     "output_type": "stream",
     "text": [
      "[0, 1]\n",
      "[0, 1]\n",
      "[0, 1]\n",
      "[0, 1]\n",
      "[0, 1]\n",
      "[0, 1]\n",
      "[0, 1]\n",
      "[0, 1]\n"
     ]
    },
    {
     "name": "stderr",
     "output_type": "stream",
     "text": [
      " 97%|█████████▋| 5837/6000 [02:23<00:03, 49.26it/s]"
     ]
    },
    {
     "name": "stdout",
     "output_type": "stream",
     "text": [
      "[0, 1]\n",
      "[0, 1]\n",
      "[0, 1]\n",
      "[0, 1]\n",
      "[0, 1]\n",
      "[0, 1]\n",
      "[0, 1]\n",
      "[0, 1]\n",
      "[0, 1]\n",
      "[0, 1]\n",
      "[0, 1]\n",
      "[0, 1]\n",
      "[0, 1]\n"
     ]
    },
    {
     "name": "stderr",
     "output_type": "stream",
     "text": [
      " 98%|█████████▊| 5850/6000 [02:23<00:02, 50.58it/s]"
     ]
    },
    {
     "name": "stdout",
     "output_type": "stream",
     "text": [
      "[0, 1]\n",
      "[0, 1]\n",
      "[0, 1]\n",
      "[0, 1]\n",
      "[0, 1]\n",
      "[0, 1]\n",
      "[0, 1]\n",
      "[0, 1]\n",
      "[0, 1]\n",
      "[0, 1]\n",
      "[0, 1]\n",
      "[0, 1]\n"
     ]
    },
    {
     "name": "stderr",
     "output_type": "stream",
     "text": [
      " 98%|█████████▊| 5862/6000 [02:23<00:02, 51.06it/s]"
     ]
    },
    {
     "name": "stdout",
     "output_type": "stream",
     "text": [
      "[0, 1]\n",
      "[0, 1]\n",
      "[0, 1]\n",
      "[0, 1]\n",
      "[0, 1]\n",
      "[0, 1]\n",
      "[0, 1]\n",
      "[0, 1]\n",
      "[0, 1]\n",
      "[0, 1]\n",
      "[0, 1]\n"
     ]
    },
    {
     "name": "stderr",
     "output_type": "stream",
     "text": [
      "\r",
      " 98%|█████████▊| 5868/6000 [02:23<00:02, 47.19it/s]"
     ]
    },
    {
     "name": "stdout",
     "output_type": "stream",
     "text": [
      "[0, 1]\n",
      "[0, 1]\n",
      "[0, 1]\n",
      "[0, 1]\n",
      "[0, 1]\n",
      "[0, 1]\n",
      "[0, 1]\n",
      "[0, 1]\n",
      "[0, 1]\n",
      "[0, 1]\n",
      "[0, 1]\n"
     ]
    },
    {
     "name": "stderr",
     "output_type": "stream",
     "text": [
      " 98%|█████████▊| 5880/6000 [02:24<00:02, 48.60it/s]"
     ]
    },
    {
     "name": "stdout",
     "output_type": "stream",
     "text": [
      "[0, 1]\n",
      "[0, 1]\n",
      "[0, 1]\n",
      "[0, 1]\n",
      "[0, 1]\n",
      "[0, 1]\n",
      "[0, 1]\n",
      "[0, 1]\n",
      "[0, 1]\n"
     ]
    },
    {
     "name": "stderr",
     "output_type": "stream",
     "text": [
      "\r",
      " 98%|█████████▊| 5885/6000 [02:24<00:03, 33.79it/s]"
     ]
    },
    {
     "name": "stdout",
     "output_type": "stream",
     "text": [
      "[0, 1]\n",
      "[0, 1]\n",
      "[0, 1]\n"
     ]
    },
    {
     "name": "stderr",
     "output_type": "stream",
     "text": [
      " 98%|█████████▊| 5896/6000 [02:24<00:02, 40.17it/s]"
     ]
    },
    {
     "name": "stdout",
     "output_type": "stream",
     "text": [
      "[0, 1]\n",
      "[0, 1]\n",
      "[0, 1]\n",
      "[0, 1]\n",
      "[0, 1]\n",
      "[0, 1]\n",
      "[0, 1]\n",
      "[0, 1]\n",
      "[0, 1]\n",
      "[0, 1]\n",
      "[0, 1]\n"
     ]
    },
    {
     "name": "stderr",
     "output_type": "stream",
     "text": [
      " 98%|█████████▊| 5907/6000 [02:24<00:02, 45.76it/s]"
     ]
    },
    {
     "name": "stdout",
     "output_type": "stream",
     "text": [
      "[0, 1]\n",
      "[0, 1]\n",
      "[0, 1]\n",
      "[0, 1]\n",
      "[0, 1]\n",
      "[0, 1]\n",
      "[0, 1]\n",
      "[0, 1]\n",
      "[0, 1]\n",
      "[0, 1]\n",
      "[0, 1]\n",
      "[0, 1]\n"
     ]
    },
    {
     "name": "stderr",
     "output_type": "stream",
     "text": [
      " 99%|█████████▊| 5921/6000 [02:24<00:01, 52.01it/s]"
     ]
    },
    {
     "name": "stdout",
     "output_type": "stream",
     "text": [
      "[0, 1]\n",
      "[0, 1]\n",
      "[0, 1]\n",
      "[0, 1]\n",
      "[0, 1]\n",
      "[0, 1]\n",
      "[0, 1]\n",
      "[0, 1]\n",
      "[0, 1]\n",
      "[0, 1]\n",
      "[0, 1]\n",
      "[0, 1]\n",
      "[0, 1]\n"
     ]
    },
    {
     "name": "stderr",
     "output_type": "stream",
     "text": [
      "\r",
      " 99%|█████████▉| 5927/6000 [02:25<00:01, 48.12it/s]"
     ]
    },
    {
     "name": "stdout",
     "output_type": "stream",
     "text": [
      "[0, 1]\n",
      "[0, 1]\n",
      "[0, 1]\n",
      "[0, 1]\n",
      "[0, 1]\n",
      "[0, 1]\n",
      "[0, 1]\n",
      "[0, 1]\n",
      "[0, 1]\n",
      "[0, 1]\n"
     ]
    },
    {
     "name": "stderr",
     "output_type": "stream",
     "text": [
      " 99%|█████████▉| 5939/6000 [02:25<00:01, 50.42it/s]"
     ]
    },
    {
     "name": "stdout",
     "output_type": "stream",
     "text": [
      "[0, 1]\n",
      "[0, 1]\n",
      "[0, 1]\n",
      "[0, 1]\n",
      "[0, 1]\n",
      "[0, 1]\n",
      "[0, 1]\n",
      "[0, 1]\n",
      "[0, 1]\n",
      "[0, 1]\n"
     ]
    },
    {
     "name": "stderr",
     "output_type": "stream",
     "text": [
      "\r",
      " 99%|█████████▉| 5945/6000 [02:25<00:01, 43.10it/s]"
     ]
    },
    {
     "name": "stdout",
     "output_type": "stream",
     "text": [
      "[0, 1]\n",
      "[0, 1]\n",
      "[0, 1]\n",
      "[0, 1]\n",
      "[0, 1]\n",
      "[0, 1]\n",
      "[0, 1]\n",
      "[0, 1]\n",
      "[0, 1]\n"
     ]
    },
    {
     "name": "stderr",
     "output_type": "stream",
     "text": [
      " 99%|█████████▉| 5957/6000 [02:25<00:00, 45.30it/s]"
     ]
    },
    {
     "name": "stdout",
     "output_type": "stream",
     "text": [
      "[0, 1]\n",
      "[0, 1]\n",
      "[0, 1]\n",
      "[0, 1]\n",
      "[0, 1]\n",
      "[0, 1]\n",
      "[0, 1]\n",
      "[0, 1]\n",
      "[0, 1]\n"
     ]
    },
    {
     "name": "stderr",
     "output_type": "stream",
     "text": [
      " 99%|█████████▉| 5967/6000 [02:25<00:00, 42.63it/s]"
     ]
    },
    {
     "name": "stdout",
     "output_type": "stream",
     "text": [
      "[0, 1]\n",
      "[0, 1]\n",
      "[0, 1]\n",
      "[0, 1]\n",
      "[0, 1]\n",
      "[0, 1]\n",
      "[0, 1]\n",
      "[0, 1]\n"
     ]
    },
    {
     "name": "stderr",
     "output_type": "stream",
     "text": [
      "\r",
      "100%|█████████▉| 5972/6000 [02:26<00:00, 41.81it/s]"
     ]
    },
    {
     "name": "stdout",
     "output_type": "stream",
     "text": [
      "[0, 1]\n",
      "[0, 1]\n",
      "[0, 1]\n",
      "[0, 1]\n",
      "[0, 1]\n",
      "[0, 1]\n",
      "[0, 1]\n",
      "[0, 1]\n"
     ]
    },
    {
     "name": "stderr",
     "output_type": "stream",
     "text": [
      "100%|█████████▉| 5983/6000 [02:26<00:00, 45.17it/s]"
     ]
    },
    {
     "name": "stdout",
     "output_type": "stream",
     "text": [
      "[0, 1]\n",
      "[0, 1]\n",
      "[0, 1]\n",
      "[0, 1]\n",
      "[0, 1]\n",
      "[0, 1]\n",
      "[0, 1]\n",
      "[0, 1]\n",
      "[0, 1]\n",
      "[0, 1]\n",
      "[0, 1]\n",
      "[0, 1]\n"
     ]
    },
    {
     "name": "stderr",
     "output_type": "stream",
     "text": [
      "100%|█████████▉| 5994/6000 [02:26<00:00, 48.38it/s]"
     ]
    },
    {
     "name": "stdout",
     "output_type": "stream",
     "text": [
      "[0, 1]\n",
      "[0, 1]\n",
      "[0, 1]\n",
      "[0, 1]\n",
      "[0, 1]\n",
      "[0, 1]\n",
      "[0, 1]\n",
      "[0, 1]\n",
      "[0, 1]\n",
      "[0, 1]\n",
      "[0, 1]\n",
      "[0, 1]\n",
      "[0, 1]\n"
     ]
    },
    {
     "name": "stderr",
     "output_type": "stream",
     "text": [
      "100%|██████████| 6000/6000 [02:26<00:00, 40.91it/s]\n"
     ]
    },
    {
     "name": "stdout",
     "output_type": "stream",
     "text": [
      "('train data size', 6000)\n"
     ]
    }
   ],
   "source": [
    "training_data = create_train_data()\n",
    "\n",
    "#testing_data = create_test_data()\n",
    "\n",
    "# print (\"train data size\", len(training_data))\n",
    "\n",
    "#print (\"test data size\", len(testing_data))\n"
   ]
  },
  {
   "cell_type": "code",
   "execution_count": 24,
   "metadata": {
    "collapsed": false
   },
   "outputs": [
    {
     "name": "stdout",
     "output_type": "stream",
     "text": [
      "('shape', (200, 2))\n",
      "[1 0]\n"
     ]
    }
   ],
   "source": [
    "train_data = np.load(TRAIN_DATA)\n",
    "\n",
    "print('shape', np.shape(train_data))\n",
    "\n",
    "#print(train_data[0][0])\n",
    "print(train_data[0][1])"
   ]
  },
  {
   "cell_type": "code",
   "execution_count": null,
   "metadata": {
    "collapsed": true
   },
   "outputs": [],
   "source": []
  }
 ],
 "metadata": {
  "anaconda-cloud": {},
  "kernelspec": {
   "display_name": "Python [default]",
   "language": "python",
   "name": "python2"
  },
  "language_info": {
   "codemirror_mode": {
    "name": "ipython",
    "version": 2
   },
   "file_extension": ".py",
   "mimetype": "text/x-python",
   "name": "python",
   "nbconvert_exporter": "python",
   "pygments_lexer": "ipython2",
   "version": "2.7.12"
  }
 },
 "nbformat": 4,
 "nbformat_minor": 0
}
